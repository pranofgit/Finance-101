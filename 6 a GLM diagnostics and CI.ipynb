{
 "cells": [
  {
   "cell_type": "code",
   "execution_count": 474,
   "id": "8bdcecbe-c9ab-4b58-99ae-aca41695a36e",
   "metadata": {
    "tags": []
   },
   "outputs": [],
   "source": [
    "library(ISLR) \n",
    "# Ref: ISLR Chap4, Lab"
   ]
  },
  {
   "cell_type": "raw",
   "id": "2892902b-2027-4d5d-a598-4ba3c70fb13b",
   "metadata": {},
   "source": [
    "data(Smarket)\n",
    "\n",
    "# data split if considering like a times series\n",
    "\n",
    "#set.seed(42)\n",
    "#sample =sample.int(n = nrow(Smarket), size = floor(.8*nrow(Smarket)), replace = FALSE)\n",
    "train = Smarket[!Smarket$Year==2005,]\n",
    "test  = Smarket[Smarket$Year==2005,]"
   ]
  },
  {
   "cell_type": "code",
   "execution_count": 475,
   "id": "2e531529-5156-43e0-bdd0-035766ab2d94",
   "metadata": {},
   "outputs": [],
   "source": [
    "data(Smarket)\n",
    "\n",
    "# data split : random (probably not of practical use for test in this case)\n",
    "\n",
    "set.seed(42)\n",
    "sample =sample.int(n = nrow(Smarket), size = floor(.8*nrow(Smarket)), replace = FALSE)\n",
    "train = Smarket[sample,]\n",
    "test  = Smarket[-sample,]"
   ]
  },
  {
   "cell_type": "markdown",
   "id": "6f7adb61-681b-4f99-804a-893afe5e0a8e",
   "metadata": {},
   "source": [
    "#### Data introduction"
   ]
  },
  {
   "cell_type": "code",
   "execution_count": 476,
   "id": "741f3a50-665f-4ef6-89cc-8da2d9c0bb08",
   "metadata": {
    "tags": []
   },
   "outputs": [
    {
     "data": {
      "text/plain": [
       "      Year           Lag1               Lag2                Lag3          \n",
       " Min.   :2001   Min.   :-4.92200   Min.   :-4.922000   Min.   :-4.922000  \n",
       " 1st Qu.:2002   1st Qu.:-0.62925   1st Qu.:-0.629250   1st Qu.:-0.633750  \n",
       " Median :2003   Median : 0.04150   Median : 0.020000   Median : 0.046000  \n",
       " Mean   :2003   Mean   : 0.01289   Mean   : 0.005641   Mean   :-0.004998  \n",
       " 3rd Qu.:2004   3rd Qu.: 0.59000   3rd Qu.: 0.607000   3rd Qu.: 0.585000  \n",
       " Max.   :2005   Max.   : 5.73300   Max.   : 5.408000   Max.   : 5.408000  \n",
       "      Lag4               Lag5              Volume           Today         \n",
       " Min.   :-4.31800   Min.   :-4.92200   Min.   :0.3561   Min.   :-4.92200  \n",
       " 1st Qu.:-0.62075   1st Qu.:-0.62300   1st Qu.:1.2565   1st Qu.:-0.64025  \n",
       " Median : 0.04700   Median : 0.04400   Median :1.4401   Median : 0.04150  \n",
       " Mean   : 0.02887   Mean   : 0.02467   Mean   :1.4873   Mean   :-0.01089  \n",
       " 3rd Qu.: 0.61425   3rd Qu.: 0.59300   3rd Qu.:1.6596   3rd Qu.: 0.59075  \n",
       " Max.   : 5.73300   Max.   : 5.73300   Max.   :3.1525   Max.   : 5.73300  \n",
       " Direction \n",
       " Down:480  \n",
       " Up  :520  \n",
       "           \n",
       "           \n",
       "           \n",
       "           "
      ]
     },
     "metadata": {},
     "output_type": "display_data"
    }
   ],
   "source": [
    "summary(train)"
   ]
  },
  {
   "cell_type": "code",
   "execution_count": 477,
   "id": "8c76f980-13ec-451f-a286-4a25ff93b692",
   "metadata": {},
   "outputs": [
    {
     "name": "stdout",
     "output_type": "stream",
     "text": [
      "[1] 2003 2002 2005 2001 2004\n"
     ]
    },
    {
     "data": {
      "text/plain": [
       "\n",
       "2001 2002 2003 2004 2005 \n",
       " 193  190  194  206  217 "
      ]
     },
     "metadata": {},
     "output_type": "display_data"
    }
   ],
   "source": [
    "# convert year to factor\n",
    "print(unique(train$Year))\n",
    "\n",
    "train$Year=as.factor(train$Year)\n",
    "test$Year=as.factor(test$Year)\n",
    "table(train$Year) #balanced category"
   ]
  },
  {
   "cell_type": "code",
   "execution_count": 478,
   "id": "6c7e8413-8805-41de-a246-55e4d8a611ab",
   "metadata": {
    "tags": []
   },
   "outputs": [
    {
     "data": {
      "text/html": [
       "<table>\n",
       "<thead><tr><th></th><th scope=col>Year</th><th scope=col>Lag1</th><th scope=col>Lag2</th><th scope=col>Lag3</th><th scope=col>Lag4</th><th scope=col>Lag5</th><th scope=col>Volume</th><th scope=col>Today</th><th scope=col>Direction</th></tr></thead>\n",
       "<tbody>\n",
       "\t<tr><th scope=row>561</th><td>2003   </td><td> 0.123 </td><td> 0.274 </td><td>-0.505 </td><td> 2.612 </td><td> 1.214 </td><td>1.49400</td><td>-0.186 </td><td>Down   </td></tr>\n",
       "\t<tr><th scope=row>321</th><td>2002   </td><td>-0.710 </td><td>-0.620 </td><td>-1.541 </td><td> 0.062 </td><td>-0.142 </td><td>1.37320</td><td>-0.152 </td><td>Down   </td></tr>\n",
       "\t<tr><th scope=row>1177</th><td>2005   </td><td> 0.046 </td><td>-0.328 </td><td>-0.754 </td><td>-0.074 </td><td> 0.796 </td><td>2.07934</td><td> 0.829 </td><td>Up     </td></tr>\n",
       "\t<tr><th scope=row>1098</th><td>2005   </td><td> 0.018 </td><td> 0.385 </td><td>-0.151 </td><td> 0.466 </td><td> 1.002 </td><td>1.68100</td><td>-0.340 </td><td>Down   </td></tr>\n",
       "\t<tr><th scope=row>1170</th><td>2005   </td><td> 1.262 </td><td>-0.292 </td><td> 0.103 </td><td> 0.986 </td><td>-0.319 </td><td>1.93209</td><td> 0.241 </td><td>Up     </td></tr>\n",
       "\t<tr><th scope=row>634</th><td>2003   </td><td> 0.951 </td><td>-1.462 </td><td> 1.181 </td><td>-1.243 </td><td>-0.633 </td><td>1.43970</td><td> 0.051 </td><td>Up     </td></tr>\n",
       "</tbody>\n",
       "</table>\n"
      ],
      "text/latex": [
       "\\begin{tabular}{r|lllllllll}\n",
       "  & Year & Lag1 & Lag2 & Lag3 & Lag4 & Lag5 & Volume & Today & Direction\\\\\n",
       "\\hline\n",
       "\t561 & 2003    &  0.123  &  0.274  & -0.505  &  2.612  &  1.214  & 1.49400 & -0.186  & Down   \\\\\n",
       "\t321 & 2002    & -0.710  & -0.620  & -1.541  &  0.062  & -0.142  & 1.37320 & -0.152  & Down   \\\\\n",
       "\t1177 & 2005    &  0.046  & -0.328  & -0.754  & -0.074  &  0.796  & 2.07934 &  0.829  & Up     \\\\\n",
       "\t1098 & 2005    &  0.018  &  0.385  & -0.151  &  0.466  &  1.002  & 1.68100 & -0.340  & Down   \\\\\n",
       "\t1170 & 2005    &  1.262  & -0.292  &  0.103  &  0.986  & -0.319  & 1.93209 &  0.241  & Up     \\\\\n",
       "\t634 & 2003    &  0.951  & -1.462  &  1.181  & -1.243  & -0.633  & 1.43970 &  0.051  & Up     \\\\\n",
       "\\end{tabular}\n"
      ],
      "text/markdown": [
       "\n",
       "| <!--/--> | Year | Lag1 | Lag2 | Lag3 | Lag4 | Lag5 | Volume | Today | Direction |\n",
       "|---|---|---|---|---|---|---|---|---|---|\n",
       "| 561 | 2003    |  0.123  |  0.274  | -0.505  |  2.612  |  1.214  | 1.49400 | -0.186  | Down    |\n",
       "| 321 | 2002    | -0.710  | -0.620  | -1.541  |  0.062  | -0.142  | 1.37320 | -0.152  | Down    |\n",
       "| 1177 | 2005    |  0.046  | -0.328  | -0.754  | -0.074  |  0.796  | 2.07934 |  0.829  | Up      |\n",
       "| 1098 | 2005    |  0.018  |  0.385  | -0.151  |  0.466  |  1.002  | 1.68100 | -0.340  | Down    |\n",
       "| 1170 | 2005    |  1.262  | -0.292  |  0.103  |  0.986  | -0.319  | 1.93209 |  0.241  | Up      |\n",
       "| 634 | 2003    |  0.951  | -1.462  |  1.181  | -1.243  | -0.633  | 1.43970 |  0.051  | Up      |\n",
       "\n"
      ],
      "text/plain": [
       "     Year Lag1   Lag2   Lag3   Lag4   Lag5   Volume  Today  Direction\n",
       "561  2003  0.123  0.274 -0.505  2.612  1.214 1.49400 -0.186 Down     \n",
       "321  2002 -0.710 -0.620 -1.541  0.062 -0.142 1.37320 -0.152 Down     \n",
       "1177 2005  0.046 -0.328 -0.754 -0.074  0.796 2.07934  0.829 Up       \n",
       "1098 2005  0.018  0.385 -0.151  0.466  1.002 1.68100 -0.340 Down     \n",
       "1170 2005  1.262 -0.292  0.103  0.986 -0.319 1.93209  0.241 Up       \n",
       "634  2003  0.951 -1.462  1.181 -1.243 -0.633 1.43970  0.051 Up       "
      ]
     },
     "metadata": {},
     "output_type": "display_data"
    }
   ],
   "source": [
    "head(train)"
   ]
  },
  {
   "cell_type": "code",
   "execution_count": 479,
   "id": "160f635e-28ba-4bb0-8ded-c77f0ee0cadc",
   "metadata": {
    "tags": []
   },
   "outputs": [
    {
     "data": {
      "text/html": [
       "<ol class=list-inline>\n",
       "\t<li>'Year'</li>\n",
       "\t<li>'Lag1'</li>\n",
       "\t<li>'Lag2'</li>\n",
       "\t<li>'Lag3'</li>\n",
       "\t<li>'Lag4'</li>\n",
       "\t<li>'Lag5'</li>\n",
       "\t<li>'Volume'</li>\n",
       "\t<li>'Today'</li>\n",
       "\t<li>'Direction'</li>\n",
       "</ol>\n"
      ],
      "text/latex": [
       "\\begin{enumerate*}\n",
       "\\item 'Year'\n",
       "\\item 'Lag1'\n",
       "\\item 'Lag2'\n",
       "\\item 'Lag3'\n",
       "\\item 'Lag4'\n",
       "\\item 'Lag5'\n",
       "\\item 'Volume'\n",
       "\\item 'Today'\n",
       "\\item 'Direction'\n",
       "\\end{enumerate*}\n"
      ],
      "text/markdown": [
       "1. 'Year'\n",
       "2. 'Lag1'\n",
       "3. 'Lag2'\n",
       "4. 'Lag3'\n",
       "5. 'Lag4'\n",
       "6. 'Lag5'\n",
       "7. 'Volume'\n",
       "8. 'Today'\n",
       "9. 'Direction'\n",
       "\n",
       "\n"
      ],
      "text/plain": [
       "[1] \"Year\"      \"Lag1\"      \"Lag2\"      \"Lag3\"      \"Lag4\"      \"Lag5\"     \n",
       "[7] \"Volume\"    \"Today\"     \"Direction\""
      ]
     },
     "metadata": {},
     "output_type": "display_data"
    }
   ],
   "source": [
    "names(train)"
   ]
  },
  {
   "cell_type": "code",
   "execution_count": 480,
   "id": "16639259-3cb2-490c-9721-77c35173128f",
   "metadata": {
    "tags": []
   },
   "outputs": [
    {
     "data": {
      "text/html": [
       "<ol class=list-inline>\n",
       "\t<li>1000</li>\n",
       "\t<li>9</li>\n",
       "</ol>\n"
      ],
      "text/latex": [
       "\\begin{enumerate*}\n",
       "\\item 1000\n",
       "\\item 9\n",
       "\\end{enumerate*}\n"
      ],
      "text/markdown": [
       "1. 1000\n",
       "2. 9\n",
       "\n",
       "\n"
      ],
      "text/plain": [
       "[1] 1000    9"
      ]
     },
     "metadata": {},
     "output_type": "display_data"
    }
   ],
   "source": [
    "dim(train)"
   ]
  },
  {
   "cell_type": "code",
   "execution_count": 481,
   "id": "3345605d-1617-4d10-8e36-985e36d9f861",
   "metadata": {
    "tags": []
   },
   "outputs": [
    {
     "data": {
      "text/html": [
       "<dl class=dl-horizontal>\n",
       "\t<dt>Year</dt>\n",
       "\t\t<dd>'factor'</dd>\n",
       "\t<dt>Lag1</dt>\n",
       "\t\t<dd>'numeric'</dd>\n",
       "\t<dt>Lag2</dt>\n",
       "\t\t<dd>'numeric'</dd>\n",
       "\t<dt>Lag3</dt>\n",
       "\t\t<dd>'numeric'</dd>\n",
       "\t<dt>Lag4</dt>\n",
       "\t\t<dd>'numeric'</dd>\n",
       "\t<dt>Lag5</dt>\n",
       "\t\t<dd>'numeric'</dd>\n",
       "\t<dt>Volume</dt>\n",
       "\t\t<dd>'numeric'</dd>\n",
       "\t<dt>Today</dt>\n",
       "\t\t<dd>'numeric'</dd>\n",
       "\t<dt>Direction</dt>\n",
       "\t\t<dd>'factor'</dd>\n",
       "</dl>\n"
      ],
      "text/latex": [
       "\\begin{description*}\n",
       "\\item[Year] 'factor'\n",
       "\\item[Lag1] 'numeric'\n",
       "\\item[Lag2] 'numeric'\n",
       "\\item[Lag3] 'numeric'\n",
       "\\item[Lag4] 'numeric'\n",
       "\\item[Lag5] 'numeric'\n",
       "\\item[Volume] 'numeric'\n",
       "\\item[Today] 'numeric'\n",
       "\\item[Direction] 'factor'\n",
       "\\end{description*}\n"
      ],
      "text/markdown": [
       "Year\n",
       ":   'factor'Lag1\n",
       ":   'numeric'Lag2\n",
       ":   'numeric'Lag3\n",
       ":   'numeric'Lag4\n",
       ":   'numeric'Lag5\n",
       ":   'numeric'Volume\n",
       ":   'numeric'Today\n",
       ":   'numeric'Direction\n",
       ":   'factor'\n",
       "\n"
      ],
      "text/plain": [
       "     Year      Lag1      Lag2      Lag3      Lag4      Lag5    Volume     Today \n",
       " \"factor\" \"numeric\" \"numeric\" \"numeric\" \"numeric\" \"numeric\" \"numeric\" \"numeric\" \n",
       "Direction \n",
       " \"factor\" "
      ]
     },
     "metadata": {},
     "output_type": "display_data"
    }
   ],
   "source": [
    "sapply(train,class)"
   ]
  },
  {
   "cell_type": "code",
   "execution_count": 482,
   "id": "45fedecf-85de-4bc5-bcef-d2c700756fed",
   "metadata": {},
   "outputs": [
    {
     "data": {
      "text/html": [
       "<table>\n",
       "<thead><tr><th></th><th scope=col>Year</th><th scope=col>Lag1</th><th scope=col>Lag2</th><th scope=col>Lag3</th><th scope=col>Lag4</th><th scope=col>Lag5</th><th scope=col>Volume</th><th scope=col>Today</th><th scope=col>Direction</th></tr></thead>\n",
       "<tbody>\n",
       "\t<tr><th scope=row>561</th><td>2003   </td><td> 0.123 </td><td> 0.274 </td><td>-0.505 </td><td> 2.612 </td><td> 1.214 </td><td>1.49400</td><td>-0.186 </td><td>Down   </td></tr>\n",
       "\t<tr><th scope=row>321</th><td>2002   </td><td>-0.710 </td><td>-0.620 </td><td>-1.541 </td><td> 0.062 </td><td>-0.142 </td><td>1.37320</td><td>-0.152 </td><td>Down   </td></tr>\n",
       "\t<tr><th scope=row>1177</th><td>2005   </td><td> 0.046 </td><td>-0.328 </td><td>-0.754 </td><td>-0.074 </td><td> 0.796 </td><td>2.07934</td><td> 0.829 </td><td>Up     </td></tr>\n",
       "\t<tr><th scope=row>1098</th><td>2005   </td><td> 0.018 </td><td> 0.385 </td><td>-0.151 </td><td> 0.466 </td><td> 1.002 </td><td>1.68100</td><td>-0.340 </td><td>Down   </td></tr>\n",
       "\t<tr><th scope=row>1170</th><td>2005   </td><td> 1.262 </td><td>-0.292 </td><td> 0.103 </td><td> 0.986 </td><td>-0.319 </td><td>1.93209</td><td> 0.241 </td><td>Up     </td></tr>\n",
       "\t<tr><th scope=row>634</th><td>2003   </td><td> 0.951 </td><td>-1.462 </td><td> 1.181 </td><td>-1.243 </td><td>-0.633 </td><td>1.43970</td><td> 0.051 </td><td>Up     </td></tr>\n",
       "</tbody>\n",
       "</table>\n"
      ],
      "text/latex": [
       "\\begin{tabular}{r|lllllllll}\n",
       "  & Year & Lag1 & Lag2 & Lag3 & Lag4 & Lag5 & Volume & Today & Direction\\\\\n",
       "\\hline\n",
       "\t561 & 2003    &  0.123  &  0.274  & -0.505  &  2.612  &  1.214  & 1.49400 & -0.186  & Down   \\\\\n",
       "\t321 & 2002    & -0.710  & -0.620  & -1.541  &  0.062  & -0.142  & 1.37320 & -0.152  & Down   \\\\\n",
       "\t1177 & 2005    &  0.046  & -0.328  & -0.754  & -0.074  &  0.796  & 2.07934 &  0.829  & Up     \\\\\n",
       "\t1098 & 2005    &  0.018  &  0.385  & -0.151  &  0.466  &  1.002  & 1.68100 & -0.340  & Down   \\\\\n",
       "\t1170 & 2005    &  1.262  & -0.292  &  0.103  &  0.986  & -0.319  & 1.93209 &  0.241  & Up     \\\\\n",
       "\t634 & 2003    &  0.951  & -1.462  &  1.181  & -1.243  & -0.633  & 1.43970 &  0.051  & Up     \\\\\n",
       "\\end{tabular}\n"
      ],
      "text/markdown": [
       "\n",
       "| <!--/--> | Year | Lag1 | Lag2 | Lag3 | Lag4 | Lag5 | Volume | Today | Direction |\n",
       "|---|---|---|---|---|---|---|---|---|---|\n",
       "| 561 | 2003    |  0.123  |  0.274  | -0.505  |  2.612  |  1.214  | 1.49400 | -0.186  | Down    |\n",
       "| 321 | 2002    | -0.710  | -0.620  | -1.541  |  0.062  | -0.142  | 1.37320 | -0.152  | Down    |\n",
       "| 1177 | 2005    |  0.046  | -0.328  | -0.754  | -0.074  |  0.796  | 2.07934 |  0.829  | Up      |\n",
       "| 1098 | 2005    |  0.018  |  0.385  | -0.151  |  0.466  |  1.002  | 1.68100 | -0.340  | Down    |\n",
       "| 1170 | 2005    |  1.262  | -0.292  |  0.103  |  0.986  | -0.319  | 1.93209 |  0.241  | Up      |\n",
       "| 634 | 2003    |  0.951  | -1.462  |  1.181  | -1.243  | -0.633  | 1.43970 |  0.051  | Up      |\n",
       "\n"
      ],
      "text/plain": [
       "     Year Lag1   Lag2   Lag3   Lag4   Lag5   Volume  Today  Direction\n",
       "561  2003  0.123  0.274 -0.505  2.612  1.214 1.49400 -0.186 Down     \n",
       "321  2002 -0.710 -0.620 -1.541  0.062 -0.142 1.37320 -0.152 Down     \n",
       "1177 2005  0.046 -0.328 -0.754 -0.074  0.796 2.07934  0.829 Up       \n",
       "1098 2005  0.018  0.385 -0.151  0.466  1.002 1.68100 -0.340 Down     \n",
       "1170 2005  1.262 -0.292  0.103  0.986 -0.319 1.93209  0.241 Up       \n",
       "634  2003  0.951 -1.462  1.181 -1.243 -0.633 1.43970  0.051 Up       "
      ]
     },
     "metadata": {},
     "output_type": "display_data"
    }
   ],
   "source": [
    "head(train)"
   ]
  },
  {
   "cell_type": "code",
   "execution_count": 483,
   "id": "ab3b5ca0-7ec6-46a3-ad22-9b6891c2624e",
   "metadata": {},
   "outputs": [
    {
     "data": {
      "text/plain": [
       "\n",
       "Down   Up \n",
       " 480  520 "
      ]
     },
     "metadata": {},
     "output_type": "display_data"
    }
   ],
   "source": [
    "# check if target balanced or not\n",
    "table(train$Direction) #balanced"
   ]
  },
  {
   "cell_type": "markdown",
   "id": "c54a1c1d-fc20-4076-abf2-4e16e539134f",
   "metadata": {},
   "source": [
    "### EDA"
   ]
  },
  {
   "cell_type": "code",
   "execution_count": 484,
   "id": "b5bccd42-b014-4f1a-86b0-70a251748ba9",
   "metadata": {
    "tags": []
   },
   "outputs": [
    {
     "data": {
      "text/html": [
       "0"
      ],
      "text/latex": [
       "0"
      ],
      "text/markdown": [
       "0"
      ],
      "text/plain": [
       "[1] 0"
      ]
     },
     "metadata": {},
     "output_type": "display_data"
    }
   ],
   "source": [
    "sum(is.na(train))"
   ]
  },
  {
   "cell_type": "code",
   "execution_count": 485,
   "id": "39e274c4-c133-429d-9abe-e8e2f31aa1b3",
   "metadata": {
    "tags": []
   },
   "outputs": [
    {
     "data": {
      "text/html": [
       "<table>\n",
       "<thead><tr><th></th><th scope=col>Lag1</th><th scope=col>Lag2</th><th scope=col>Lag3</th><th scope=col>Lag4</th><th scope=col>Lag5</th><th scope=col>Volume</th><th scope=col>Today</th></tr></thead>\n",
       "<tbody>\n",
       "\t<tr><th scope=row>Lag1</th><td> 1.000000000</td><td>-0.023131408</td><td>-0.05528086 </td><td> 0.004403006</td><td>-0.016864768</td><td> 0.053119007</td><td>-0.076821578</td></tr>\n",
       "\t<tr><th scope=row>Lag2</th><td>-0.023131408</td><td> 1.000000000</td><td>-0.03258889 </td><td>-0.018317731</td><td>-0.009196027</td><td>-0.034617999</td><td>-0.023199050</td></tr>\n",
       "\t<tr><th scope=row>Lag3</th><td>-0.055280858</td><td>-0.032588887</td><td> 1.00000000 </td><td> 0.015604362</td><td>-0.013598872</td><td>-0.042969842</td><td>-0.055568326</td></tr>\n",
       "\t<tr><th scope=row>Lag4</th><td> 0.004403006</td><td>-0.018317731</td><td> 0.01560436 </td><td> 1.000000000</td><td> 0.004935103</td><td>-0.033991438</td><td> 0.011880382</td></tr>\n",
       "\t<tr><th scope=row>Lag5</th><td>-0.016864768</td><td>-0.009196027</td><td>-0.01359887 </td><td> 0.004935103</td><td> 1.000000000</td><td>-0.006390319</td><td>-0.007291422</td></tr>\n",
       "\t<tr><th scope=row>Volume</th><td> 0.053119007</td><td>-0.034617999</td><td>-0.04296984 </td><td>-0.033991438</td><td>-0.006390319</td><td> 1.000000000</td><td> 0.028736823</td></tr>\n",
       "\t<tr><th scope=row>Today</th><td>-0.076821578</td><td>-0.023199050</td><td>-0.05556833 </td><td> 0.011880382</td><td>-0.007291422</td><td> 0.028736823</td><td> 1.000000000</td></tr>\n",
       "</tbody>\n",
       "</table>\n"
      ],
      "text/latex": [
       "\\begin{tabular}{r|lllllll}\n",
       "  & Lag1 & Lag2 & Lag3 & Lag4 & Lag5 & Volume & Today\\\\\n",
       "\\hline\n",
       "\tLag1 &  1.000000000 & -0.023131408 & -0.05528086  &  0.004403006 & -0.016864768 &  0.053119007 & -0.076821578\\\\\n",
       "\tLag2 & -0.023131408 &  1.000000000 & -0.03258889  & -0.018317731 & -0.009196027 & -0.034617999 & -0.023199050\\\\\n",
       "\tLag3 & -0.055280858 & -0.032588887 &  1.00000000  &  0.015604362 & -0.013598872 & -0.042969842 & -0.055568326\\\\\n",
       "\tLag4 &  0.004403006 & -0.018317731 &  0.01560436  &  1.000000000 &  0.004935103 & -0.033991438 &  0.011880382\\\\\n",
       "\tLag5 & -0.016864768 & -0.009196027 & -0.01359887  &  0.004935103 &  1.000000000 & -0.006390319 & -0.007291422\\\\\n",
       "\tVolume &  0.053119007 & -0.034617999 & -0.04296984  & -0.033991438 & -0.006390319 &  1.000000000 &  0.028736823\\\\\n",
       "\tToday & -0.076821578 & -0.023199050 & -0.05556833  &  0.011880382 & -0.007291422 &  0.028736823 &  1.000000000\\\\\n",
       "\\end{tabular}\n"
      ],
      "text/markdown": [
       "\n",
       "| <!--/--> | Lag1 | Lag2 | Lag3 | Lag4 | Lag5 | Volume | Today |\n",
       "|---|---|---|---|---|---|---|---|\n",
       "| Lag1 |  1.000000000 | -0.023131408 | -0.05528086  |  0.004403006 | -0.016864768 |  0.053119007 | -0.076821578 |\n",
       "| Lag2 | -0.023131408 |  1.000000000 | -0.03258889  | -0.018317731 | -0.009196027 | -0.034617999 | -0.023199050 |\n",
       "| Lag3 | -0.055280858 | -0.032588887 |  1.00000000  |  0.015604362 | -0.013598872 | -0.042969842 | -0.055568326 |\n",
       "| Lag4 |  0.004403006 | -0.018317731 |  0.01560436  |  1.000000000 |  0.004935103 | -0.033991438 |  0.011880382 |\n",
       "| Lag5 | -0.016864768 | -0.009196027 | -0.01359887  |  0.004935103 |  1.000000000 | -0.006390319 | -0.007291422 |\n",
       "| Volume |  0.053119007 | -0.034617999 | -0.04296984  | -0.033991438 | -0.006390319 |  1.000000000 |  0.028736823 |\n",
       "| Today | -0.076821578 | -0.023199050 | -0.05556833  |  0.011880382 | -0.007291422 |  0.028736823 |  1.000000000 |\n",
       "\n"
      ],
      "text/plain": [
       "       Lag1         Lag2         Lag3        Lag4         Lag5        \n",
       "Lag1    1.000000000 -0.023131408 -0.05528086  0.004403006 -0.016864768\n",
       "Lag2   -0.023131408  1.000000000 -0.03258889 -0.018317731 -0.009196027\n",
       "Lag3   -0.055280858 -0.032588887  1.00000000  0.015604362 -0.013598872\n",
       "Lag4    0.004403006 -0.018317731  0.01560436  1.000000000  0.004935103\n",
       "Lag5   -0.016864768 -0.009196027 -0.01359887  0.004935103  1.000000000\n",
       "Volume  0.053119007 -0.034617999 -0.04296984 -0.033991438 -0.006390319\n",
       "Today  -0.076821578 -0.023199050 -0.05556833  0.011880382 -0.007291422\n",
       "       Volume       Today       \n",
       "Lag1    0.053119007 -0.076821578\n",
       "Lag2   -0.034617999 -0.023199050\n",
       "Lag3   -0.042969842 -0.055568326\n",
       "Lag4   -0.033991438  0.011880382\n",
       "Lag5   -0.006390319 -0.007291422\n",
       "Volume  1.000000000  0.028736823\n",
       "Today   0.028736823  1.000000000"
      ]
     },
     "metadata": {},
     "output_type": "display_data"
    }
   ],
   "source": [
    "corr=cor(train[,c(-1,-9)])\n",
    "corr\n",
    "\n",
    "#use pipe\n",
    "#library(purrr)\n",
    "#library(tidyr)\n",
    "# correlation\n",
    "#ds %>%\n",
    "#    keep(is.numeric)%>%\n",
    "#    cor"
   ]
  },
  {
   "cell_type": "code",
   "execution_count": 486,
   "id": "c0e47e75-77e1-4696-9ede-d8876b4b366b",
   "metadata": {
    "tags": []
   },
   "outputs": [
    {
     "data": {
      "image/png": "[encoded data removed]",
      "text/plain": [
       "Plot with title \"\""
      ]
     },
     "metadata": {},
     "output_type": "display_data"
    }
   ],
   "source": [
    "# plot correlation matrix\n",
    "library(corrplot)\n",
    "corrplot(corr,method='pie',addCoef.col = \"black\") #pie, circle, ellipse, shade, color, "
   ]
  },
  {
   "cell_type": "markdown",
   "id": "f12cc0b5-3e8d-4697-9d41-008ae6c297e5",
   "metadata": {},
   "source": [
    "We see that features are not correlated amongst themselves. "
   ]
  },
  {
   "cell_type": "raw",
   "id": "3949a776-b357-46a4-8ee2-78a24303cea7",
   "metadata": {
    "tags": []
   },
   "source": [
    "#basic histogram\n",
    "par(mfrow=c(3,3))\n",
    "h=apply(train[,c(-1,-9)],2,hist)"
   ]
  },
  {
   "cell_type": "code",
   "execution_count": 487,
   "id": "3ae98d8c-b5a4-4fa9-a750-cca6820f1049",
   "metadata": {
    "tags": []
   },
   "outputs": [
    {
     "data": {
      "image/png": "[encoded data removed]",
      "text/plain": [
       "plot without title"
      ]
     },
     "metadata": {},
     "output_type": "display_data"
    }
   ],
   "source": [
    "# ggplot histogram\n",
    "library(purrr)\n",
    "library(tidyr) #to use gather-- columns as variables -- value\n",
    "library(ggplot2)\n",
    "\n",
    "train %>% # this operator works like a pipe\n",
    "  keep(is.numeric) %>% \n",
    "  gather() %>% \n",
    "  ggplot(aes(value)) +\n",
    "    facet_wrap(~ key, scales = \"free\") + # like par(mfrow), wrt keys\n",
    "    geom_histogram(bins = 20, color=\"black\", fill =\"#CFB87C\", alpha = 0.3) +\n",
    "    geom_density(alpha=1, fill=\"#FF6666\") +\n",
    "    theme_bw() # can use colors of factors (remove is.numeric condition then use)"
   ]
  },
  {
   "cell_type": "code",
   "execution_count": 488,
   "id": "87f3e9a8-3520-41fc-983c-40803f0bac39",
   "metadata": {},
   "outputs": [],
   "source": [
    "# boxplots\n"
   ]
  },
  {
   "cell_type": "code",
   "execution_count": 489,
   "id": "9d1df595-0263-4601-a1a8-908ab6a3e9cf",
   "metadata": {},
   "outputs": [],
   "source": [
    "# outliers"
   ]
  },
  {
   "cell_type": "code",
   "execution_count": 490,
   "id": "da4776c7-ed6e-4589-9b49-cb338a22e385",
   "metadata": {
    "tags": []
   },
   "outputs": [
    {
     "data": {
      "image/png": "[encoded data removed]",
      "text/plain": [
       "plot without title"
      ]
     },
     "metadata": {},
     "output_type": "display_data"
    }
   ],
   "source": [
    "# pairwise scatterplot\n",
    "#plot(train)\n",
    "pairs(train, main = \"Market data\", pch = 21, bg = c(\"#CFB87C\"))"
   ]
  },
  {
   "cell_type": "code",
   "execution_count": null,
   "id": "2d654785-5e8d-4a57-a68f-5dab877386f8",
   "metadata": {
    "collapsed": true,
    "jupyter": {
     "outputs_hidden": true
    },
    "tags": []
   },
   "outputs": [],
   "source": []
  },
  {
   "cell_type": "code",
   "execution_count": null,
   "id": "b189dbc4-80d2-4b50-ac29-258ca929e9a6",
   "metadata": {
    "collapsed": true,
    "jupyter": {
     "outputs_hidden": true
    }
   },
   "outputs": [],
   "source": []
  },
  {
   "cell_type": "markdown",
   "id": "2522a33e-f3be-4787-a79a-0e5e85835bf3",
   "metadata": {},
   "source": [
    "### GLM basics"
   ]
  },
  {
   "cell_type": "code",
   "execution_count": 491,
   "id": "73b53595-a114-4dbc-9b3a-b664841d88ac",
   "metadata": {},
   "outputs": [
    {
     "name": "stderr",
     "output_type": "stream",
     "text": [
      "Warning message:\n",
      "\"glm.fit: algorithm did not converge\"Warning message:\n",
      "\"glm.fit: fitted probabilities numerically 0 or 1 occurred\""
     ]
    }
   ],
   "source": [
    "# note: 'Today'- perfectly categorises the 'Direction'\n",
    "# hence we get an error\n",
    "# It is also expected- as both features tell about the same output.\n",
    "reg=glm(Direction~Today,train,family=binomial)"
   ]
  },
  {
   "cell_type": "code",
   "execution_count": 492,
   "id": "82376766-3c29-4d55-8613-b2a4c3060fcb",
   "metadata": {
    "tags": []
   },
   "outputs": [
    {
     "data": {
      "text/plain": [
       "\n",
       "Call:\n",
       "glm(formula = Direction ~ . - Today, family = binomial, data = train)\n",
       "\n",
       "Deviance Residuals: \n",
       "    Min       1Q   Median       3Q      Max  \n",
       "-1.4359  -1.2233   0.9892   1.1024   1.6439  \n",
       "\n",
       "Coefficients:\n",
       "            Estimate Std. Error z value Pr(>|z|)  \n",
       "(Intercept) -0.02326    0.31817  -0.073   0.9417  \n",
       "Year2002    -0.20307    0.21192  -0.958   0.3379  \n",
       "Year2003     0.30701    0.20931   1.467   0.1424  \n",
       "Year2004     0.34948    0.20818   1.679   0.0932 .\n",
       "Year2005     0.47423    0.25819   1.837   0.0662 .\n",
       "Lag1        -0.11789    0.05841  -2.018   0.0436 *\n",
       "Lag2        -0.06919    0.05808  -1.191   0.2336  \n",
       "Lag3        -0.01534    0.05879  -0.261   0.7941  \n",
       "Lag4         0.03262    0.05796   0.563   0.5736  \n",
       "Lag5         0.05420    0.05786   0.937   0.3489  \n",
       "Volume      -0.06261    0.23178  -0.270   0.7871  \n",
       "---\n",
       "Signif. codes:  0 '***' 0.001 '**' 0.01 '*' 0.05 '.' 0.1 ' ' 1\n",
       "\n",
       "(Dispersion parameter for binomial family taken to be 1)\n",
       "\n",
       "    Null deviance: 1384.7  on 999  degrees of freedom\n",
       "Residual deviance: 1364.7  on 989  degrees of freedom\n",
       "AIC: 1386.7\n",
       "\n",
       "Number of Fisher Scoring iterations: 4\n"
      ]
     },
     "metadata": {},
     "output_type": "display_data"
    }
   ],
   "source": [
    "# fit on everything but 'Today'\n",
    "reg=glm(Direction~.-Today,train,family=binomial)\n",
    "summary(reg)"
   ]
  },
  {
   "cell_type": "code",
   "execution_count": 493,
   "id": "0434c4c0-dc52-4ab8-83c5-6a0c2b64c3a2",
   "metadata": {
    "tags": []
   },
   "outputs": [
    {
     "data": {
      "text/html": [
       "<table>\n",
       "<thead><tr><th></th><th scope=col>Estimate</th><th scope=col>Std. Error</th><th scope=col>z value</th><th scope=col>Pr(&gt;|z|)</th></tr></thead>\n",
       "<tbody>\n",
       "\t<tr><th scope=row>(Intercept)</th><td>-0.02326281</td><td>0.31816782 </td><td>-0.07311491</td><td>0.94171467 </td></tr>\n",
       "\t<tr><th scope=row>Year2002</th><td>-0.20306959</td><td>0.21191986 </td><td>-0.95823763</td><td>0.33794295 </td></tr>\n",
       "\t<tr><th scope=row>Year2003</th><td> 0.30701384</td><td>0.20931150 </td><td> 1.46677958</td><td>0.14243603 </td></tr>\n",
       "\t<tr><th scope=row>Year2004</th><td> 0.34947625</td><td>0.20817961 </td><td> 1.67872468</td><td>0.09320571 </td></tr>\n",
       "\t<tr><th scope=row>Year2005</th><td> 0.47422791</td><td>0.25819162 </td><td> 1.83672848</td><td>0.06624999 </td></tr>\n",
       "\t<tr><th scope=row>Lag1</th><td>-0.11789225</td><td>0.05841264 </td><td>-2.01826604</td><td>0.04356356 </td></tr>\n",
       "\t<tr><th scope=row>Lag2</th><td>-0.06919258</td><td>0.05808478 </td><td>-1.19123421</td><td>0.23356165 </td></tr>\n",
       "\t<tr><th scope=row>Lag3</th><td>-0.01534160</td><td>0.05878968 </td><td>-0.26095731</td><td>0.79412543 </td></tr>\n",
       "\t<tr><th scope=row>Lag4</th><td> 0.03262252</td><td>0.05796463 </td><td> 0.56280036</td><td>0.57357084 </td></tr>\n",
       "\t<tr><th scope=row>Lag5</th><td> 0.05419853</td><td>0.05786200 </td><td> 0.93668613</td><td>0.34892003 </td></tr>\n",
       "\t<tr><th scope=row>Volume</th><td>-0.06261081</td><td>0.23178135 </td><td>-0.27012879</td><td>0.78706118 </td></tr>\n",
       "</tbody>\n",
       "</table>\n"
      ],
      "text/latex": [
       "\\begin{tabular}{r|llll}\n",
       "  & Estimate & Std. Error & z value & Pr(>\\textbar{}z\\textbar{})\\\\\n",
       "\\hline\n",
       "\t(Intercept) & -0.02326281 & 0.31816782  & -0.07311491 & 0.94171467 \\\\\n",
       "\tYear2002 & -0.20306959 & 0.21191986  & -0.95823763 & 0.33794295 \\\\\n",
       "\tYear2003 &  0.30701384 & 0.20931150  &  1.46677958 & 0.14243603 \\\\\n",
       "\tYear2004 &  0.34947625 & 0.20817961  &  1.67872468 & 0.09320571 \\\\\n",
       "\tYear2005 &  0.47422791 & 0.25819162  &  1.83672848 & 0.06624999 \\\\\n",
       "\tLag1 & -0.11789225 & 0.05841264  & -2.01826604 & 0.04356356 \\\\\n",
       "\tLag2 & -0.06919258 & 0.05808478  & -1.19123421 & 0.23356165 \\\\\n",
       "\tLag3 & -0.01534160 & 0.05878968  & -0.26095731 & 0.79412543 \\\\\n",
       "\tLag4 &  0.03262252 & 0.05796463  &  0.56280036 & 0.57357084 \\\\\n",
       "\tLag5 &  0.05419853 & 0.05786200  &  0.93668613 & 0.34892003 \\\\\n",
       "\tVolume & -0.06261081 & 0.23178135  & -0.27012879 & 0.78706118 \\\\\n",
       "\\end{tabular}\n"
      ],
      "text/markdown": [
       "\n",
       "| <!--/--> | Estimate | Std. Error | z value | Pr(>|z|) |\n",
       "|---|---|---|---|---|\n",
       "| (Intercept) | -0.02326281 | 0.31816782  | -0.07311491 | 0.94171467  |\n",
       "| Year2002 | -0.20306959 | 0.21191986  | -0.95823763 | 0.33794295  |\n",
       "| Year2003 |  0.30701384 | 0.20931150  |  1.46677958 | 0.14243603  |\n",
       "| Year2004 |  0.34947625 | 0.20817961  |  1.67872468 | 0.09320571  |\n",
       "| Year2005 |  0.47422791 | 0.25819162  |  1.83672848 | 0.06624999  |\n",
       "| Lag1 | -0.11789225 | 0.05841264  | -2.01826604 | 0.04356356  |\n",
       "| Lag2 | -0.06919258 | 0.05808478  | -1.19123421 | 0.23356165  |\n",
       "| Lag3 | -0.01534160 | 0.05878968  | -0.26095731 | 0.79412543  |\n",
       "| Lag4 |  0.03262252 | 0.05796463  |  0.56280036 | 0.57357084  |\n",
       "| Lag5 |  0.05419853 | 0.05786200  |  0.93668613 | 0.34892003  |\n",
       "| Volume | -0.06261081 | 0.23178135  | -0.27012879 | 0.78706118  |\n",
       "\n"
      ],
      "text/plain": [
       "            Estimate    Std. Error z value     Pr(>|z|)  \n",
       "(Intercept) -0.02326281 0.31816782 -0.07311491 0.94171467\n",
       "Year2002    -0.20306959 0.21191986 -0.95823763 0.33794295\n",
       "Year2003     0.30701384 0.20931150  1.46677958 0.14243603\n",
       "Year2004     0.34947625 0.20817961  1.67872468 0.09320571\n",
       "Year2005     0.47422791 0.25819162  1.83672848 0.06624999\n",
       "Lag1        -0.11789225 0.05841264 -2.01826604 0.04356356\n",
       "Lag2        -0.06919258 0.05808478 -1.19123421 0.23356165\n",
       "Lag3        -0.01534160 0.05878968 -0.26095731 0.79412543\n",
       "Lag4         0.03262252 0.05796463  0.56280036 0.57357084\n",
       "Lag5         0.05419853 0.05786200  0.93668613 0.34892003\n",
       "Volume      -0.06261081 0.23178135 -0.27012879 0.78706118"
      ]
     },
     "metadata": {},
     "output_type": "display_data"
    }
   ],
   "source": [
    "summary(reg)$coef\n",
    "#coef(reg)"
   ]
  },
  {
   "cell_type": "markdown",
   "id": "ef163b47-a2ff-4957-9506-ff768e0a63fe",
   "metadata": {},
   "source": [
    "**NOTE** : Except Lag1 and Years, none of the predictors are significant, let's try by removing features."
   ]
  },
  {
   "cell_type": "code",
   "execution_count": 494,
   "id": "9967a337-3278-453a-9334-edc2275f24ca",
   "metadata": {
    "tags": []
   },
   "outputs": [
    {
     "data": {
      "image/png": "[encoded data removed]",
      "text/plain": [
       "Plot with title \"\""
      ]
     },
     "metadata": {},
     "output_type": "display_data"
    }
   ],
   "source": [
    "par(mfrow=c(2,2))\n",
    "plot(reg) # note: here predicte values are the link function"
   ]
  },
  {
   "cell_type": "markdown",
   "id": "d325d5c7-6cde-407e-8364-e9ebbf6e825c",
   "metadata": {},
   "source": [
    "#### Train Error"
   ]
  },
  {
   "cell_type": "code",
   "execution_count": 495,
   "id": "3b8256a0-0027-4512-8e74-c7a956533ed3",
   "metadata": {
    "tags": []
   },
   "outputs": [],
   "source": [
    "prob=predict(reg,type='response') #type= response(probability), link (link function), terms\n",
    "\n",
    "#fix prob threshold get binary pred from prob\n",
    "th=0.5\n",
    "len=length(prob)\n",
    "pred=rep('Down',len) #rep- replicate\n",
    "pred[prob>=th]='Up'"
   ]
  },
  {
   "cell_type": "code",
   "execution_count": 496,
   "id": "0c7522db-147c-4c5e-ab45-333b41a6f7ab",
   "metadata": {
    "tags": []
   },
   "outputs": [
    {
     "data": {
      "text/html": [
       "<table>\n",
       "<thead><tr><th></th><th scope=col>Up</th></tr></thead>\n",
       "<tbody>\n",
       "\t<tr><th scope=row>Down</th><td>0</td></tr>\n",
       "\t<tr><th scope=row>Up</th><td>1</td></tr>\n",
       "</tbody>\n",
       "</table>\n"
      ],
      "text/latex": [
       "\\begin{tabular}{r|l}\n",
       "  & Up\\\\\n",
       "\\hline\n",
       "\tDown & 0\\\\\n",
       "\tUp & 1\\\\\n",
       "\\end{tabular}\n"
      ],
      "text/markdown": [
       "\n",
       "| <!--/--> | Up |\n",
       "|---|---|\n",
       "| Down | 0 |\n",
       "| Up | 1 |\n",
       "\n"
      ],
      "text/plain": [
       "     Up\n",
       "Down 0 \n",
       "Up   1 "
      ]
     },
     "metadata": {},
     "output_type": "display_data"
    }
   ],
   "source": [
    "contrasts(train$Direction) # what the factors are converted to"
   ]
  },
  {
   "cell_type": "code",
   "execution_count": 497,
   "id": "d46f6cef-285a-43e7-9935-88f612c30830",
   "metadata": {
    "tags": []
   },
   "outputs": [
    {
     "data": {
      "text/plain": [
       "      \n",
       "pred   Down  Up\n",
       "  Down  179 148\n",
       "  Up    301 372"
      ]
     },
     "metadata": {},
     "output_type": "display_data"
    }
   ],
   "source": [
    "# confusion matrix\n",
    "table(pred,train$Direction) #confusion matrix"
   ]
  },
  {
   "cell_type": "code",
   "execution_count": 498,
   "id": "fc6807c5-3a44-417e-8bb6-2eaec6ba6860",
   "metadata": {
    "tags": []
   },
   "outputs": [
    {
     "data": {
      "text/plain": [
       "pred\n",
       "Down   Up \n",
       " 327  673 "
      ]
     },
     "metadata": {},
     "output_type": "display_data"
    }
   ],
   "source": [
    "table(pred)"
   ]
  },
  {
   "cell_type": "code",
   "execution_count": 499,
   "id": "ad1829ec-faea-43a0-8f34-9dc76c237cbc",
   "metadata": {},
   "outputs": [
    {
     "name": "stdout",
     "output_type": "stream",
     "text": [
      "naive accuracy is 0.52 and pred accuracy is 0.551"
     ]
    }
   ],
   "source": [
    "acc_naive=sum(train$Direction=='Up')/length(train$Direction)\n",
    "acc_glm=sum(pred==train$Direction)/length(train$Direction)\n",
    "\n",
    "cat('naive accuracy is',acc_naive, 'and pred accuracy is', acc_glm)"
   ]
  },
  {
   "cell_type": "raw",
   "id": "7f743cad-aa34-4003-8c5a-1396b9f4dfa4",
   "metadata": {},
   "source": [
    "install.packages('e1071', dependencies=TRUE)"
   ]
  },
  {
   "cell_type": "code",
   "execution_count": 500,
   "id": "64b6b075-7b72-44fa-a8cc-5b9a16f8b6a6",
   "metadata": {
    "tags": []
   },
   "outputs": [
    {
     "data": {
      "text/html": [
       "<strong>F1:</strong> 0.44361833952912"
      ],
      "text/latex": [
       "\\textbf{F1:} 0.44361833952912"
      ],
      "text/markdown": [
       "**F1:** 0.44361833952912"
      ],
      "text/plain": [
       "       F1 \n",
       "0.4436183 "
      ]
     },
     "metadata": {},
     "output_type": "display_data"
    },
    {
     "data": {
      "text/html": [
       "<strong>Recall:</strong> 0.372916666666667"
      ],
      "text/latex": [
       "\\textbf{Recall:} 0.372916666666667"
      ],
      "text/markdown": [
       "**Recall:** 0.372916666666667"
      ],
      "text/plain": [
       "   Recall \n",
       "0.3729167 "
      ]
     },
     "metadata": {},
     "output_type": "display_data"
    },
    {
     "data": {
      "text/html": [
       "<strong>Precision:</strong> 0.547400611620795"
      ],
      "text/latex": [
       "\\textbf{Precision:} 0.547400611620795"
      ],
      "text/markdown": [
       "**Precision:** 0.547400611620795"
      ],
      "text/plain": [
       "Precision \n",
       "0.5474006 "
      ]
     },
     "metadata": {},
     "output_type": "display_data"
    }
   ],
   "source": [
    "# precision recall, F score\n",
    "\n",
    "library(caret)\n",
    "\n",
    "cm=confusionMatrix(as.factor(pred), train$Direction)\n",
    "\n",
    "cm[[\"byClass\"]][ \"F1\"]\n",
    "cm[[\"byClass\"]][ \"Recall\"]\n",
    "cm[[\"byClass\"]][ \"Precision\"]"
   ]
  },
  {
   "cell_type": "markdown",
   "id": "893aefe5-5300-48fd-937a-e4c4a9abe220",
   "metadata": {},
   "source": [
    "### Model 2"
   ]
  },
  {
   "cell_type": "code",
   "execution_count": 501,
   "id": "b1fd633f-9235-4b1e-bc0a-6930ee22662d",
   "metadata": {
    "tags": []
   },
   "outputs": [
    {
     "data": {
      "text/plain": [
       "\n",
       "Call:\n",
       "glm(formula = Direction ~ Lag1 * Year, family = binomial, data = train)\n",
       "\n",
       "Deviance Residuals: \n",
       "    Min       1Q   Median       3Q      Max  \n",
       "-1.4841  -1.2333   0.9672   1.1042   1.8009  \n",
       "\n",
       "Coefficients:\n",
       "               Estimate Std. Error z value Pr(>|z|)  \n",
       "(Intercept)   -0.093548   0.144153  -0.649   0.5164  \n",
       "Lag1          -0.008101   0.110808  -0.073   0.9417  \n",
       "Year2002      -0.224165   0.207477  -1.080   0.2800  \n",
       "Year2003       0.282734   0.204312   1.384   0.1664  \n",
       "Year2004       0.331996   0.201399   1.648   0.0993 .\n",
       "Year2005       0.428056   0.199788   2.143   0.0321 *\n",
       "Lag1:Year2002 -0.192308   0.146255  -1.315   0.1885  \n",
       "Lag1:Year2003 -0.026452   0.177532  -0.149   0.8816  \n",
       "Lag1:Year2004 -0.131342   0.228079  -0.576   0.5647  \n",
       "Lag1:Year2005 -0.235395   0.239807  -0.982   0.3263  \n",
       "---\n",
       "Signif. codes:  0 '***' 0.001 '**' 0.01 '*' 0.05 '.' 0.1 ' ' 1\n",
       "\n",
       "(Dispersion parameter for binomial family taken to be 1)\n",
       "\n",
       "    Null deviance: 1384.7  on 999  degrees of freedom\n",
       "Residual deviance: 1365.0  on 990  degrees of freedom\n",
       "AIC: 1385\n",
       "\n",
       "Number of Fisher Scoring iterations: 4\n"
      ]
     },
     "metadata": {},
     "output_type": "display_data"
    }
   ],
   "source": [
    "# model with Year*lag1\n",
    "reg2=glm(Direction~Lag1*Year,train,family=binomial)\n",
    "summary(reg2)"
   ]
  },
  {
   "cell_type": "code",
   "execution_count": null,
   "id": "04a17083-116d-4775-b0be-6b9398accb2d",
   "metadata": {
    "collapsed": true,
    "jupyter": {
     "outputs_hidden": true
    }
   },
   "outputs": [],
   "source": []
  },
  {
   "cell_type": "code",
   "execution_count": 502,
   "id": "dd0c2c1a-e09e-4a49-9745-2916729bea80",
   "metadata": {},
   "outputs": [],
   "source": [
    "prob2=predict(reg2,type='response') #type= response(probability), link (link function), terms\n",
    "\n",
    "#fix prob threshold get binary pred from prob\n",
    "th=0.5\n",
    "len=length(prob2)\n",
    "pred2=rep('Down',len) #rep- replicate\n",
    "pred2[prob2>=th]='Up'"
   ]
  },
  {
   "cell_type": "code",
   "execution_count": 503,
   "id": "3ef4f0a2-7091-43a2-bbef-468a1772dc1b",
   "metadata": {},
   "outputs": [
    {
     "data": {
      "text/html": [
       "0.575"
      ],
      "text/latex": [
       "0.575"
      ],
      "text/markdown": [
       "0.575"
      ],
      "text/plain": [
       "[1] 0.575"
      ]
     },
     "metadata": {},
     "output_type": "display_data"
    }
   ],
   "source": [
    "acc_glm2=sum(pred2==train$Direction)/length(train$Direction)\n",
    "acc_glm2"
   ]
  },
  {
   "cell_type": "code",
   "execution_count": 504,
   "id": "2e72a8d8-e62e-4934-aced-2a7ecbd12e01",
   "metadata": {},
   "outputs": [
    {
     "data": {
      "text/html": [
       "<strong>F1:</strong> 0.492234169653524"
      ],
      "text/latex": [
       "\\textbf{F1:} 0.492234169653524"
      ],
      "text/markdown": [
       "**F1:** 0.492234169653524"
      ],
      "text/plain": [
       "       F1 \n",
       "0.4922342 "
      ]
     },
     "metadata": {},
     "output_type": "display_data"
    },
    {
     "data": {
      "text/html": [
       "<strong>Recall:</strong> 0.429166666666667"
      ],
      "text/latex": [
       "\\textbf{Recall:} 0.429166666666667"
      ],
      "text/markdown": [
       "**Recall:** 0.429166666666667"
      ],
      "text/plain": [
       "   Recall \n",
       "0.4291667 "
      ]
     },
     "metadata": {},
     "output_type": "display_data"
    },
    {
     "data": {
      "text/html": [
       "<strong>Precision:</strong> 0.57703081232493"
      ],
      "text/latex": [
       "\\textbf{Precision:} 0.57703081232493"
      ],
      "text/markdown": [
       "**Precision:** 0.57703081232493"
      ],
      "text/plain": [
       "Precision \n",
       "0.5770308 "
      ]
     },
     "metadata": {},
     "output_type": "display_data"
    }
   ],
   "source": [
    "cm2=confusionMatrix(as.factor(pred2), train$Direction)\n",
    "\n",
    "cm2[[\"byClass\"]][ \"F1\"]\n",
    "cm2[[\"byClass\"]][ \"Recall\"]\n",
    "cm2[[\"byClass\"]][ \"Precision\"]"
   ]
  },
  {
   "cell_type": "markdown",
   "id": "7c6d8a80-2a04-4d6a-90de-917ddbc120d1",
   "metadata": {},
   "source": [
    "**NOTE**: Although, we have barely any significant variable but scores have improved on the train set."
   ]
  },
  {
   "cell_type": "markdown",
   "id": "d7bc6ea0-6757-4cd7-8e7f-8c007fb3cadf",
   "metadata": {},
   "source": [
    "### Model 3"
   ]
  },
  {
   "cell_type": "code",
   "execution_count": 505,
   "id": "cb587d38-ca77-48f1-97b8-4d775407639e",
   "metadata": {
    "tags": []
   },
   "outputs": [
    {
     "data": {
      "text/plain": [
       "\n",
       "Call:\n",
       "glm(formula = Direction ~ Lag1 - 1, family = binomial, data = train)\n",
       "\n",
       "Deviance Residuals: \n",
       "   Min      1Q  Median      3Q     Max  \n",
       "-1.405  -1.171   1.094   1.177   1.428  \n",
       "\n",
       "Coefficients:\n",
       "     Estimate Std. Error z value Pr(>|z|)  \n",
       "Lag1 -0.10584    0.05728  -1.848   0.0646 .\n",
       "---\n",
       "Signif. codes:  0 '***' 0.001 '**' 0.01 '*' 0.05 '.' 0.1 ' ' 1\n",
       "\n",
       "(Dispersion parameter for binomial family taken to be 1)\n",
       "\n",
       "    Null deviance: 1386.3  on 1000  degrees of freedom\n",
       "Residual deviance: 1382.8  on  999  degrees of freedom\n",
       "AIC: 1384.8\n",
       "\n",
       "Number of Fisher Scoring iterations: 3\n"
      ]
     },
     "metadata": {},
     "output_type": "display_data"
    }
   ],
   "source": [
    "# model with lag1, no intercept\n",
    "reg3=glm(Direction~Lag1-1,train,family=binomial)\n",
    "summary(reg3)"
   ]
  },
  {
   "cell_type": "code",
   "execution_count": 506,
   "id": "7bbc3d9a-cf49-4b00-9d23-49866abaf42c",
   "metadata": {},
   "outputs": [],
   "source": [
    "prob3=predict(reg3,type='response') #type= response(probability), link (link function), terms\n",
    "\n",
    "#fix prob threshold get binary pred from prob\n",
    "th=0.5\n",
    "len=length(prob3)\n",
    "pred3=rep('Down',len) #rep- replicate\n",
    "pred3[prob3>=th]='Up'"
   ]
  },
  {
   "cell_type": "code",
   "execution_count": 507,
   "id": "a85a2c59-5f88-4db5-a5d0-8f82fba527b0",
   "metadata": {},
   "outputs": [
    {
     "data": {
      "text/html": [
       "0.54"
      ],
      "text/latex": [
       "0.54"
      ],
      "text/markdown": [
       "0.54"
      ],
      "text/plain": [
       "[1] 0.54"
      ]
     },
     "metadata": {},
     "output_type": "display_data"
    }
   ],
   "source": [
    "acc_glm3=sum(pred3==train$Direction)/length(train$Direction)\n",
    "acc_glm3"
   ]
  },
  {
   "cell_type": "code",
   "execution_count": 508,
   "id": "51614fe4-5ff7-49c1-a6ea-0da29748a4b7",
   "metadata": {},
   "outputs": [
    {
     "data": {
      "text/html": [
       "<strong>F1:</strong> 0.54"
      ],
      "text/latex": [
       "\\textbf{F1:} 0.54"
      ],
      "text/markdown": [
       "**F1:** 0.54"
      ],
      "text/plain": [
       "  F1 \n",
       "0.54 "
      ]
     },
     "metadata": {},
     "output_type": "display_data"
    },
    {
     "data": {
      "text/html": [
       "<strong>Recall:</strong> 0.5625"
      ],
      "text/latex": [
       "\\textbf{Recall:} 0.5625"
      ],
      "text/markdown": [
       "**Recall:** 0.5625"
      ],
      "text/plain": [
       "Recall \n",
       "0.5625 "
      ]
     },
     "metadata": {},
     "output_type": "display_data"
    },
    {
     "data": {
      "text/html": [
       "<strong>Precision:</strong> 0.519230769230769"
      ],
      "text/latex": [
       "\\textbf{Precision:} 0.519230769230769"
      ],
      "text/markdown": [
       "**Precision:** 0.519230769230769"
      ],
      "text/plain": [
       "Precision \n",
       "0.5192308 "
      ]
     },
     "metadata": {},
     "output_type": "display_data"
    }
   ],
   "source": [
    "cm3=confusionMatrix(as.factor(pred3), train$Direction)\n",
    "\n",
    "cm3[[\"byClass\"]][ \"F1\"]\n",
    "cm3[[\"byClass\"]][ \"Recall\"]\n",
    "cm3[[\"byClass\"]][ \"Precision\"]"
   ]
  },
  {
   "cell_type": "code",
   "execution_count": null,
   "id": "901cffc0-dbea-4dc9-aa55-8f84746570eb",
   "metadata": {
    "collapsed": true,
    "jupyter": {
     "outputs_hidden": true
    }
   },
   "outputs": [],
   "source": []
  },
  {
   "cell_type": "markdown",
   "id": "b7390e20-e0e1-44f3-aa28-ed558eb2b186",
   "metadata": {},
   "source": [
    "## Diagnostics GLM model\n",
    "\n",
    "Ref:https://rpubs.com/benhorvath/glm_diagnostics\n",
    "\n",
    "GLM assumptions-\n",
    "1. There are no outliers\n",
    "2. The link function is correct.\n",
    "3. All important independent variabbles are used and each is linear\n",
    "4. The correct variance function V(μ) is used (since GLMs posit mean and variance are proportional to eachother and not constant)\n",
    "5. The dispersion parameter is constant. (dispersion parameter: how wide is the dist of Y, fixed to 1 in glm)\n",
    "6. The response yi are independent of eachother\n",
    "7. The response variable comes from the specified distribution\n",
    "\n",
    "Check these assumptions. Also list solution wrt each assumption.\n",
    "\n",
    "Steps:\n",
    "1. Plot all residual densities, see type of distribution, range of values. \n",
    "2. Compare density of fitted and actual response.\n",
    "3. Plot residual wrt predicted (response and link) and predictors\n",
    "4. QQplot of qresid\n",
    "5. Cooks distsnce\n",
    "6. VIF multicollinearity\n",
    "\n",
    "\n",
    "Solutions:\n",
    "1. Change the link function.\n",
    "2. Change the family for response.\n",
    "3. Transform data\n",
    "4. Use different dispersion parameter- via- quasi families\n",
    "5. Remove outliers\n",
    "\n",
    "Ref: for options of families and links https://www.rdocumentation.org/packages/stats/versions/3.6.2/topics/family\n",
    " Also variance function (i.e. how var depends on mean) for quasi distribution.\n",
    " \n",
    "Ref: CI https://www.datascienceblog.net/post/machine-learning/interpreting_generalized_linear_models/"
   ]
  },
  {
   "cell_type": "code",
   "execution_count": 509,
   "id": "e82b4660-8553-4c77-a5a9-96f13c0f7aa9",
   "metadata": {
    "tags": []
   },
   "outputs": [
    {
     "data": {
      "image/png": "[encoded data removed]",
      "text/plain": [
       "Plot with title \"density.default(x = resid(reg3, type = \"deviance\"))\""
      ]
     },
     "metadata": {},
     "output_type": "display_data"
    }
   ],
   "source": [
    "#plot all residuals\n",
    "\n",
    "# resid\n",
    "par(mfrow=c(3,2))\n",
    "plot(density(resid(reg2, type='response'))) # usual residual\n",
    "plot(density(resid(reg3, type='response')))\n",
    "plot(density(resid(reg2, type='pearson')))\n",
    "plot(density(resid(reg3, type='pearson')))\n",
    "plot(density(resid(reg2, type='deviance'))) # preffered\n",
    "plot(density(resid(reg3, type='deviance')))"
   ]
  },
  {
   "cell_type": "raw",
   "id": "146fa01f-5eb1-4aa6-ab53-fc179c09a5de",
   "metadata": {},
   "source": [
    "install.packages(\"statmod\")"
   ]
  },
  {
   "cell_type": "code",
   "execution_count": 510,
   "id": "482441a1-542b-48f1-9d6b-6c84b77744fa",
   "metadata": {
    "tags": []
   },
   "outputs": [
    {
     "data": {
      "image/png": "[encoded data removed]",
      "text/plain": [
       "Plot with title \"density.default(x = qresid(reg2))\""
      ]
     },
     "metadata": {},
     "output_type": "display_data"
    }
   ],
   "source": [
    "# more residual plots\n",
    "library(statmod) # for qresid\n",
    "\n",
    "par(mfrow=c(2,2))\n",
    "plot(density(rstandard(reg2, type='pearson'))) # standardised, to see constant variance of residuals\n",
    "plot(density(rstandard(reg2, type='deviance')))\n",
    "plot(density(qresid(reg2)))# smoother distribution, approximates a normal, for discrete response"
   ]
  },
  {
   "cell_type": "code",
   "execution_count": 511,
   "id": "5596646a-2cce-48b8-95c1-a5fb0820048d",
   "metadata": {
    "tags": []
   },
   "outputs": [
    {
     "data": {
      "image/png": "[encoded data removed]",
      "text/plain": [
       "Plot with title \"density.default(x = as.numeric(as.factor(pred)))\""
      ]
     },
     "metadata": {},
     "output_type": "display_data"
    }
   ],
   "source": [
    "\n",
    "plot(density(as.numeric(as.factor(pred))))"
   ]
  },
  {
   "cell_type": "code",
   "execution_count": 512,
   "id": "ae049d20-6201-49c3-b5b3-dcd9932c5964",
   "metadata": {
    "tags": []
   },
   "outputs": [
    {
     "data": {
      "image/png": "[encoded data removed]",
      "text/plain": [
       "Plot with title \"density.default(x = as.numeric(train$Direction))\""
      ]
     },
     "metadata": {},
     "output_type": "display_data"
    }
   ],
   "source": [
    "# density fitted vs actual\n",
    "#par(mfrow=c(2,2))\n",
    "plot(density(as.numeric(train$Direction)))\n",
    "lines(density(as.numeric(as.factor(pred))), col='red')\n",
    "lines(density(as.numeric(as.factor(pred2))), col='blue')\n",
    "lines(density(as.numeric(as.factor(pred3))), col='green')\n",
    "legend(1.5, 1.5, legend=c(\"True\", \"1\",'2','3'),\n",
    "       col=c('black','red','blue','green'), lty=1:2, cex=0.8)"
   ]
  },
  {
   "cell_type": "markdown",
   "id": "bc08610c-b824-424e-bcb1-f42b6a18f81c",
   "metadata": {},
   "source": [
    "We see model 3 gives best fit to true distribution."
   ]
  },
  {
   "cell_type": "code",
   "execution_count": 513,
   "id": "c7b22f62-0811-4b3a-9915-9eb2194980f5",
   "metadata": {
    "tags": []
   },
   "outputs": [],
   "source": [
    "# independence of observations-- plot of rstandard(deviance) wrt index or datetime\n",
    "# should show no pattern\n"
   ]
  },
  {
   "cell_type": "code",
   "execution_count": 514,
   "id": "f768ea3a-c20c-40ae-8c4d-44dca781bd72",
   "metadata": {
    "tags": []
   },
   "outputs": [
    {
     "data": {
      "image/png": "[encoded data removed]",
      "text/plain": [
       "plot without title"
      ]
     },
     "metadata": {},
     "output_type": "display_data"
    }
   ],
   "source": [
    "# residual should not increase or decrease with value of response\n",
    "par(mfrow=c(2,2))\n",
    "scatter.smooth(predict(reg2, type='response'), rstandard(reg2, type='deviance'), col='gray')\n",
    "scatter.smooth(predict(reg3, type='response'), rstandard(reg3, type='deviance'), col='gray')\n",
    "scatter.smooth(predict(reg2, type='response'), qresid(reg2), col='gray') # can use transf on y to see pattern\n",
    "scatter.smooth(predict(reg3, type='response'), qresid(reg3), col='gray')"
   ]
  },
  {
   "cell_type": "markdown",
   "id": "1d6c7c94-eeea-46d1-90a0-bc3fec6260ee",
   "metadata": {},
   "source": [
    "We see that the residuals wrt positive and negative class form two parallel lines, which remain parallel, net residual i.e. the line betwee them remains constant (almost).\n",
    "\n",
    "For the qresid- we see the net-line remains in the center, i.e. there is no pattern.\n",
    "\n"
   ]
  },
  {
   "cell_type": "code",
   "execution_count": 515,
   "id": "5a49e34a-e843-45ac-b198-8ef87e0fef30",
   "metadata": {},
   "outputs": [
    {
     "data": {
      "image/png": "[encoded data removed]",
      "text/plain": [
       "plot without title"
      ]
     },
     "metadata": {},
     "output_type": "display_data"
    }
   ],
   "source": [
    "# residuals should also not show any pattern wrt predictors\n",
    "par(mfrow=c(1,2))\n",
    "scatter.smooth(train$Lag1, rstandard(reg3, type='deviance'), col='gray')\n",
    "scatter.smooth(train$Lag1, qresid(reg3), col='gray')"
   ]
  },
  {
   "cell_type": "markdown",
   "id": "1571b16f-3939-451c-ad5b-7f9d2958de62",
   "metadata": {},
   "source": [
    "Some pattern exists around Lag1=0. "
   ]
  },
  {
   "cell_type": "markdown",
   "id": "546f33e2-e0ec-4f0c-aae9-48856cf58577",
   "metadata": {},
   "source": [
    "### Correctness of link function\n",
    "\n",
    "Residual vs link (i.e. predict(typr='link')) should not show any pattern."
   ]
  },
  {
   "cell_type": "code",
   "execution_count": 516,
   "id": "c945f124-2620-4b3a-b3cd-5215f0fff229",
   "metadata": {},
   "outputs": [
    {
     "data": {
      "image/png": "[encoded data removed]",
      "text/plain": [
       "plot without title"
      ]
     },
     "metadata": {},
     "output_type": "display_data"
    }
   ],
   "source": [
    "par(mfrow=c(2,2))\n",
    "scatter.smooth(predict(reg2, type='link'), rstandard(reg2, type='deviance'), col='gray')\n",
    "scatter.smooth(predict(reg3, type='link'), rstandard(reg3, type='deviance'), col='gray')\n",
    "scatter.smooth(predict(reg2, type='link'), qresid(reg2), col='gray') # can use transf on y to see pattern\n",
    "scatter.smooth(predict(reg3, type='link'), qresid(reg3), col='gray')"
   ]
  },
  {
   "cell_type": "markdown",
   "id": "67814161-aaf8-41a3-aa17-4033bd185e77",
   "metadata": {},
   "source": [
    "### Corretness of choice of distribution\n",
    "\n",
    "QQplot of quartile residuals should show normal"
   ]
  },
  {
   "cell_type": "code",
   "execution_count": 517,
   "id": "ef0ad547-e7a7-43e1-be9d-d484a1901d5f",
   "metadata": {},
   "outputs": [
    {
     "data": {
      "image/png": "[encoded data removed]",
      "text/plain": [
       "Plot with title \"Normal Q-Q Plot\""
      ]
     },
     "metadata": {},
     "output_type": "display_data"
    }
   ],
   "source": [
    "par(mfrow=c(1,2))\n",
    "qqnorm(qresid(reg2)); qqline(qresid(reg2))\n",
    "qqnorm(qresid(reg3)); qqline(qresid(reg3))"
   ]
  },
  {
   "cell_type": "markdown",
   "id": "fa628ca8-90b8-46f6-b8c0-37c2490be6c8",
   "metadata": {},
   "source": [
    "### Outlier and influential observations\n",
    "\n",
    "Outliers: 2*mean(cooks_distance)-- rough guess\n"
   ]
  },
  {
   "cell_type": "code",
   "execution_count": null,
   "id": "0178da8a-de14-4e35-8799-dd67135c843c",
   "metadata": {
    "collapsed": true,
    "jupyter": {
     "outputs_hidden": true
    }
   },
   "outputs": [],
   "source": []
  },
  {
   "cell_type": "code",
   "execution_count": 518,
   "id": "400332a7-ec6d-4e60-90f1-1d14a1f76406",
   "metadata": {},
   "outputs": [
    {
     "data": {
      "image/png": "[encoded data removed]",
      "text/plain": [
       "plot without title"
      ]
     },
     "metadata": {},
     "output_type": "display_data"
    }
   ],
   "source": [
    "par(mfrow=c(1,2))\n",
    "plot(cooks.distance(reg2), type='h')\n",
    "plot(cooks.distance(reg3), type='h')"
   ]
  },
  {
   "cell_type": "markdown",
   "id": "35a527a1-4911-4fc4-a6f4-996d716e406c",
   "metadata": {},
   "source": [
    "We see model 3 has lower (almost half) cook distance."
   ]
  },
  {
   "cell_type": "code",
   "execution_count": null,
   "id": "5973b4ae-544c-47ea-b920-9e80f37f5687",
   "metadata": {
    "collapsed": true,
    "jupyter": {
     "outputs_hidden": true
    }
   },
   "outputs": [],
   "source": []
  },
  {
   "cell_type": "code",
   "execution_count": 519,
   "id": "b8da7b3d-d909-4d2f-aec3-f309eaf160d7",
   "metadata": {},
   "outputs": [
    {
     "data": {
      "image/png": "[encoded data removed]",
      "text/plain": [
       "plot without title"
      ]
     },
     "metadata": {},
     "output_type": "display_data"
    }
   ],
   "source": [
    "# plot preditction vs predictor\n",
    "par(mfrow=c(2,2))\n",
    "scatter.smooth(train$Lag1,predict(reg3, type='link'), col='gray')\n",
    "scatter.smooth(train$Lag1,predict(reg3,type='response'), col='gray')\n",
    "scatter.smooth(train$Lag1,as.numeric(train$Direction)-1, col='gray')"
   ]
  },
  {
   "cell_type": "markdown",
   "id": "7d949b6c-204f-4a4f-ac3b-2d32a8bee978",
   "metadata": {},
   "source": [
    "We see the probability changes between below and above 0.5 at Lag1=0. As expected."
   ]
  },
  {
   "cell_type": "markdown",
   "id": "e875c9af-18d0-4c61-bc95-bcee5bf99086",
   "metadata": {},
   "source": [
    "## Test set"
   ]
  },
  {
   "cell_type": "code",
   "execution_count": 520,
   "id": "2a27a501-59f0-475d-8181-c6179db30aeb",
   "metadata": {
    "tags": []
   },
   "outputs": [],
   "source": [
    "prob_test2=predict(reg2,test,type='response') #type= response(probability), link (link function), terms\n",
    "\n",
    "#fix prob threshold get binary pred from prob\n",
    "th=0.5\n",
    "len=length(prob_test2)\n",
    "pred_test2=rep('Down',len) #rep- replicate\n",
    "pred_test2[prob_test2>=th]='Up'\n",
    "\n",
    "\n",
    "prob_test3=predict(reg3,test,type='response') #type= response(probability), link (link function), terms\n",
    "\n",
    "#fix prob threshold get binary pred from prob\n",
    "th=0.5\n",
    "len=length(prob_test3)\n",
    "pred_test3=rep('Down',len) #rep- replicate\n",
    "pred_test3[prob_test3>=th]='Up'"
   ]
  },
  {
   "cell_type": "code",
   "execution_count": 521,
   "id": "d92581e9-928c-4ba5-8828-9382c096e04e",
   "metadata": {},
   "outputs": [
    {
     "name": "stdout",
     "output_type": "stream",
     "text": [
      "Model 2\n",
      "acc model2 0.484"
     ]
    },
    {
     "data": {
      "text/html": [
       "<strong>F1:</strong> 0.410958904109589"
      ],
      "text/latex": [
       "\\textbf{F1:} 0.410958904109589"
      ],
      "text/markdown": [
       "**F1:** 0.410958904109589"
      ],
      "text/plain": [
       "       F1 \n",
       "0.4109589 "
      ]
     },
     "metadata": {},
     "output_type": "display_data"
    },
    {
     "data": {
      "text/html": [
       "<strong>Recall:</strong> 0.368852459016393"
      ],
      "text/latex": [
       "\\textbf{Recall:} 0.368852459016393"
      ],
      "text/markdown": [
       "**Recall:** 0.368852459016393"
      ],
      "text/plain": [
       "   Recall \n",
       "0.3688525 "
      ]
     },
     "metadata": {},
     "output_type": "display_data"
    },
    {
     "data": {
      "text/html": [
       "<strong>Precision:</strong> 0.463917525773196"
      ],
      "text/latex": [
       "\\textbf{Precision:} 0.463917525773196"
      ],
      "text/markdown": [
       "**Precision:** 0.463917525773196"
      ],
      "text/plain": [
       "Precision \n",
       "0.4639175 "
      ]
     },
     "metadata": {},
     "output_type": "display_data"
    },
    {
     "name": "stdout",
     "output_type": "stream",
     "text": [
      "Model 3\n",
      "acc model3 0.536"
     ]
    },
    {
     "data": {
      "text/html": [
       "<strong>F1:</strong> 0.536"
      ],
      "text/latex": [
       "\\textbf{F1:} 0.536"
      ],
      "text/markdown": [
       "**F1:** 0.536"
      ],
      "text/plain": [
       "   F1 \n",
       "0.536 "
      ]
     },
     "metadata": {},
     "output_type": "display_data"
    },
    {
     "data": {
      "text/html": [
       "<strong>Recall:</strong> 0.549180327868853"
      ],
      "text/latex": [
       "\\textbf{Recall:} 0.549180327868853"
      ],
      "text/markdown": [
       "**Recall:** 0.549180327868853"
      ],
      "text/plain": [
       "   Recall \n",
       "0.5491803 "
      ]
     },
     "metadata": {},
     "output_type": "display_data"
    },
    {
     "data": {
      "text/html": [
       "<strong>Precision:</strong> 0.5234375"
      ],
      "text/latex": [
       "\\textbf{Precision:} 0.5234375"
      ],
      "text/markdown": [
       "**Precision:** 0.5234375"
      ],
      "text/plain": [
       "Precision \n",
       "0.5234375 "
      ]
     },
     "metadata": {},
     "output_type": "display_data"
    }
   ],
   "source": [
    "cat('Model 2\\n')\n",
    "cm2=confusionMatrix(as.factor(pred_test2), test$Direction)\n",
    "acc_glm2=sum(pred_test2==test$Direction)/length(test$Direction)\n",
    "\n",
    "cat('acc model2',acc_glm2)\n",
    "cm2[[\"byClass\"]][ \"F1\"]\n",
    "cm2[[\"byClass\"]][ \"Recall\"]\n",
    "cm2[[\"byClass\"]][ \"Precision\"]\n",
    "\n",
    "\n",
    "\n",
    "cat('Model 3\\n')\n",
    "cm3=confusionMatrix(as.factor(pred_test3), test$Direction)\n",
    "acc_glm3=sum(pred_test3==test$Direction)/length(test$Direction)\n",
    "\n",
    "cat('acc model3',acc_glm3)\n",
    "cm3[[\"byClass\"]][ \"F1\"]\n",
    "cm3[[\"byClass\"]][ \"Recall\"]\n",
    "cm3[[\"byClass\"]][ \"Precision\"]\n"
   ]
  },
  {
   "cell_type": "markdown",
   "id": "80b95cef-0667-4454-9d09-ee6fe59c8e06",
   "metadata": {},
   "source": [
    "Out of model2 and model3 -- choose model3, based on above metrics."
   ]
  },
  {
   "cell_type": "markdown",
   "id": "540ce342-bbea-4b13-84f6-9a658c390443",
   "metadata": {},
   "source": [
    "### Confidence interval "
   ]
  },
  {
   "cell_type": "markdown",
   "id": "2bad272d-9201-4b00-b9ea-1d8c2c4f7287",
   "metadata": {},
   "source": [
    "#### CI parameter"
   ]
  },
  {
   "cell_type": "code",
   "execution_count": 522,
   "id": "10012e70-ab36-43d2-b497-d00f44682e58",
   "metadata": {},
   "outputs": [
    {
     "name": "stderr",
     "output_type": "stream",
     "text": [
      "Waiting for profiling to be done...\n"
     ]
    },
    {
     "data": {
      "text/html": [
       "<dl class=dl-horizontal>\n",
       "\t<dt>2.5 %</dt>\n",
       "\t\t<dd>-0.2191</dd>\n",
       "\t<dt>97.5 %</dt>\n",
       "\t\t<dd>0.0058</dd>\n",
       "</dl>\n"
      ],
      "text/latex": [
       "\\begin{description*}\n",
       "\\item[2.5 \\textbackslash{}\\%] -0.2191\n",
       "\\item[97.5 \\textbackslash{}\\%] 0.0058\n",
       "\\end{description*}\n"
      ],
      "text/markdown": [
       "2.5 %\n",
       ":   -0.219197.5 %\n",
       ":   0.0058\n",
       "\n"
      ],
      "text/plain": [
       "  2.5 %  97.5 % \n",
       "-0.2191  0.0058 "
      ]
     },
     "metadata": {},
     "output_type": "display_data"
    }
   ],
   "source": [
    "round(confint(reg3),4) #profile CI"
   ]
  },
  {
   "cell_type": "code",
   "execution_count": 523,
   "id": "389f8606-0d71-4a9e-8af2-25a08fa2c4f2",
   "metadata": {},
   "outputs": [
    {
     "data": {
      "text/html": [
       "<table>\n",
       "<thead><tr><th></th><th scope=col>2.5 %</th><th scope=col>97.5 %</th></tr></thead>\n",
       "<tbody>\n",
       "\t<tr><th scope=row>Lag1</th><td>-0.2181</td><td>0.0064 </td></tr>\n",
       "</tbody>\n",
       "</table>\n"
      ],
      "text/latex": [
       "\\begin{tabular}{r|ll}\n",
       "  & 2.5 \\% & 97.5 \\%\\\\\n",
       "\\hline\n",
       "\tLag1 & -0.2181 & 0.0064 \\\\\n",
       "\\end{tabular}\n"
      ],
      "text/markdown": [
       "\n",
       "| <!--/--> | 2.5 % | 97.5 % |\n",
       "|---|---|---|\n",
       "| Lag1 | -0.2181 | 0.0064  |\n",
       "\n"
      ],
      "text/plain": [
       "     2.5 %   97.5 %\n",
       "Lag1 -0.2181 0.0064"
      ]
     },
     "metadata": {},
     "output_type": "display_data"
    }
   ],
   "source": [
    "round(confint.default(reg3),4) # Wald CI, based on assumption of normality in beta"
   ]
  },
  {
   "cell_type": "code",
   "execution_count": 524,
   "id": "e8a562c6-0cdf-4943-9e61-ddf7d918328f",
   "metadata": {},
   "outputs": [
    {
     "data": {
      "text/html": [
       "<table>\n",
       "<thead><tr><th></th><th scope=col>Estimate</th><th scope=col>Std. Error</th><th scope=col>z value</th><th scope=col>Pr(&gt;|z|)</th></tr></thead>\n",
       "<tbody>\n",
       "\t<tr><th scope=row>Lag1</th><td>-0.1058373</td><td>0.05727996</td><td>-1.847719 </td><td>0.064643  </td></tr>\n",
       "</tbody>\n",
       "</table>\n"
      ],
      "text/latex": [
       "\\begin{tabular}{r|llll}\n",
       "  & Estimate & Std. Error & z value & Pr(>\\textbar{}z\\textbar{})\\\\\n",
       "\\hline\n",
       "\tLag1 & -0.1058373 & 0.05727996 & -1.847719  & 0.064643  \\\\\n",
       "\\end{tabular}\n"
      ],
      "text/markdown": [
       "\n",
       "| <!--/--> | Estimate | Std. Error | z value | Pr(>|z|) |\n",
       "|---|---|---|---|---|\n",
       "| Lag1 | -0.1058373 | 0.05727996 | -1.847719  | 0.064643   |\n",
       "\n"
      ],
      "text/plain": [
       "     Estimate   Std. Error z value   Pr(>|z|)\n",
       "Lag1 -0.1058373 0.05727996 -1.847719 0.064643"
      ]
     },
     "metadata": {},
     "output_type": "display_data"
    }
   ],
   "source": [
    "summary(reg3)$coefficients"
   ]
  },
  {
   "cell_type": "code",
   "execution_count": 525,
   "id": "d8569bc1-cda8-4f93-9eff-90aec7fb95ae",
   "metadata": {},
   "outputs": [
    {
     "data": {
      "text/html": [
       "-0.218106005826715"
      ],
      "text/latex": [
       "-0.218106005826715"
      ],
      "text/markdown": [
       "-0.218106005826715"
      ],
      "text/plain": [
       "[1] -0.218106"
      ]
     },
     "metadata": {},
     "output_type": "display_data"
    },
    {
     "data": {
      "text/html": [
       "0.00643145156584254"
      ],
      "text/latex": [
       "0.00643145156584254"
      ],
      "text/markdown": [
       "0.00643145156584254"
      ],
      "text/plain": [
       "[1] 0.006431452"
      ]
     },
     "metadata": {},
     "output_type": "display_data"
    },
    {
     "name": "stdout",
     "output_type": "stream",
     "text": [
      "[1] \"matches with Wald CI\"\n"
     ]
    }
   ],
   "source": [
    "# CI by hand\n",
    "# lower CI for beta\n",
    "(summary(reg3)$coefficients[1,1]-1.96*summary(reg3)$coefficients[1,2]) # 1.96 as 2.5% in Z\n",
    "\n",
    "# upper CI for beta\n",
    "(summary(reg3)$coefficients[1,1]+1.96*summary(reg3)$coefficients[1,2])\n",
    "print('matches with Wald CI')"
   ]
  },
  {
   "cell_type": "markdown",
   "id": "e7641454-77d7-4d09-998c-5831248af935",
   "metadata": {},
   "source": [
    "#### CI different scales\n",
    "\n",
    "USing the CI of parameters, we can find CI for different scales like- probability, odds, log odds, odds ration etc.\n",
    "\n",
    "Ref: https://stats.stackexchange.com/questions/354098/calculating-confidence-intervals-for-a-logistic-regression"
   ]
  },
  {
   "cell_type": "markdown",
   "id": "0501d449-d2de-4aef-acb0-52a37a4cdf9f",
   "metadata": {},
   "source": [
    "#### CI prediction\n",
    "**se.fit=T** yields standard errors of the prediction, i.e. a measure of uncertainty for the predicted value i.e the link. This prediction, by one of the Central Value Theorems, can be assumed to be normally distributed at the **link scale.**\n",
    "\n",
    "Use se.fit only with type='link'."
   ]
  },
  {
   "cell_type": "code",
   "execution_count": 526,
   "id": "3d60215d-069d-4ea0-b899-ba1bcb2dbd0d",
   "metadata": {},
   "outputs": [
    {
     "data": {
      "text/html": [
       "<dl class=dl-horizontal>\n",
       "\t<dt>4</dt>\n",
       "\t\t<dd>0.516478186246095</dd>\n",
       "\t<dt>5</dt>\n",
       "\t\t<dd>0.483759692700669</dd>\n",
       "</dl>\n"
      ],
      "text/latex": [
       "\\begin{description*}\n",
       "\\item[4] 0.516478186246095\n",
       "\\item[5] 0.483759692700669\n",
       "\\end{description*}\n"
      ],
      "text/markdown": [
       "4\n",
       ":   0.5164781862460955\n",
       ":   0.483759692700669\n",
       "\n"
      ],
      "text/plain": [
       "        4         5 \n",
       "0.5164782 0.4837597 "
      ]
     },
     "metadata": {},
     "output_type": "display_data"
    },
    {
     "data": {
      "text/html": [
       "<dl class=dl-horizontal>\n",
       "\t<dt>4</dt>\n",
       "\t\t<dd>0.516478186246095</dd>\n",
       "\t<dt>5</dt>\n",
       "\t\t<dd>0.483759692700669</dd>\n",
       "</dl>\n"
      ],
      "text/latex": [
       "\\begin{description*}\n",
       "\\item[4] 0.516478186246095\n",
       "\\item[5] 0.483759692700669\n",
       "\\end{description*}\n"
      ],
      "text/markdown": [
       "4\n",
       ":   0.5164781862460955\n",
       ":   0.483759692700669\n",
       "\n"
      ],
      "text/plain": [
       "        4         5 \n",
       "0.5164782 0.4837597 "
      ]
     },
     "metadata": {},
     "output_type": "display_data"
    }
   ],
   "source": [
    "# see explicitly the relation between response/probability and link/logit\n",
    "head(predict(reg3,test,type='response'),2)\n",
    "head(exp(predict(reg3,test,type='link'))/(1+exp(predict(reg3,test,type='link'))),2) # inverse logit of link gives prob\n",
    "\n",
    "# so we see how to convert the CI of link into CI of pred"
   ]
  },
  {
   "cell_type": "code",
   "execution_count": 527,
   "id": "1d648613-52ea-44ff-ab8b-fe4159eee604",
   "metadata": {},
   "outputs": [],
   "source": [
    "alpha=0.05\n",
    "# CI of link\n",
    "\n",
    "ci.factor = qnorm(1 -  alpha/2)\n",
    "pci=predict(reg3,test,se.fit=TRUE, level=1-alpha,type='link')\n",
    "\n",
    "link_lwr=pci$fit - ci.factor * pci$se.fit\n",
    "link_upr=pci$fit + ci.factor * pci$se.fit"
   ]
  },
  {
   "cell_type": "code",
   "execution_count": 528,
   "id": "b8c98b72-cdde-4d5b-abe2-530ad1ed5317",
   "metadata": {},
   "outputs": [],
   "source": [
    "# CI for prediction\n",
    "\n",
    "inverse_logit = function(x){\n",
    "  exp(x)/(1+exp(x))\n",
    "}\n",
    "\n",
    "pred_lwr=inverse_logit(link_lwr)\n",
    "pred_upr=inverse_logit(link_upr)\n",
    "#true=invese_logit(pci$fit)\n",
    "pred_m=predict(reg3,test,type='response')"
   ]
  },
  {
   "cell_type": "code",
   "execution_count": null,
   "id": "c9ef54ed-71e2-42c6-a97b-6795569952ae",
   "metadata": {},
   "outputs": [],
   "source": []
  },
  {
   "cell_type": "code",
   "execution_count": 529,
   "id": "ea17161d-5824-4d75-8abc-b627976a97bc",
   "metadata": {},
   "outputs": [
    {
     "data": {
      "text/html": [
       "<table>\n",
       "<thead><tr><th></th><th scope=col>pred_m</th><th scope=col>lwr</th><th scope=col>upr</th></tr></thead>\n",
       "<tbody>\n",
       "\t<tr><th scope=row>4</th><td>0.5164782</td><td>0.4989986</td><td>0.5339175</td></tr>\n",
       "\t<tr><th scope=row>5</th><td>0.4837597</td><td>0.4665710</td><td>0.5009869</td></tr>\n",
       "\t<tr><th scope=row>7</th><td>0.4632351</td><td>0.4246775</td><td>0.5022374</td></tr>\n",
       "\t<tr><th scope=row>9</th><td>0.4992856</td><td>0.4985278</td><td>0.5000434</td></tr>\n",
       "\t<tr><th scope=row>12</th><td>0.5131737</td><td>0.4991995</td><td>0.5271273</td></tr>\n",
       "\t<tr><th scope=row>15</th><td>0.4814605</td><td>0.4618516</td><td>0.5011267</td></tr>\n",
       "</tbody>\n",
       "</table>\n"
      ],
      "text/latex": [
       "\\begin{tabular}{r|lll}\n",
       "  & pred\\_m & lwr & upr\\\\\n",
       "\\hline\n",
       "\t4 & 0.5164782 & 0.4989986 & 0.5339175\\\\\n",
       "\t5 & 0.4837597 & 0.4665710 & 0.5009869\\\\\n",
       "\t7 & 0.4632351 & 0.4246775 & 0.5022374\\\\\n",
       "\t9 & 0.4992856 & 0.4985278 & 0.5000434\\\\\n",
       "\t12 & 0.5131737 & 0.4991995 & 0.5271273\\\\\n",
       "\t15 & 0.4814605 & 0.4618516 & 0.5011267\\\\\n",
       "\\end{tabular}\n"
      ],
      "text/markdown": [
       "\n",
       "| <!--/--> | pred_m | lwr | upr |\n",
       "|---|---|---|---|\n",
       "| 4 | 0.5164782 | 0.4989986 | 0.5339175 |\n",
       "| 5 | 0.4837597 | 0.4665710 | 0.5009869 |\n",
       "| 7 | 0.4632351 | 0.4246775 | 0.5022374 |\n",
       "| 9 | 0.4992856 | 0.4985278 | 0.5000434 |\n",
       "| 12 | 0.5131737 | 0.4991995 | 0.5271273 |\n",
       "| 15 | 0.4814605 | 0.4618516 | 0.5011267 |\n",
       "\n"
      ],
      "text/plain": [
       "   pred_m    lwr       upr      \n",
       "4  0.5164782 0.4989986 0.5339175\n",
       "5  0.4837597 0.4665710 0.5009869\n",
       "7  0.4632351 0.4246775 0.5022374\n",
       "9  0.4992856 0.4985278 0.5000434\n",
       "12 0.5131737 0.4991995 0.5271273\n",
       "15 0.4814605 0.4618516 0.5011267"
      ]
     },
     "metadata": {},
     "output_type": "display_data"
    },
    {
     "data": {
      "image/png": "[encoded data removed]",
      "text/plain": [
       "plot without title"
      ]
     },
     "metadata": {},
     "output_type": "display_data"
    }
   ],
   "source": [
    "# plotting probability prediction intervals\n",
    "# make df\n",
    "df= data.frame('pred_m'=pred_m, \"lwr\" = pred_lwr, \"upr\" = pred_upr)\n",
    "head(df)\n",
    "\n",
    "ggplot(df, aes_string(x = test$Lag1,y = pred_m)) + \n",
    "      geom_line(colour = \"blue\") + \n",
    "      geom_point() + \n",
    "      geom_ribbon(aes(ymin = lwr, ymax = upr), alpha = 0.2) "
   ]
  },
  {
   "cell_type": "markdown",
   "id": "0775e764-ba4b-4926-bb37-04ccfe3f3611",
   "metadata": {
    "jupyter": {
     "outputs_hidden": true
    }
   },
   "source": [
    "## LDA Basics"
   ]
  },
  {
   "cell_type": "code",
   "execution_count": 530,
   "id": "5e32ed41-a5d3-453a-9cb0-40d84cdc06c2",
   "metadata": {
    "tags": []
   },
   "outputs": [],
   "source": [
    "library(MASS)\n",
    "lda.fit=lda(Direction~.-Year-Today,data=train)\n",
    "#qda.fit=qda()"
   ]
  },
  {
   "cell_type": "code",
   "execution_count": 531,
   "id": "5dc4fabc-7786-4f01-8cf9-f6c2bb2d11ac",
   "metadata": {
    "tags": []
   },
   "outputs": [
    {
     "data": {
      "text/plain": [
       "Call:\n",
       "lda(Direction ~ . - Year - Today, data = train)\n",
       "\n",
       "Prior probabilities of groups:\n",
       "Down   Up \n",
       "0.48 0.52 \n",
       "\n",
       "Group means:\n",
       "            Lag1        Lag2         Lag3        Lag4        Lag5   Volume\n",
       "Down  0.08153542  0.04150625 -0.011677083 0.003410417 -0.01339167 1.473297\n",
       "Up   -0.05047885 -0.02746538  0.001167308 0.052373077  0.05979615 1.500315\n",
       "\n",
       "Coefficients of linear discriminants:\n",
       "               LD1\n",
       "Lag1   -0.63300151\n",
       "Lag2   -0.31230274\n",
       "Lag3    0.03383194\n",
       "Lag4    0.23623382\n",
       "Lag5    0.32975035\n",
       "Volume  1.24582581"
      ]
     },
     "metadata": {},
     "output_type": "display_data"
    }
   ],
   "source": [
    "lda.fit"
   ]
  },
  {
   "cell_type": "code",
   "execution_count": 532,
   "id": "99fc91c1-8c26-4760-89c1-f7a51285b1a6",
   "metadata": {},
   "outputs": [],
   "source": [
    "lda.pred=predict(lda.fit) #directly gives class not probability"
   ]
  },
  {
   "cell_type": "code",
   "execution_count": 533,
   "id": "f9a44ee3-0a33-409d-bdf4-df392cefb0ed",
   "metadata": {
    "tags": []
   },
   "outputs": [
    {
     "data": {
      "text/html": [
       "<ol class=list-inline>\n",
       "\t<li>'class'</li>\n",
       "\t<li>'posterior'</li>\n",
       "\t<li>'x'</li>\n",
       "</ol>\n"
      ],
      "text/latex": [
       "\\begin{enumerate*}\n",
       "\\item 'class'\n",
       "\\item 'posterior'\n",
       "\\item 'x'\n",
       "\\end{enumerate*}\n"
      ],
      "text/markdown": [
       "1. 'class'\n",
       "2. 'posterior'\n",
       "3. 'x'\n",
       "\n",
       "\n"
      ],
      "text/plain": [
       "[1] \"class\"     \"posterior\" \"x\"        "
      ]
     },
     "metadata": {},
     "output_type": "display_data"
    }
   ],
   "source": [
    "names(lda.pred)"
   ]
  },
  {
   "cell_type": "code",
   "execution_count": 534,
   "id": "f33a17e7-835e-4aa3-9458-bde2a52a8d31",
   "metadata": {
    "tags": []
   },
   "outputs": [
    {
     "data": {
      "text/plain": [
       "      Direction\n",
       "       Down  Up\n",
       "  Down  155 141\n",
       "  Up    325 379"
      ]
     },
     "metadata": {},
     "output_type": "display_data"
    }
   ],
   "source": [
    "table(lda.pred$class,Direction) #confusion matrix"
   ]
  },
  {
   "cell_type": "code",
   "execution_count": 535,
   "id": "6d4ce6ef-7b1c-4f84-a4f3-3c976de0d018",
   "metadata": {
    "tags": []
   },
   "outputs": [
    {
     "data": {
      "image/png": "[encoded data removed]",
      "text/plain": [
       "plot without title"
      ]
     },
     "metadata": {},
     "output_type": "display_data"
    }
   ],
   "source": [
    "plot(lda.pred$x,Lag1) # more the x (LDA factor) more the prob of being in Direction=1 and not 0"
   ]
  },
  {
   "cell_type": "markdown",
   "id": "788932a5-c232-46f6-889d-4a5e3d7f5f97",
   "metadata": {},
   "source": [
    "### KNN"
   ]
  },
  {
   "cell_type": "code",
   "execution_count": 536,
   "id": "d83fa633-ca18-4296-ae60-20aab45f70b1",
   "metadata": {},
   "outputs": [],
   "source": [
    "# knn()"
   ]
  },
  {
   "cell_type": "markdown",
   "id": "2e3b2094-c4de-4dcc-8564-6fffd5701d0d",
   "metadata": {},
   "source": [
    "### Inference\n",
    "\n",
    "Coef increase decrease meaning. "
   ]
  },
  {
   "cell_type": "markdown",
   "id": "a3277e8b-2637-4994-b7e7-92b1b1dc5e67",
   "metadata": {},
   "source": [
    "### Comparing models\n",
    "\n",
    "#### train test set\n",
    " accuracy, confusion matrix, AIC, BIC etc.\n",
    "\n"
   ]
  },
  {
   "cell_type": "code",
   "execution_count": null,
   "id": "faa9d6d7-7df5-4df8-bed4-b295464da4da",
   "metadata": {
    "collapsed": true,
    "jupyter": {
     "outputs_hidden": true
    },
    "tags": []
   },
   "outputs": [],
   "source": []
  },
  {
   "cell_type": "code",
   "execution_count": null,
   "id": "2a6bdebb-bc07-40b4-99f0-14b2f8957819",
   "metadata": {
    "collapsed": true,
    "jupyter": {
     "outputs_hidden": true
    }
   },
   "outputs": [],
   "source": []
  }
 ],
 "metadata": {
  "kernelspec": {
   "display_name": "R",
   "language": "R",
   "name": "ir"
  },
  "language_info": {
   "codemirror_mode": "r",
   "file_extension": ".r",
   "mimetype": "text/x-r-source",
   "name": "R",
   "pygments_lexer": "r",
   "version": "3.6.1"
  }
 },
 "nbformat": 4,
 "nbformat_minor": 5
}
