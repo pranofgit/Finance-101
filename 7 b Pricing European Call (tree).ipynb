{
 "cells": [
  {
   "cell_type": "markdown",
   "id": "8fba2924-0fe4-4e03-9846-b78b3e0513f4",
   "metadata": {},
   "source": [
    "## Pricing European Option\n",
    "\n",
    "### Using Binomial tree"
   ]
  },
  {
   "cell_type": "code",
   "execution_count": 52,
   "id": "97970b79-ecfa-49ab-8649-fafb9bca432b",
   "metadata": {},
   "outputs": [],
   "source": [
    "#Initial input\n",
    "\n",
    "S=1\n",
    "K=1\n",
    "r=0.05\n",
    "T=1 # year, time to maturity\n",
    "v=0.02\n",
    "\n",
    "BSM_call=0.0488 # the BSM call value for above values\n",
    "BSM_put=3.90914708412321e-05"
   ]
  },
  {
   "cell_type": "markdown",
   "id": "1dbf3a6a-4dab-4a79-bc40-37efac0915a1",
   "metadata": {},
   "source": [
    "In the discrete BSM world:\n",
    "\n",
    "$S_{j+1}=S_j exp\\left[(r-\\frac{\\sigma^2}{2})\\Delta t + \\sigma \\sqrt{\\Delta t}X_j\\right]$\n",
    "\n",
    "For $u: X_j=1, d: X_j=-1$\n",
    "\n",
    "Ref: Mark Joshi, Eqn 7.14"
   ]
  },
  {
   "cell_type": "code",
   "execution_count": 67,
   "id": "9719f9b6-87db-4727-874c-8e47ff1f68c5",
   "metadata": {},
   "outputs": [],
   "source": [
    "def tree_call(N,S,K,r,T,v):\n",
    "    dt=T/N #step size\n",
    "    u=np.exp((r- v**2 /2)*dt+v*np.sqrt(dt))\n",
    "    d=np.exp((r- v**2 /2)*dt-v*np.sqrt(dt))\n",
    "    p= (np.exp(r*dt)-d)/(u-d)# probability of up, 1=e^(-rt)(pu+(1-p)d)\n",
    "    #print(p)\n",
    "    S_tree=np.zeros([N+1,N+1]) # use just the upper triangle of this square # total nodes N(N+1)/2\n",
    "    # rows: the node at that step, col: the step\n",
    "    for i in range(N+1): #step\n",
    "        for j in range(i+1): #nodes # at each step- have n+1 nodes, as ud=du\n",
    "            S_tree[j,i]=S*u**(i-j)*d**(j) # from top to down power of u decreases, d increases, sum of powers=step/col\n",
    "    \n",
    "    option_tree=np.zeros([N+1,N+1])\n",
    "    option_tree[:,N]=np.maximum(np.zeros(N+1),S_tree[:,N]-K) # payoff at maturity\n",
    "    # now construct rest of the option tree using the option values at last step\n",
    "    for i in reversed(range(N)): #steps # reversed as fill tree backwards\n",
    "        for j in range(i+1):\n",
    "            option_tree[j,i]=(np.exp(-r*dt))*(option_tree[j,i+1]*p+option_tree[j+1,i+1]*(1-p))\n",
    "            # here, i+1 as next step, j - the up value, j+1 the down value (imagine upper triangle of matrix)\n",
    "    return option_tree[0,0]\n",
    "\n",
    "\n",
    "def tree_put(N,S,K,r,T,v):\n",
    "    dt=T/N #step size\n",
    "    u=np.exp(v*np.sqrt(dt))\n",
    "    d=1/u\n",
    "    p= (np.exp(r*dt)-d)/(u-d)# probability of up, 1=e^(-rt)(pu+(1-p)d)\n",
    "    #print(p)\n",
    "    S_tree=np.zeros([N+1,N+1]) # use just the upper triangle of this square\n",
    "    # rows: the node at that step, col: the step\n",
    "    for i in range(N+1): #step\n",
    "        for j in range(i+1): #nodes # at each step- have n+1 nodes, as ud=du\n",
    "            S_tree[j,i]=S*u**(i-j)*d**(j) # from top to down power of u decreases, d increases, sum of powers=step/col\n",
    "    \n",
    "    option_tree=np.zeros([N+1,N+1])\n",
    "    option_tree[:,N]=np.maximum(np.zeros(N+1),-S_tree[:,N]+K) # payoff at maturity\n",
    "    # now construct rest of the option tree using the option values at last step\n",
    "    for i in reversed(range(N)): #steps # reversed as fill tree backwards\n",
    "        for j in range(i+1):\n",
    "            option_tree[j,i]=(np.exp(-r*dt))*(option_tree[j,i+1]*p+option_tree[j+1,i+1]*(1-p))\n",
    "            # here, i+1 as next step, j - the up value, j+1 the down value (imagine upper triangle of matrix)\n",
    "    return option_tree[0,0]\n",
    "            "
   ]
  },
  {
   "cell_type": "code",
   "execution_count": 66,
   "id": "bb767e9b-481c-4336-9fc6-48f1b4f383ce",
   "metadata": {},
   "outputs": [
    {
     "name": "stdout",
     "output_type": "stream",
     "text": [
      "0.5000000000477973\n"
     ]
    },
    {
     "data": {
      "text/plain": [
       "0.04880931997737296"
      ]
     },
     "metadata": {},
     "output_type": "display_data"
    },
    {
     "data": {
      "text/plain": [
       "3.786670771187805e-05"
      ]
     },
     "metadata": {},
     "output_type": "display_data"
    }
   ],
   "source": [
    "N=365\n",
    "oc=tree_call(N,S,K,r,T,v)\n",
    "op=tree_put(N,S,K,r,T,v)\n",
    "display(oc,op)"
   ]
  },
  {
   "cell_type": "code",
   "execution_count": 64,
   "id": "0064b319-bf17-4f8f-9407-fc0d951b07d3",
   "metadata": {},
   "outputs": [
    {
     "data": {
      "text/plain": [
       "[<matplotlib.lines.Line2D at 0x19c18868160>]"
      ]
     },
     "execution_count": 64,
     "metadata": {},
     "output_type": "execute_result"
    },
    {
     "data": {
      "image/png": "[encoded data removed]",
      "text/plain": [
       "<Figure size 432x288 with 1 Axes>"
      ]
     },
     "metadata": {
      "needs_background": "light"
     },
     "output_type": "display_data"
    }
   ],
   "source": [
    "# convergence of price wrt steps\n",
    "import matplotlib.pyplot as plt\n",
    "N=np.arange(10,360,5)\n",
    "oc=[]\n",
    "for n in N:\n",
    "    oc.append(tree_call(n,S,K,r,T,v))\n",
    "\n",
    "plt.plot(N,oc)"
   ]
  },
  {
   "cell_type": "markdown",
   "id": "aea5d01e-3e59-4523-a45f-50154deef8f2",
   "metadata": {},
   "source": [
    "Notice the zig zag shape, this arises because of odd or even nodes in final layer.  "
   ]
  }
 ],
 "metadata": {
  "kernelspec": {
   "display_name": "Python 3 (ipykernel)",
   "language": "python",
   "name": "python3"
  },
  "language_info": {
   "codemirror_mode": {
    "name": "ipython",
    "version": 3
   },
   "file_extension": ".py",
   "mimetype": "text/x-python",
   "name": "python",
   "nbconvert_exporter": "python",
   "pygments_lexer": "ipython3",
   "version": "3.8.11"
  }
 },
 "nbformat": 4,
 "nbformat_minor": 5
}
