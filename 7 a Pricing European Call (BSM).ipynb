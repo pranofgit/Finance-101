{
 "cells": [
  {
   "cell_type": "markdown",
   "id": "22d16308-b83d-4419-af83-b65355035962",
   "metadata": {},
   "source": [
    "## Pricing European Option\n",
    "\n",
    "### Using BS formula"
   ]
  },
  {
   "cell_type": "code",
   "execution_count": 204,
   "id": "aa68dac0-5b00-4569-b6e0-e500539198d2",
   "metadata": {},
   "outputs": [],
   "source": [
    "import yfinance as yf\n",
    "import pandas as pd\n",
    "import numpy as np\n",
    "import matplotlib.pyplot as plt\n",
    "\n",
    "from scipy.stats import norm"
   ]
  },
  {
   "cell_type": "code",
   "execution_count": 205,
   "id": "0e26e807-2934-49b6-b61b-862695e032c8",
   "metadata": {},
   "outputs": [],
   "source": [
    "# define a function\n",
    "\n",
    "def BS_call(S0,K, r, T, v):\n",
    "    # S0: current price\n",
    "    #K: strike price\n",
    "    #r: risk free rate\n",
    "    # T: time to maturity\n",
    "    # v: volatility/ standard deviation of log returns\n",
    "    d1=(np.log(S0 / K) + (r + v**2 / 2.0) * T) / (v * np.sqrt(T))\n",
    "    d2=d1-v * np.sqrt(T)\n",
    "    return S0*norm.cdf(d1)-K*np.exp(-r*T)*norm.cdf(d2)\n",
    "    \n",
    "def BS_put(S0,K, r, T, v):\n",
    "    # S0: current price\n",
    "    #K: strike price\n",
    "    #r: risk free rate\n",
    "    # T: time to maturity\n",
    "    # v: volatility/ standard deviation of log returns\n",
    "    d1=(np.log(S0 / K) + (r + v**2 / 2.0) * T) / (v * np.sqrt(T))\n",
    "    d2=d1-v * np.sqrt(T)\n",
    "    return -S0*norm.cdf(-d1)+K*np.exp(-r*T)*norm.cdf(-d2)\n",
    "\n",
    "\n",
    "def maturity_date(name): # find date of maturity from option name\n",
    "    for i, c in enumerate(name):# position of first digit\n",
    "        if c.isdigit():\n",
    "            pos=i\n",
    "            break\n",
    "    return pd.to_datetime(name[pos:pos+6],format='%y%m%d')"
   ]
  },
  {
   "cell_type": "code",
   "execution_count": 160,
   "id": "99947367-691a-49ef-8581-78d8b9262d6e",
   "metadata": {},
   "outputs": [
    {
     "name": "stdout",
     "output_type": "stream",
     "text": [
      "[*********************100%***********************]  1 of 1 completed\n"
     ]
    }
   ],
   "source": [
    "# example: Apple stock\n",
    "stock='AAPL'\n",
    "start_date=pd.to_datetime('today')-pd.Timedelta(365,'days')\n",
    "end_date=pd.to_datetime('today')\n",
    "\n",
    "# get data for 1 year, to find S0 and v\n",
    "stock_data=yf.download(stock,start=start_date,end=end_date)\n",
    "\n",
    "# get the options data to be used for comparison with our BSM result\n",
    "stock_tick= yf.Ticker(stock)\n",
    "\n",
    "DF_calls, DF_puts = stock_tick.option_chain(stock_tick.options[0])\n",
    "\n",
    "S0=stock_data.loc[pd.to_datetime(DF_calls.lastTradeDate[0].date())]['Adj Close']\n",
    "v=np.log(stock_data['Adj Close']).diff().dropna().std()\n",
    "r=0.025 # assuming this as the risk free rate\n",
    "\n",
    "K_call=DF_calls.strike[0]\n",
    "K_put=DF_puts.strike[0]\n",
    "\n",
    "C_market=DF_calls.lastPrice[0]\n",
    "P_market=DF_puts.lastPrice[0]\n",
    "\n",
    "# time to maturity in years\n",
    "T=(maturity_date(DF_calls['contractSymbol'][0])-end_date).days /365\n"
   ]
  },
  {
   "cell_type": "code",
   "execution_count": 161,
   "id": "0f298ba8-6a17-4bc5-80c2-109718c32b1f",
   "metadata": {},
   "outputs": [
    {
     "data": {
      "text/plain": [
       "50.0"
      ]
     },
     "execution_count": 161,
     "metadata": {},
     "output_type": "execute_result"
    }
   ],
   "source": [
    "K_put"
   ]
  },
  {
   "cell_type": "code",
   "execution_count": 168,
   "id": "a8591490-16cc-494a-ad8b-b4bc35aa8fc2",
   "metadata": {},
   "outputs": [
    {
     "data": {
      "text/plain": [
       "95.86342515060569"
      ]
     },
     "execution_count": 168,
     "metadata": {},
     "output_type": "execute_result"
    }
   ],
   "source": [
    "BS_call(S0,K_call,r,T,v)"
   ]
  },
  {
   "cell_type": "code",
   "execution_count": 163,
   "id": "c9b4299a-f8a9-4d74-8a50-c5a279e0d0f8",
   "metadata": {},
   "outputs": [
    {
     "data": {
      "text/plain": [
       "96.0"
      ]
     },
     "execution_count": 163,
     "metadata": {},
     "output_type": "execute_result"
    }
   ],
   "source": [
    "C_market"
   ]
  },
  {
   "cell_type": "code",
   "execution_count": 164,
   "id": "13970c2c-8c12-4c1a-91c8-e2a73672578e",
   "metadata": {},
   "outputs": [
    {
     "data": {
      "text/plain": [
       "0.0"
      ]
     },
     "execution_count": 164,
     "metadata": {},
     "output_type": "execute_result"
    }
   ],
   "source": [
    "BS_put(S0,K_put,r,T,v)"
   ]
  },
  {
   "cell_type": "code",
   "execution_count": 170,
   "id": "b2ebc988-0191-4ddd-97f6-0df561cb48a6",
   "metadata": {},
   "outputs": [
    {
     "data": {
      "text/plain": [
       "0.01"
      ]
     },
     "execution_count": 170,
     "metadata": {},
     "output_type": "execute_result"
    }
   ],
   "source": [
    "P_market"
   ]
  },
  {
   "cell_type": "markdown",
   "id": "244f32ee-9071-417e-9a7a-dc912c7d9402",
   "metadata": {},
   "source": [
    "We see that BSM works as a pretty good approximation. Note: T is very small here."
   ]
  },
  {
   "cell_type": "markdown",
   "id": "582e1687-fd7d-458f-a1e3-8349010218ed",
   "metadata": {},
   "source": [
    "### Plotting BSM formula"
   ]
  },
  {
   "cell_type": "code",
   "execution_count": null,
   "id": "a9772bc3-90d1-4910-91af-2741014831a3",
   "metadata": {},
   "outputs": [],
   "source": [
    "# wrt S0,K,r,T,v"
   ]
  },
  {
   "cell_type": "code",
   "execution_count": 203,
   "id": "0328fc7c-212a-4178-9edb-bde947cab6dd",
   "metadata": {},
   "outputs": [
    {
     "data": {
      "text/plain": [
       "3.90914708412321e-05"
      ]
     },
     "execution_count": 203,
     "metadata": {},
     "output_type": "execute_result"
    }
   ],
   "source": [
    "S0=1\n",
    "K=1\n",
    "r=0.05\n",
    "T=1 # year\n",
    "v=0.02\n",
    "\n",
    "BS_put(S0,K,r,T,v)\n"
   ]
  },
  {
   "cell_type": "code",
   "execution_count": 200,
   "id": "8144731d-0225-4514-ab6f-2417e537e5ea",
   "metadata": {},
   "outputs": [
    {
     "data": {
      "image/png": "[encoded data removed]",
      "text/plain": [
       "<Figure size 720x432 with 5 Axes>"
      ]
     },
     "metadata": {
      "needs_background": "light"
     },
     "output_type": "display_data"
    }
   ],
   "source": [
    "plt.figure(figsize=(10,6))\n",
    "\n",
    "plt.subplot(3,2,1)\n",
    "plt.plot(np.arange(0.01,5,0.5),BS_call(np.arange(0.01,5,0.5),K,r,T,v))\n",
    "plt.xlabel('S0')\n",
    "plt.ylabel('BS_call')\n",
    "plt.grid()\n",
    "\n",
    "plt.subplot(3,2,2)\n",
    "plt.plot(np.arange(0.01,5,0.5),BS_call(S0,np.arange(0.01,5,0.5),r,T,v))\n",
    "plt.xlabel('K')\n",
    "plt.ylabel('BS_call')\n",
    "plt.grid()\n",
    "\n",
    "plt.subplot(3,2,3)\n",
    "plt.plot(np.arange(0.01,1,0.05),BS_call(S0,K,np.arange(0.01,1,0.05),T,v))\n",
    "plt.xlabel('r')\n",
    "plt.ylabel('BS_call')\n",
    "plt.grid()\n",
    "\n",
    "plt.subplot(3,2,4)\n",
    "plt.plot(np.arange(0.01,1,0.05),BS_call(S0,K,r,np.arange(0.01,1,0.05),v))\n",
    "plt.xlabel('T')\n",
    "plt.ylabel('BS_call')\n",
    "plt.grid()\n",
    "\n",
    "plt.subplot(3,2,5)\n",
    "plt.plot(np.arange(0.01,1,0.05),BS_call(S0,K,r,T,np.arange(0.01,1,0.05)))\n",
    "plt.xlabel('v')\n",
    "plt.ylabel('BS_call')\n",
    "plt.grid()\n",
    "\n",
    "plt.show()"
   ]
  },
  {
   "cell_type": "markdown",
   "id": "1eaa9319-d0de-454c-8a7a-a9616368b2f1",
   "metadata": {},
   "source": [
    "### Put Call Parity\n",
    "\n",
    "European put and a call on the same underlying with same maturity and strike follow-\n",
    "\n",
    "$c-p=S_0-Ke^{-rT}$"
   ]
  },
  {
   "cell_type": "code",
   "execution_count": 207,
   "id": "69a6b982-e653-40c1-98f4-22f2d906c72a",
   "metadata": {},
   "outputs": [
    {
     "name": "stdout",
     "output_type": "stream",
     "text": [
      "0.048770575499286\n",
      "0.048770575499285984\n"
     ]
    }
   ],
   "source": [
    "S0=1\n",
    "K=1\n",
    "r=0.05\n",
    "T=1 # year\n",
    "v=0.02\n",
    "\n",
    "print(BS_call(S0,K,r,T,v)-BS_put(S0,K,r,T,v))\n",
    "print(S0-K*np.exp(-r*T))"
   ]
  },
  {
   "cell_type": "code",
   "execution_count": null,
   "id": "34a3f367-2322-43d4-ac82-71652e148ac0",
   "metadata": {},
   "outputs": [],
   "source": []
  }
 ],
 "metadata": {
  "kernelspec": {
   "display_name": "Python 3 (ipykernel)",
   "language": "python",
   "name": "python3"
  },
  "language_info": {
   "codemirror_mode": {
    "name": "ipython",
    "version": 3
   },
   "file_extension": ".py",
   "mimetype": "text/x-python",
   "name": "python",
   "nbconvert_exporter": "python",
   "pygments_lexer": "ipython3",
   "version": "3.8.11"
  }
 },
 "nbformat": 4,
 "nbformat_minor": 5
}
