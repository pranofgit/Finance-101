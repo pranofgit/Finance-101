{
 "cells": [
  {
   "cell_type": "markdown",
   "id": "9c94bc4c-b80e-4e9c-9dff-7eb359b1deec",
   "metadata": {},
   "source": [
    "## Feature selection and Logistic regression for Bankruptcy data\n",
    "\n",
    "We start with 95 features-- boil it down to -- just 3 features-- model a logistic regression on it.\n",
    "\n",
    "**Results:** For an imbalanced data with $\\sim 97%$ values $negative (0, not bankrupt)$. We choose the metric as F2 score, to account for the assumption that to missclassify a bankrupt company (False negative) is more costly.\n",
    "\n",
    "The most preliminary model, which has a lot of scope for improvement, gives recall_score=0.86 and f2_Score=0.52. \n",
    "\n",
    "**Scope for improvement:** Try other sets of features. Slowly increase the number of features from 3. Implement CV on threshold value of probabilty to prediction. Combine and create better features. "
   ]
  },
  {
   "cell_type": "code",
   "execution_count": null,
   "id": "2066ca8b-08ef-4f5e-b6e0-aa6ebd1543c8",
   "metadata": {},
   "outputs": [],
   "source": [
    "import pandas as pd\n",
    "import numpy as np\n",
    "from sklearn.model_selection import train_test_split\n",
    "from sklearn.model_selection import cross_val_score, StratifiedKFold, GridSearchCV\n",
    "import matplotlib.pyplot as plt\n",
    "import seaborn as sns"
   ]
  },
  {
   "cell_type": "code",
   "execution_count": 2,
   "id": "d1fa6b92-1fea-4cc9-966b-ae045cc8eabc",
   "metadata": {},
   "outputs": [],
   "source": [
    "from sklearn.tree import DecisionTreeClassifier"
   ]
  },
  {
   "cell_type": "code",
   "execution_count": 3,
   "id": "70dc3d70-89ea-401d-875c-e6830079581b",
   "metadata": {},
   "outputs": [
    {
     "data": {
      "text/plain": [
       "Index([], dtype='object')"
      ]
     },
     "execution_count": 3,
     "metadata": {},
     "output_type": "execute_result"
    }
   ],
   "source": [
    "df=pd.read_csv('./data.csv')\n",
    "#null check\n",
    "df.columns[df.isnull().sum()!=0]"
   ]
  },
  {
   "cell_type": "markdown",
   "id": "18358404-8164-40cb-a986-cefec12ce422",
   "metadata": {},
   "source": [
    "### Data Split"
   ]
  },
  {
   "cell_type": "code",
   "execution_count": 282,
   "id": "94df5b60-88fb-4d32-a0f7-9883bc312483",
   "metadata": {},
   "outputs": [],
   "source": [
    "# data split (split data at early stage to avoid data snooping)\n",
    "df_train, df_test=train_test_split(df,random_state=42, train_size=0.75)\n",
    "y_name=df.columns[0]\n",
    "#df_train=df.sample(frac=0.75,random_state=42)\n",
    "#df_test=df.drop(df_train.index)"
   ]
  },
  {
   "cell_type": "markdown",
   "id": "c8176574-2fcb-41a5-9755-a5ff9a1728d5",
   "metadata": {},
   "source": [
    "### Data Introduction"
   ]
  },
  {
   "cell_type": "code",
   "execution_count": 5,
   "id": "acda32f4-f260-4e00-9597-631e6099a72a",
   "metadata": {},
   "outputs": [
    {
     "data": {
      "text/html": [
       "<div>\n",
       "<style scoped>\n",
       "    .dataframe tbody tr th:only-of-type {\n",
       "        vertical-align: middle;\n",
       "    }\n",
       "\n",
       "    .dataframe tbody tr th {\n",
       "        vertical-align: top;\n",
       "    }\n",
       "\n",
       "    .dataframe thead th {\n",
       "        text-align: right;\n",
       "    }\n",
       "</style>\n",
       "<table border=\"1\" class=\"dataframe\">\n",
       "  <thead>\n",
       "    <tr style=\"text-align: right;\">\n",
       "      <th></th>\n",
       "      <th>Bankrupt?</th>\n",
       "      <th>ROA(C) before interest and depreciation before interest</th>\n",
       "      <th>ROA(A) before interest and % after tax</th>\n",
       "      <th>ROA(B) before interest and depreciation after tax</th>\n",
       "      <th>Operating Gross Margin</th>\n",
       "      <th>Realized Sales Gross Margin</th>\n",
       "      <th>Operating Profit Rate</th>\n",
       "      <th>Pre-tax net Interest Rate</th>\n",
       "      <th>After-tax net Interest Rate</th>\n",
       "      <th>Non-industry income and expenditure/revenue</th>\n",
       "      <th>...</th>\n",
       "      <th>Net Income to Total Assets</th>\n",
       "      <th>Total assets to GNP price</th>\n",
       "      <th>No-credit Interval</th>\n",
       "      <th>Gross Profit to Sales</th>\n",
       "      <th>Net Income to Stockholder's Equity</th>\n",
       "      <th>Liability to Equity</th>\n",
       "      <th>Degree of Financial Leverage (DFL)</th>\n",
       "      <th>Interest Coverage Ratio (Interest expense to EBIT)</th>\n",
       "      <th>Net Income Flag</th>\n",
       "      <th>Equity to Liability</th>\n",
       "    </tr>\n",
       "  </thead>\n",
       "  <tbody>\n",
       "    <tr>\n",
       "      <th>2825</th>\n",
       "      <td>0</td>\n",
       "      <td>0.492663</td>\n",
       "      <td>0.550207</td>\n",
       "      <td>0.539751</td>\n",
       "      <td>0.646168</td>\n",
       "      <td>0.646168</td>\n",
       "      <td>0.999330</td>\n",
       "      <td>0.797829</td>\n",
       "      <td>0.809604</td>\n",
       "      <td>0.303537</td>\n",
       "      <td>...</td>\n",
       "      <td>0.807538</td>\n",
       "      <td>0.018425</td>\n",
       "      <td>0.624224</td>\n",
       "      <td>0.646167</td>\n",
       "      <td>0.842213</td>\n",
       "      <td>0.295068</td>\n",
       "      <td>0.026791</td>\n",
       "      <td>0.565158</td>\n",
       "      <td>1</td>\n",
       "      <td>0.014980</td>\n",
       "    </tr>\n",
       "    <tr>\n",
       "      <th>251</th>\n",
       "      <td>0</td>\n",
       "      <td>0.451567</td>\n",
       "      <td>0.494003</td>\n",
       "      <td>0.502757</td>\n",
       "      <td>0.594740</td>\n",
       "      <td>0.594791</td>\n",
       "      <td>0.998916</td>\n",
       "      <td>0.797137</td>\n",
       "      <td>0.809078</td>\n",
       "      <td>0.303194</td>\n",
       "      <td>...</td>\n",
       "      <td>0.769345</td>\n",
       "      <td>0.014932</td>\n",
       "      <td>0.624274</td>\n",
       "      <td>0.594740</td>\n",
       "      <td>0.837952</td>\n",
       "      <td>0.279378</td>\n",
       "      <td>0.026568</td>\n",
       "      <td>0.563808</td>\n",
       "      <td>1</td>\n",
       "      <td>0.030844</td>\n",
       "    </tr>\n",
       "    <tr>\n",
       "      <th>1209</th>\n",
       "      <td>0</td>\n",
       "      <td>0.514698</td>\n",
       "      <td>0.571195</td>\n",
       "      <td>0.564002</td>\n",
       "      <td>0.600528</td>\n",
       "      <td>0.600528</td>\n",
       "      <td>0.999054</td>\n",
       "      <td>0.797446</td>\n",
       "      <td>0.809353</td>\n",
       "      <td>0.303446</td>\n",
       "      <td>...</td>\n",
       "      <td>0.807833</td>\n",
       "      <td>0.000979</td>\n",
       "      <td>0.690700</td>\n",
       "      <td>0.600523</td>\n",
       "      <td>0.841299</td>\n",
       "      <td>0.283328</td>\n",
       "      <td>0.027549</td>\n",
       "      <td>0.567263</td>\n",
       "      <td>1</td>\n",
       "      <td>0.021427</td>\n",
       "    </tr>\n",
       "    <tr>\n",
       "      <th>4989</th>\n",
       "      <td>0</td>\n",
       "      <td>0.512163</td>\n",
       "      <td>0.599270</td>\n",
       "      <td>0.566733</td>\n",
       "      <td>0.599021</td>\n",
       "      <td>0.599021</td>\n",
       "      <td>0.999020</td>\n",
       "      <td>0.797484</td>\n",
       "      <td>0.809413</td>\n",
       "      <td>0.303584</td>\n",
       "      <td>...</td>\n",
       "      <td>0.820229</td>\n",
       "      <td>0.009966</td>\n",
       "      <td>0.628624</td>\n",
       "      <td>0.599020</td>\n",
       "      <td>0.842259</td>\n",
       "      <td>0.281235</td>\n",
       "      <td>0.027002</td>\n",
       "      <td>0.565997</td>\n",
       "      <td>1</td>\n",
       "      <td>0.025002</td>\n",
       "    </tr>\n",
       "    <tr>\n",
       "      <th>5396</th>\n",
       "      <td>0</td>\n",
       "      <td>0.598011</td>\n",
       "      <td>0.643262</td>\n",
       "      <td>0.643825</td>\n",
       "      <td>0.617233</td>\n",
       "      <td>0.617233</td>\n",
       "      <td>0.999229</td>\n",
       "      <td>0.797643</td>\n",
       "      <td>0.809517</td>\n",
       "      <td>0.303424</td>\n",
       "      <td>...</td>\n",
       "      <td>0.857429</td>\n",
       "      <td>0.000398</td>\n",
       "      <td>0.624207</td>\n",
       "      <td>0.617234</td>\n",
       "      <td>0.844172</td>\n",
       "      <td>0.277753</td>\n",
       "      <td>0.026791</td>\n",
       "      <td>0.565160</td>\n",
       "      <td>1</td>\n",
       "      <td>0.041749</td>\n",
       "    </tr>\n",
       "  </tbody>\n",
       "</table>\n",
       "<p>5 rows × 96 columns</p>\n",
       "</div>"
      ],
      "text/plain": [
       "      Bankrupt?   ROA(C) before interest and depreciation before interest  \\\n",
       "2825          0                                           0.492663          \n",
       "251           0                                           0.451567          \n",
       "1209          0                                           0.514698          \n",
       "4989          0                                           0.512163          \n",
       "5396          0                                           0.598011          \n",
       "\n",
       "       ROA(A) before interest and % after tax  \\\n",
       "2825                                 0.550207   \n",
       "251                                  0.494003   \n",
       "1209                                 0.571195   \n",
       "4989                                 0.599270   \n",
       "5396                                 0.643262   \n",
       "\n",
       "       ROA(B) before interest and depreciation after tax  \\\n",
       "2825                                           0.539751    \n",
       "251                                            0.502757    \n",
       "1209                                           0.564002    \n",
       "4989                                           0.566733    \n",
       "5396                                           0.643825    \n",
       "\n",
       "       Operating Gross Margin   Realized Sales Gross Margin  \\\n",
       "2825                 0.646168                      0.646168   \n",
       "251                  0.594740                      0.594791   \n",
       "1209                 0.600528                      0.600528   \n",
       "4989                 0.599021                      0.599021   \n",
       "5396                 0.617233                      0.617233   \n",
       "\n",
       "       Operating Profit Rate   Pre-tax net Interest Rate  \\\n",
       "2825                0.999330                    0.797829   \n",
       "251                 0.998916                    0.797137   \n",
       "1209                0.999054                    0.797446   \n",
       "4989                0.999020                    0.797484   \n",
       "5396                0.999229                    0.797643   \n",
       "\n",
       "       After-tax net Interest Rate  \\\n",
       "2825                      0.809604   \n",
       "251                       0.809078   \n",
       "1209                      0.809353   \n",
       "4989                      0.809413   \n",
       "5396                      0.809517   \n",
       "\n",
       "       Non-industry income and expenditure/revenue  ...  \\\n",
       "2825                                      0.303537  ...   \n",
       "251                                       0.303194  ...   \n",
       "1209                                      0.303446  ...   \n",
       "4989                                      0.303584  ...   \n",
       "5396                                      0.303424  ...   \n",
       "\n",
       "       Net Income to Total Assets   Total assets to GNP price  \\\n",
       "2825                     0.807538                    0.018425   \n",
       "251                      0.769345                    0.014932   \n",
       "1209                     0.807833                    0.000979   \n",
       "4989                     0.820229                    0.009966   \n",
       "5396                     0.857429                    0.000398   \n",
       "\n",
       "       No-credit Interval   Gross Profit to Sales  \\\n",
       "2825             0.624224                0.646167   \n",
       "251              0.624274                0.594740   \n",
       "1209             0.690700                0.600523   \n",
       "4989             0.628624                0.599020   \n",
       "5396             0.624207                0.617234   \n",
       "\n",
       "       Net Income to Stockholder's Equity   Liability to Equity  \\\n",
       "2825                             0.842213              0.295068   \n",
       "251                              0.837952              0.279378   \n",
       "1209                             0.841299              0.283328   \n",
       "4989                             0.842259              0.281235   \n",
       "5396                             0.844172              0.277753   \n",
       "\n",
       "       Degree of Financial Leverage (DFL)  \\\n",
       "2825                             0.026791   \n",
       "251                              0.026568   \n",
       "1209                             0.027549   \n",
       "4989                             0.027002   \n",
       "5396                             0.026791   \n",
       "\n",
       "       Interest Coverage Ratio (Interest expense to EBIT)   Net Income Flag  \\\n",
       "2825                                           0.565158                   1   \n",
       "251                                            0.563808                   1   \n",
       "1209                                           0.567263                   1   \n",
       "4989                                           0.565997                   1   \n",
       "5396                                           0.565160                   1   \n",
       "\n",
       "       Equity to Liability  \n",
       "2825              0.014980  \n",
       "251               0.030844  \n",
       "1209              0.021427  \n",
       "4989              0.025002  \n",
       "5396              0.041749  \n",
       "\n",
       "[5 rows x 96 columns]"
      ]
     },
     "execution_count": 5,
     "metadata": {},
     "output_type": "execute_result"
    }
   ],
   "source": [
    "df_train.head()"
   ]
  },
  {
   "cell_type": "code",
   "execution_count": 6,
   "id": "0291781f-bb0e-44a7-9b74-42707554133d",
   "metadata": {},
   "outputs": [
    {
     "data": {
      "text/html": [
       "<div>\n",
       "<style scoped>\n",
       "    .dataframe tbody tr th:only-of-type {\n",
       "        vertical-align: middle;\n",
       "    }\n",
       "\n",
       "    .dataframe tbody tr th {\n",
       "        vertical-align: top;\n",
       "    }\n",
       "\n",
       "    .dataframe thead th {\n",
       "        text-align: right;\n",
       "    }\n",
       "</style>\n",
       "<table border=\"1\" class=\"dataframe\">\n",
       "  <thead>\n",
       "    <tr style=\"text-align: right;\">\n",
       "      <th></th>\n",
       "      <th>Bankrupt?</th>\n",
       "      <th>ROA(C) before interest and depreciation before interest</th>\n",
       "      <th>ROA(A) before interest and % after tax</th>\n",
       "      <th>ROA(B) before interest and depreciation after tax</th>\n",
       "      <th>Operating Gross Margin</th>\n",
       "      <th>Realized Sales Gross Margin</th>\n",
       "      <th>Operating Profit Rate</th>\n",
       "      <th>Pre-tax net Interest Rate</th>\n",
       "      <th>After-tax net Interest Rate</th>\n",
       "      <th>Non-industry income and expenditure/revenue</th>\n",
       "      <th>...</th>\n",
       "      <th>Net Income to Total Assets</th>\n",
       "      <th>Total assets to GNP price</th>\n",
       "      <th>No-credit Interval</th>\n",
       "      <th>Gross Profit to Sales</th>\n",
       "      <th>Net Income to Stockholder's Equity</th>\n",
       "      <th>Liability to Equity</th>\n",
       "      <th>Degree of Financial Leverage (DFL)</th>\n",
       "      <th>Interest Coverage Ratio (Interest expense to EBIT)</th>\n",
       "      <th>Net Income Flag</th>\n",
       "      <th>Equity to Liability</th>\n",
       "    </tr>\n",
       "  </thead>\n",
       "  <tbody>\n",
       "    <tr>\n",
       "      <th>count</th>\n",
       "      <td>5114.000000</td>\n",
       "      <td>5114.000000</td>\n",
       "      <td>5114.000000</td>\n",
       "      <td>5114.000000</td>\n",
       "      <td>5114.000000</td>\n",
       "      <td>5114.000000</td>\n",
       "      <td>5114.000000</td>\n",
       "      <td>5114.000000</td>\n",
       "      <td>5114.000000</td>\n",
       "      <td>5114.000000</td>\n",
       "      <td>...</td>\n",
       "      <td>5114.000000</td>\n",
       "      <td>5.114000e+03</td>\n",
       "      <td>5114.000000</td>\n",
       "      <td>5114.000000</td>\n",
       "      <td>5114.000000</td>\n",
       "      <td>5114.000000</td>\n",
       "      <td>5114.000000</td>\n",
       "      <td>5114.000000</td>\n",
       "      <td>5114.0</td>\n",
       "      <td>5114.000000</td>\n",
       "    </tr>\n",
       "    <tr>\n",
       "      <th>mean</th>\n",
       "      <td>0.031678</td>\n",
       "      <td>0.505570</td>\n",
       "      <td>0.558930</td>\n",
       "      <td>0.553889</td>\n",
       "      <td>0.607971</td>\n",
       "      <td>0.607951</td>\n",
       "      <td>0.998882</td>\n",
       "      <td>0.797280</td>\n",
       "      <td>0.809152</td>\n",
       "      <td>0.303514</td>\n",
       "      <td>...</td>\n",
       "      <td>0.807878</td>\n",
       "      <td>1.865350e+07</td>\n",
       "      <td>0.623935</td>\n",
       "      <td>0.607969</td>\n",
       "      <td>0.840358</td>\n",
       "      <td>0.280366</td>\n",
       "      <td>0.027641</td>\n",
       "      <td>0.565325</td>\n",
       "      <td>1.0</td>\n",
       "      <td>0.047878</td>\n",
       "    </tr>\n",
       "    <tr>\n",
       "      <th>std</th>\n",
       "      <td>0.175158</td>\n",
       "      <td>0.061792</td>\n",
       "      <td>0.066553</td>\n",
       "      <td>0.062583</td>\n",
       "      <td>0.016655</td>\n",
       "      <td>0.016634</td>\n",
       "      <td>0.005507</td>\n",
       "      <td>0.009802</td>\n",
       "      <td>0.011981</td>\n",
       "      <td>0.008433</td>\n",
       "      <td>...</td>\n",
       "      <td>0.041107</td>\n",
       "      <td>3.897754e+08</td>\n",
       "      <td>0.013612</td>\n",
       "      <td>0.016655</td>\n",
       "      <td>0.015397</td>\n",
       "      <td>0.012221</td>\n",
       "      <td>0.017865</td>\n",
       "      <td>0.012591</td>\n",
       "      <td>0.0</td>\n",
       "      <td>0.051433</td>\n",
       "    </tr>\n",
       "    <tr>\n",
       "      <th>min</th>\n",
       "      <td>0.000000</td>\n",
       "      <td>0.000000</td>\n",
       "      <td>0.000000</td>\n",
       "      <td>0.000000</td>\n",
       "      <td>0.000000</td>\n",
       "      <td>0.000000</td>\n",
       "      <td>0.612132</td>\n",
       "      <td>0.160516</td>\n",
       "      <td>0.000000</td>\n",
       "      <td>0.000000</td>\n",
       "      <td>...</td>\n",
       "      <td>0.000000</td>\n",
       "      <td>0.000000e+00</td>\n",
       "      <td>0.000000</td>\n",
       "      <td>0.000000</td>\n",
       "      <td>0.000000</td>\n",
       "      <td>0.133503</td>\n",
       "      <td>0.000000</td>\n",
       "      <td>0.000000</td>\n",
       "      <td>1.0</td>\n",
       "      <td>0.000000</td>\n",
       "    </tr>\n",
       "    <tr>\n",
       "      <th>25%</th>\n",
       "      <td>0.000000</td>\n",
       "      <td>0.476491</td>\n",
       "      <td>0.535775</td>\n",
       "      <td>0.527196</td>\n",
       "      <td>0.600508</td>\n",
       "      <td>0.600499</td>\n",
       "      <td>0.998970</td>\n",
       "      <td>0.797386</td>\n",
       "      <td>0.809312</td>\n",
       "      <td>0.303465</td>\n",
       "      <td>...</td>\n",
       "      <td>0.796871</td>\n",
       "      <td>9.008885e-04</td>\n",
       "      <td>0.623639</td>\n",
       "      <td>0.600507</td>\n",
       "      <td>0.840122</td>\n",
       "      <td>0.276949</td>\n",
       "      <td>0.026791</td>\n",
       "      <td>0.565158</td>\n",
       "      <td>1.0</td>\n",
       "      <td>0.024535</td>\n",
       "    </tr>\n",
       "    <tr>\n",
       "      <th>50%</th>\n",
       "      <td>0.000000</td>\n",
       "      <td>0.503681</td>\n",
       "      <td>0.560565</td>\n",
       "      <td>0.552840</td>\n",
       "      <td>0.606084</td>\n",
       "      <td>0.606077</td>\n",
       "      <td>0.999023</td>\n",
       "      <td>0.797465</td>\n",
       "      <td>0.809377</td>\n",
       "      <td>0.303525</td>\n",
       "      <td>...</td>\n",
       "      <td>0.810869</td>\n",
       "      <td>2.083652e-03</td>\n",
       "      <td>0.623879</td>\n",
       "      <td>0.606083</td>\n",
       "      <td>0.841202</td>\n",
       "      <td>0.278780</td>\n",
       "      <td>0.026808</td>\n",
       "      <td>0.565253</td>\n",
       "      <td>1.0</td>\n",
       "      <td>0.033800</td>\n",
       "    </tr>\n",
       "    <tr>\n",
       "      <th>75%</th>\n",
       "      <td>0.000000</td>\n",
       "      <td>0.536038</td>\n",
       "      <td>0.589893</td>\n",
       "      <td>0.584707</td>\n",
       "      <td>0.613867</td>\n",
       "      <td>0.613817</td>\n",
       "      <td>0.999096</td>\n",
       "      <td>0.797580</td>\n",
       "      <td>0.809470</td>\n",
       "      <td>0.303587</td>\n",
       "      <td>...</td>\n",
       "      <td>0.826879</td>\n",
       "      <td>5.242172e-03</td>\n",
       "      <td>0.624180</td>\n",
       "      <td>0.613863</td>\n",
       "      <td>0.842351</td>\n",
       "      <td>0.281442</td>\n",
       "      <td>0.026913</td>\n",
       "      <td>0.565729</td>\n",
       "      <td>1.0</td>\n",
       "      <td>0.052821</td>\n",
       "    </tr>\n",
       "    <tr>\n",
       "      <th>max</th>\n",
       "      <td>1.000000</td>\n",
       "      <td>1.000000</td>\n",
       "      <td>1.000000</td>\n",
       "      <td>1.000000</td>\n",
       "      <td>1.000000</td>\n",
       "      <td>1.000000</td>\n",
       "      <td>0.999778</td>\n",
       "      <td>1.000000</td>\n",
       "      <td>1.000000</td>\n",
       "      <td>0.730252</td>\n",
       "      <td>...</td>\n",
       "      <td>0.982879</td>\n",
       "      <td>9.820000e+09</td>\n",
       "      <td>1.000000</td>\n",
       "      <td>1.000000</td>\n",
       "      <td>1.000000</td>\n",
       "      <td>0.745352</td>\n",
       "      <td>1.000000</td>\n",
       "      <td>0.736985</td>\n",
       "      <td>1.0</td>\n",
       "      <td>1.000000</td>\n",
       "    </tr>\n",
       "  </tbody>\n",
       "</table>\n",
       "<p>8 rows × 96 columns</p>\n",
       "</div>"
      ],
      "text/plain": [
       "         Bankrupt?   ROA(C) before interest and depreciation before interest  \\\n",
       "count  5114.000000                                        5114.000000          \n",
       "mean      0.031678                                           0.505570          \n",
       "std       0.175158                                           0.061792          \n",
       "min       0.000000                                           0.000000          \n",
       "25%       0.000000                                           0.476491          \n",
       "50%       0.000000                                           0.503681          \n",
       "75%       0.000000                                           0.536038          \n",
       "max       1.000000                                           1.000000          \n",
       "\n",
       "        ROA(A) before interest and % after tax  \\\n",
       "count                              5114.000000   \n",
       "mean                                  0.558930   \n",
       "std                                   0.066553   \n",
       "min                                   0.000000   \n",
       "25%                                   0.535775   \n",
       "50%                                   0.560565   \n",
       "75%                                   0.589893   \n",
       "max                                   1.000000   \n",
       "\n",
       "        ROA(B) before interest and depreciation after tax  \\\n",
       "count                                        5114.000000    \n",
       "mean                                            0.553889    \n",
       "std                                             0.062583    \n",
       "min                                             0.000000    \n",
       "25%                                             0.527196    \n",
       "50%                                             0.552840    \n",
       "75%                                             0.584707    \n",
       "max                                             1.000000    \n",
       "\n",
       "        Operating Gross Margin   Realized Sales Gross Margin  \\\n",
       "count              5114.000000                   5114.000000   \n",
       "mean                  0.607971                      0.607951   \n",
       "std                   0.016655                      0.016634   \n",
       "min                   0.000000                      0.000000   \n",
       "25%                   0.600508                      0.600499   \n",
       "50%                   0.606084                      0.606077   \n",
       "75%                   0.613867                      0.613817   \n",
       "max                   1.000000                      1.000000   \n",
       "\n",
       "        Operating Profit Rate   Pre-tax net Interest Rate  \\\n",
       "count             5114.000000                 5114.000000   \n",
       "mean                 0.998882                    0.797280   \n",
       "std                  0.005507                    0.009802   \n",
       "min                  0.612132                    0.160516   \n",
       "25%                  0.998970                    0.797386   \n",
       "50%                  0.999023                    0.797465   \n",
       "75%                  0.999096                    0.797580   \n",
       "max                  0.999778                    1.000000   \n",
       "\n",
       "        After-tax net Interest Rate  \\\n",
       "count                   5114.000000   \n",
       "mean                       0.809152   \n",
       "std                        0.011981   \n",
       "min                        0.000000   \n",
       "25%                        0.809312   \n",
       "50%                        0.809377   \n",
       "75%                        0.809470   \n",
       "max                        1.000000   \n",
       "\n",
       "        Non-industry income and expenditure/revenue  ...  \\\n",
       "count                                   5114.000000  ...   \n",
       "mean                                       0.303514  ...   \n",
       "std                                        0.008433  ...   \n",
       "min                                        0.000000  ...   \n",
       "25%                                        0.303465  ...   \n",
       "50%                                        0.303525  ...   \n",
       "75%                                        0.303587  ...   \n",
       "max                                        0.730252  ...   \n",
       "\n",
       "        Net Income to Total Assets   Total assets to GNP price  \\\n",
       "count                  5114.000000                5.114000e+03   \n",
       "mean                      0.807878                1.865350e+07   \n",
       "std                       0.041107                3.897754e+08   \n",
       "min                       0.000000                0.000000e+00   \n",
       "25%                       0.796871                9.008885e-04   \n",
       "50%                       0.810869                2.083652e-03   \n",
       "75%                       0.826879                5.242172e-03   \n",
       "max                       0.982879                9.820000e+09   \n",
       "\n",
       "        No-credit Interval   Gross Profit to Sales  \\\n",
       "count          5114.000000             5114.000000   \n",
       "mean              0.623935                0.607969   \n",
       "std               0.013612                0.016655   \n",
       "min               0.000000                0.000000   \n",
       "25%               0.623639                0.600507   \n",
       "50%               0.623879                0.606083   \n",
       "75%               0.624180                0.613863   \n",
       "max               1.000000                1.000000   \n",
       "\n",
       "        Net Income to Stockholder's Equity   Liability to Equity  \\\n",
       "count                          5114.000000           5114.000000   \n",
       "mean                              0.840358              0.280366   \n",
       "std                               0.015397              0.012221   \n",
       "min                               0.000000              0.133503   \n",
       "25%                               0.840122              0.276949   \n",
       "50%                               0.841202              0.278780   \n",
       "75%                               0.842351              0.281442   \n",
       "max                               1.000000              0.745352   \n",
       "\n",
       "        Degree of Financial Leverage (DFL)  \\\n",
       "count                          5114.000000   \n",
       "mean                              0.027641   \n",
       "std                               0.017865   \n",
       "min                               0.000000   \n",
       "25%                               0.026791   \n",
       "50%                               0.026808   \n",
       "75%                               0.026913   \n",
       "max                               1.000000   \n",
       "\n",
       "        Interest Coverage Ratio (Interest expense to EBIT)   Net Income Flag  \\\n",
       "count                                        5114.000000              5114.0   \n",
       "mean                                            0.565325                 1.0   \n",
       "std                                             0.012591                 0.0   \n",
       "min                                             0.000000                 1.0   \n",
       "25%                                             0.565158                 1.0   \n",
       "50%                                             0.565253                 1.0   \n",
       "75%                                             0.565729                 1.0   \n",
       "max                                             0.736985                 1.0   \n",
       "\n",
       "        Equity to Liability  \n",
       "count           5114.000000  \n",
       "mean               0.047878  \n",
       "std                0.051433  \n",
       "min                0.000000  \n",
       "25%                0.024535  \n",
       "50%                0.033800  \n",
       "75%                0.052821  \n",
       "max                1.000000  \n",
       "\n",
       "[8 rows x 96 columns]"
      ]
     },
     "execution_count": 6,
     "metadata": {},
     "output_type": "execute_result"
    }
   ],
   "source": [
    "df_train.describe(include='all')"
   ]
  },
  {
   "cell_type": "code",
   "execution_count": 7,
   "id": "9d2171e6-d378-4d35-a184-8f0c24569753",
   "metadata": {
    "collapsed": true,
    "jupyter": {
     "outputs_hidden": true
    },
    "tags": []
   },
   "outputs": [
    {
     "name": "stdout",
     "output_type": "stream",
     "text": [
      "<class 'pandas.core.frame.DataFrame'>\n",
      "Int64Index: 5114 entries, 2825 to 860\n",
      "Data columns (total 96 columns):\n",
      " #   Column                                                    Non-Null Count  Dtype  \n",
      "---  ------                                                    --------------  -----  \n",
      " 0   Bankrupt?                                                 5114 non-null   int64  \n",
      " 1    ROA(C) before interest and depreciation before interest  5114 non-null   float64\n",
      " 2    ROA(A) before interest and % after tax                   5114 non-null   float64\n",
      " 3    ROA(B) before interest and depreciation after tax        5114 non-null   float64\n",
      " 4    Operating Gross Margin                                   5114 non-null   float64\n",
      " 5    Realized Sales Gross Margin                              5114 non-null   float64\n",
      " 6    Operating Profit Rate                                    5114 non-null   float64\n",
      " 7    Pre-tax net Interest Rate                                5114 non-null   float64\n",
      " 8    After-tax net Interest Rate                              5114 non-null   float64\n",
      " 9    Non-industry income and expenditure/revenue              5114 non-null   float64\n",
      " 10   Continuous interest rate (after tax)                     5114 non-null   float64\n",
      " 11   Operating Expense Rate                                   5114 non-null   float64\n",
      " 12   Research and development expense rate                    5114 non-null   float64\n",
      " 13   Cash flow rate                                           5114 non-null   float64\n",
      " 14   Interest-bearing debt interest rate                      5114 non-null   float64\n",
      " 15   Tax rate (A)                                             5114 non-null   float64\n",
      " 16   Net Value Per Share (B)                                  5114 non-null   float64\n",
      " 17   Net Value Per Share (A)                                  5114 non-null   float64\n",
      " 18   Net Value Per Share (C)                                  5114 non-null   float64\n",
      " 19   Persistent EPS in the Last Four Seasons                  5114 non-null   float64\n",
      " 20   Cash Flow Per Share                                      5114 non-null   float64\n",
      " 21   Revenue Per Share (Yuan ¥)                               5114 non-null   float64\n",
      " 22   Operating Profit Per Share (Yuan ¥)                      5114 non-null   float64\n",
      " 23   Per Share Net profit before tax (Yuan ¥)                 5114 non-null   float64\n",
      " 24   Realized Sales Gross Profit Growth Rate                  5114 non-null   float64\n",
      " 25   Operating Profit Growth Rate                             5114 non-null   float64\n",
      " 26   After-tax Net Profit Growth Rate                         5114 non-null   float64\n",
      " 27   Regular Net Profit Growth Rate                           5114 non-null   float64\n",
      " 28   Continuous Net Profit Growth Rate                        5114 non-null   float64\n",
      " 29   Total Asset Growth Rate                                  5114 non-null   float64\n",
      " 30   Net Value Growth Rate                                    5114 non-null   float64\n",
      " 31   Total Asset Return Growth Rate Ratio                     5114 non-null   float64\n",
      " 32   Cash Reinvestment %                                      5114 non-null   float64\n",
      " 33   Current Ratio                                            5114 non-null   float64\n",
      " 34   Quick Ratio                                              5114 non-null   float64\n",
      " 35   Interest Expense Ratio                                   5114 non-null   float64\n",
      " 36   Total debt/Total net worth                               5114 non-null   float64\n",
      " 37   Debt ratio %                                             5114 non-null   float64\n",
      " 38   Net worth/Assets                                         5114 non-null   float64\n",
      " 39   Long-term fund suitability ratio (A)                     5114 non-null   float64\n",
      " 40   Borrowing dependency                                     5114 non-null   float64\n",
      " 41   Contingent liabilities/Net worth                         5114 non-null   float64\n",
      " 42   Operating profit/Paid-in capital                         5114 non-null   float64\n",
      " 43   Net profit before tax/Paid-in capital                    5114 non-null   float64\n",
      " 44   Inventory and accounts receivable/Net value              5114 non-null   float64\n",
      " 45   Total Asset Turnover                                     5114 non-null   float64\n",
      " 46   Accounts Receivable Turnover                             5114 non-null   float64\n",
      " 47   Average Collection Days                                  5114 non-null   float64\n",
      " 48   Inventory Turnover Rate (times)                          5114 non-null   float64\n",
      " 49   Fixed Assets Turnover Frequency                          5114 non-null   float64\n",
      " 50   Net Worth Turnover Rate (times)                          5114 non-null   float64\n",
      " 51   Revenue per person                                       5114 non-null   float64\n",
      " 52   Operating profit per person                              5114 non-null   float64\n",
      " 53   Allocation rate per person                               5114 non-null   float64\n",
      " 54   Working Capital to Total Assets                          5114 non-null   float64\n",
      " 55   Quick Assets/Total Assets                                5114 non-null   float64\n",
      " 56   Current Assets/Total Assets                              5114 non-null   float64\n",
      " 57   Cash/Total Assets                                        5114 non-null   float64\n",
      " 58   Quick Assets/Current Liability                           5114 non-null   float64\n",
      " 59   Cash/Current Liability                                   5114 non-null   float64\n",
      " 60   Current Liability to Assets                              5114 non-null   float64\n",
      " 61   Operating Funds to Liability                             5114 non-null   float64\n",
      " 62   Inventory/Working Capital                                5114 non-null   float64\n",
      " 63   Inventory/Current Liability                              5114 non-null   float64\n",
      " 64   Current Liabilities/Liability                            5114 non-null   float64\n",
      " 65   Working Capital/Equity                                   5114 non-null   float64\n",
      " 66   Current Liabilities/Equity                               5114 non-null   float64\n",
      " 67   Long-term Liability to Current Assets                    5114 non-null   float64\n",
      " 68   Retained Earnings to Total Assets                        5114 non-null   float64\n",
      " 69   Total income/Total expense                               5114 non-null   float64\n",
      " 70   Total expense/Assets                                     5114 non-null   float64\n",
      " 71   Current Asset Turnover Rate                              5114 non-null   float64\n",
      " 72   Quick Asset Turnover Rate                                5114 non-null   float64\n",
      " 73   Working capitcal Turnover Rate                           5114 non-null   float64\n",
      " 74   Cash Turnover Rate                                       5114 non-null   float64\n",
      " 75   Cash Flow to Sales                                       5114 non-null   float64\n",
      " 76   Fixed Assets to Assets                                   5114 non-null   float64\n",
      " 77   Current Liability to Liability                           5114 non-null   float64\n",
      " 78   Current Liability to Equity                              5114 non-null   float64\n",
      " 79   Equity to Long-term Liability                            5114 non-null   float64\n",
      " 80   Cash Flow to Total Assets                                5114 non-null   float64\n",
      " 81   Cash Flow to Liability                                   5114 non-null   float64\n",
      " 82   CFO to Assets                                            5114 non-null   float64\n",
      " 83   Cash Flow to Equity                                      5114 non-null   float64\n",
      " 84   Current Liability to Current Assets                      5114 non-null   float64\n",
      " 85   Liability-Assets Flag                                    5114 non-null   int64  \n",
      " 86   Net Income to Total Assets                               5114 non-null   float64\n",
      " 87   Total assets to GNP price                                5114 non-null   float64\n",
      " 88   No-credit Interval                                       5114 non-null   float64\n",
      " 89   Gross Profit to Sales                                    5114 non-null   float64\n",
      " 90   Net Income to Stockholder's Equity                       5114 non-null   float64\n",
      " 91   Liability to Equity                                      5114 non-null   float64\n",
      " 92   Degree of Financial Leverage (DFL)                       5114 non-null   float64\n",
      " 93   Interest Coverage Ratio (Interest expense to EBIT)       5114 non-null   float64\n",
      " 94   Net Income Flag                                          5114 non-null   int64  \n",
      " 95   Equity to Liability                                      5114 non-null   float64\n",
      "dtypes: float64(93), int64(3)\n",
      "memory usage: 3.8 MB\n"
     ]
    }
   ],
   "source": [
    "df_train.info()"
   ]
  },
  {
   "cell_type": "raw",
   "id": "8602f67f-99ea-43ea-83d7-a0e486e4c576",
   "metadata": {},
   "source": [
    "#selecting categorical type variables\n",
    "col_cat=df_train.columns[df_train.nunique()<10]\n",
    "# paired value counts\n",
    "df_train[col_cat].value_counts()\n",
    "# shows Net_Income_Flag to be dropped as all values 1\n",
    "df_train=df_train.drop(' Net Income Flag',axis=1)"
   ]
  },
  {
   "cell_type": "raw",
   "id": "be3f067b-e6c5-4dbb-bcb6-0249766fc21c",
   "metadata": {},
   "source": [
    "# plot hist and bar charts\n",
    "# just to have a look at the data\n",
    "for c in df_train:\n",
    "    plt.figure(c)\n",
    "    plt.title(c)\n",
    "    if pd.api.types.is_float_dtype(df_train[c]):\n",
    "        df_train[c].plot.hist(bins=30)\n",
    "        plt.show()\n",
    "    elif pd.api.types.is_integer_dtype(df_train[c]):\n",
    "        df_train[c].plot.bar()\n",
    "        plt.show()\n",
    "#sns.pairplot(df_train)"
   ]
  },
  {
   "cell_type": "markdown",
   "id": "6baa8eb1-91c1-4d02-8a04-4ecb8edd9efa",
   "metadata": {},
   "source": [
    "## Feature Selection\n",
    "\n",
    "https://scikit-learn.org/stable/modules/feature_selection.html#univariate-feature-selection"
   ]
  },
  {
   "cell_type": "code",
   "execution_count": 283,
   "id": "c11835fa-46ff-42f4-939e-e42bb668a785",
   "metadata": {},
   "outputs": [],
   "source": [
    "X=df_train.drop(y_name,axis=1)\n",
    "y=df_train[[y_name]]"
   ]
  },
  {
   "cell_type": "markdown",
   "id": "e18f5c7a-c674-43d4-aede-fd3b4610bc9b",
   "metadata": {},
   "source": [
    "### Variance threshold"
   ]
  },
  {
   "cell_type": "code",
   "execution_count": 72,
   "id": "2f117246-4e4e-40a9-a692-d1fd3a6740db",
   "metadata": {},
   "outputs": [],
   "source": [
    "# variance th selection- remove features with 0 \n",
    "from sklearn.feature_selection import VarianceThreshold\n",
    "var_sel0 = VarianceThreshold(threshold=0)# default th=0\n",
    "var_sel0.fit(X)\n",
    "\n",
    "mask_v0=var_sel0.get_support() # boolean, True for features selected"
   ]
  },
  {
   "cell_type": "code",
   "execution_count": 73,
   "id": "b660664f-f1f6-4748-b893-9c5dcf9052bf",
   "metadata": {},
   "outputs": [
    {
     "data": {
      "text/html": [
       "<div>\n",
       "<style scoped>\n",
       "    .dataframe tbody tr th:only-of-type {\n",
       "        vertical-align: middle;\n",
       "    }\n",
       "\n",
       "    .dataframe tbody tr th {\n",
       "        vertical-align: top;\n",
       "    }\n",
       "\n",
       "    .dataframe thead th {\n",
       "        text-align: right;\n",
       "    }\n",
       "</style>\n",
       "<table border=\"1\" class=\"dataframe\">\n",
       "  <thead>\n",
       "    <tr style=\"text-align: right;\">\n",
       "      <th></th>\n",
       "      <th>ROA(C) before interest and depreciation before interest</th>\n",
       "      <th>ROA(A) before interest and % after tax</th>\n",
       "      <th>ROA(B) before interest and depreciation after tax</th>\n",
       "      <th>Operating Gross Margin</th>\n",
       "      <th>Realized Sales Gross Margin</th>\n",
       "      <th>Operating Profit Rate</th>\n",
       "      <th>Pre-tax net Interest Rate</th>\n",
       "      <th>After-tax net Interest Rate</th>\n",
       "      <th>Non-industry income and expenditure/revenue</th>\n",
       "      <th>Continuous interest rate (after tax)</th>\n",
       "      <th>...</th>\n",
       "      <th>Liability-Assets Flag</th>\n",
       "      <th>Net Income to Total Assets</th>\n",
       "      <th>Total assets to GNP price</th>\n",
       "      <th>No-credit Interval</th>\n",
       "      <th>Gross Profit to Sales</th>\n",
       "      <th>Net Income to Stockholder's Equity</th>\n",
       "      <th>Liability to Equity</th>\n",
       "      <th>Degree of Financial Leverage (DFL)</th>\n",
       "      <th>Interest Coverage Ratio (Interest expense to EBIT)</th>\n",
       "      <th>Equity to Liability</th>\n",
       "    </tr>\n",
       "  </thead>\n",
       "  <tbody>\n",
       "    <tr>\n",
       "      <th>0</th>\n",
       "      <td>0.492663</td>\n",
       "      <td>0.550207</td>\n",
       "      <td>0.539751</td>\n",
       "      <td>0.646168</td>\n",
       "      <td>0.646168</td>\n",
       "      <td>0.999330</td>\n",
       "      <td>0.797829</td>\n",
       "      <td>0.809604</td>\n",
       "      <td>0.303537</td>\n",
       "      <td>0.781916</td>\n",
       "      <td>...</td>\n",
       "      <td>0.0</td>\n",
       "      <td>0.807538</td>\n",
       "      <td>0.018425</td>\n",
       "      <td>0.624224</td>\n",
       "      <td>0.646167</td>\n",
       "      <td>0.842213</td>\n",
       "      <td>0.295068</td>\n",
       "      <td>0.026791</td>\n",
       "      <td>0.565158</td>\n",
       "      <td>0.014980</td>\n",
       "    </tr>\n",
       "    <tr>\n",
       "      <th>1</th>\n",
       "      <td>0.451567</td>\n",
       "      <td>0.494003</td>\n",
       "      <td>0.502757</td>\n",
       "      <td>0.594740</td>\n",
       "      <td>0.594791</td>\n",
       "      <td>0.998916</td>\n",
       "      <td>0.797137</td>\n",
       "      <td>0.809078</td>\n",
       "      <td>0.303194</td>\n",
       "      <td>0.781333</td>\n",
       "      <td>...</td>\n",
       "      <td>0.0</td>\n",
       "      <td>0.769345</td>\n",
       "      <td>0.014932</td>\n",
       "      <td>0.624274</td>\n",
       "      <td>0.594740</td>\n",
       "      <td>0.837952</td>\n",
       "      <td>0.279378</td>\n",
       "      <td>0.026568</td>\n",
       "      <td>0.563808</td>\n",
       "      <td>0.030844</td>\n",
       "    </tr>\n",
       "  </tbody>\n",
       "</table>\n",
       "<p>2 rows × 94 columns</p>\n",
       "</div>"
      ],
      "text/plain": [
       "    ROA(C) before interest and depreciation before interest  \\\n",
       "0                                           0.492663          \n",
       "1                                           0.451567          \n",
       "\n",
       "    ROA(A) before interest and % after tax  \\\n",
       "0                                 0.550207   \n",
       "1                                 0.494003   \n",
       "\n",
       "    ROA(B) before interest and depreciation after tax  \\\n",
       "0                                           0.539751    \n",
       "1                                           0.502757    \n",
       "\n",
       "    Operating Gross Margin   Realized Sales Gross Margin  \\\n",
       "0                 0.646168                      0.646168   \n",
       "1                 0.594740                      0.594791   \n",
       "\n",
       "    Operating Profit Rate   Pre-tax net Interest Rate  \\\n",
       "0                0.999330                    0.797829   \n",
       "1                0.998916                    0.797137   \n",
       "\n",
       "    After-tax net Interest Rate   Non-industry income and expenditure/revenue  \\\n",
       "0                      0.809604                                      0.303537   \n",
       "1                      0.809078                                      0.303194   \n",
       "\n",
       "    Continuous interest rate (after tax)  ...   Liability-Assets Flag  \\\n",
       "0                               0.781916  ...                     0.0   \n",
       "1                               0.781333  ...                     0.0   \n",
       "\n",
       "    Net Income to Total Assets   Total assets to GNP price  \\\n",
       "0                     0.807538                    0.018425   \n",
       "1                     0.769345                    0.014932   \n",
       "\n",
       "    No-credit Interval   Gross Profit to Sales  \\\n",
       "0             0.624224                0.646167   \n",
       "1             0.624274                0.594740   \n",
       "\n",
       "    Net Income to Stockholder's Equity   Liability to Equity  \\\n",
       "0                             0.842213              0.295068   \n",
       "1                             0.837952              0.279378   \n",
       "\n",
       "    Degree of Financial Leverage (DFL)  \\\n",
       "0                             0.026791   \n",
       "1                             0.026568   \n",
       "\n",
       "    Interest Coverage Ratio (Interest expense to EBIT)   Equity to Liability  \n",
       "0                                           0.565158                0.014980  \n",
       "1                                           0.563808                0.030844  \n",
       "\n",
       "[2 rows x 94 columns]"
      ]
     },
     "execution_count": 73,
     "metadata": {},
     "output_type": "execute_result"
    }
   ],
   "source": [
    "# convert selected to pd.df\n",
    "X_v0=var_sel0.transform(X)\n",
    "X_v0=pd.DataFrame(X_v0,columns=X.columns[mask_v0])\n",
    "X_v0.head(2)"
   ]
  },
  {
   "cell_type": "code",
   "execution_count": 74,
   "id": "7e670ad3-160a-4811-862c-77e9c2ac2d2d",
   "metadata": {},
   "outputs": [
    {
     "data": {
      "image/png": "[encoded data removed]",
      "text/plain": [
       "<Figure size 432x288 with 1 Axes>"
      ]
     },
     "metadata": {
      "needs_background": "light"
     },
     "output_type": "display_data"
    },
    {
     "data": {
      "image/png": "[encoded data removed]",
      "text/plain": [
       "<Figure size 432x288 with 1 Axes>"
      ]
     },
     "metadata": {
      "needs_background": "light"
     },
     "output_type": "display_data"
    }
   ],
   "source": [
    "plt.vlines(x=list(range(0,X.shape[1])),ymin=0,ymax=-np.sort(-var_selector.variances_),label='descending variances')\n",
    "plt.grid()\n",
    "plt.legend()\n",
    "plt.show()\n",
    "#plt.plot(var_selector.variances_,label='variances with index')\n",
    "plt.vlines(x=list(range(0,X.shape[1])),ymin=0,ymax=var_selector.variances_,label='variances with index')\n",
    "plt.grid()\n",
    "plt.legend()\n",
    "plt.show()"
   ]
  },
  {
   "cell_type": "code",
   "execution_count": 75,
   "id": "1f2cca51-0855-4227-b9fc-457e83b19a46",
   "metadata": {},
   "outputs": [
    {
     "data": {
      "text/plain": [
       "array([0.00000000e+00, 2.75857736e-07, 3.76905754e-06, 3.03167041e-05,\n",
       "       4.19644735e-05, 6.86692025e-05, 7.10978889e-05, 7.22640913e-05,\n",
       "       9.45664341e-05, 9.49885451e-05, 9.60642159e-05, 1.20772888e-04,\n",
       "       1.20772888e-04, 1.21603635e-04, 1.32010206e-04, 1.43518694e-04,\n",
       "       1.49326353e-04, 1.49337426e-04, 1.58509904e-04, 1.63915396e-04,\n",
       "       1.75974866e-04, 1.79073835e-04, 1.85246444e-04, 1.92753626e-04,\n",
       "       2.37024996e-04, 2.42797739e-04, 2.44243890e-04, 2.46664600e-04,\n",
       "       2.76633982e-04, 2.77320007e-04, 2.77320464e-04, 3.07459465e-04,\n",
       "       3.19092888e-04, 3.38187292e-04, 3.76402060e-04, 3.88038498e-04,\n",
       "       5.87688946e-04, 6.24755630e-04, 6.74527690e-04, 7.84077320e-04,\n",
       "       7.86813217e-04, 7.97130391e-04, 8.30622583e-04, 9.17905572e-04,\n",
       "       9.68785345e-04, 9.76752338e-04, 1.04208766e-03, 1.14906436e-03,\n",
       "       1.15668578e-03, 1.19314319e-03, 1.19922166e-03, 1.19984164e-03,\n",
       "       1.23383061e-03, 1.43627453e-03, 1.68944063e-03, 2.31065661e-03,\n",
       "       2.56220908e-03, 2.64481310e-03, 2.93881033e-03, 2.93881033e-03,\n",
       "       3.43149915e-03, 3.57011726e-03, 3.81746608e-03, 3.91585075e-03,\n",
       "       4.42846017e-03, 1.02609791e-02, 1.89705668e-02, 1.99058690e-02,\n",
       "       4.03411131e-02, 4.09783005e-02, 4.25817912e-02, 4.25817912e-02,\n",
       "       4.74068856e-02, 3.56304972e+14, 3.11880204e+15, 1.11146819e+16,\n",
       "       1.16070513e+16, 2.48864712e+16, 3.08964397e+16, 3.75279265e+16,\n",
       "       5.14784491e+16, 8.40747876e+16, 9.85164967e+16, 1.51895151e+17,\n",
       "       1.95339061e+17, 2.71142288e+17, 3.26285368e+17, 6.09828837e+18,\n",
       "       6.74574755e+18, 7.85748858e+18, 8.34382971e+18, 8.68168912e+18,\n",
       "       1.04932531e+19, 1.05559068e+19, 1.13464406e+19])"
      ]
     },
     "execution_count": 75,
     "metadata": {},
     "output_type": "execute_result"
    }
   ],
   "source": [
    "# this helps us choose further thresholds\n",
    "np.sort(var_selector.variances_)"
   ]
  },
  {
   "cell_type": "markdown",
   "id": "5847172a-18a8-4318-8955-b5d4823a03cc",
   "metadata": {},
   "source": [
    "#### Put X=X_v0\n",
    "As, in every situation we will make this transform."
   ]
  },
  {
   "cell_type": "code",
   "execution_count": 285,
   "id": "5c2c156f-93c1-41cc-9dd2-fa3346f505d9",
   "metadata": {},
   "outputs": [],
   "source": [
    "X=X_v0"
   ]
  },
  {
   "cell_type": "markdown",
   "id": "158bd4c8-44c9-4044-9cb6-20c898f8a255",
   "metadata": {},
   "source": [
    "#### some further thresholds "
   ]
  },
  {
   "cell_type": "code",
   "execution_count": 83,
   "id": "faa7481b-386e-4cb4-bd0b-065cfe50b715",
   "metadata": {},
   "outputs": [],
   "source": [
    "# we choose thresholds to be\n",
    "th=[1,1e-2,1e-4]\n",
    "var_sel=[]\n",
    "mask_v=[]\n",
    "i=0\n",
    "for th in th:\n",
    "    var_sel.append(VarianceThreshold(threshold=th))# default th=0\n",
    "    var_sel[i].fit(X)\n",
    "    mask_v.append(var_sel[i].get_support()) # boolean, True for features selected\n",
    "    i=i+1\n"
   ]
  },
  {
   "cell_type": "code",
   "execution_count": 84,
   "id": "9fc2e212-0c4d-47e0-972b-8513daa56bb7",
   "metadata": {},
   "outputs": [],
   "source": [
    "# mask for columns with top 20 variances\n",
    "mask_var_20=np.isin(var_selector.variances_,np.sort(var_selector.variances_)[-20:])"
   ]
  },
  {
   "cell_type": "markdown",
   "id": "d673e0c1-be57-4dd1-a283-dd5919b55f7c",
   "metadata": {},
   "source": [
    "### X_s, standardised X= X_v0"
   ]
  },
  {
   "cell_type": "code",
   "execution_count": 93,
   "id": "6ee02296-97e6-4b78-be15-ab112e05f313",
   "metadata": {},
   "outputs": [],
   "source": [
    "from sklearn.preprocessing import StandardScaler\n",
    "scaler = StandardScaler()\n",
    "X_s=scaler.fit_transform(X)\n",
    "\n",
    "X_s=pd.DataFrame(X_s,columns=X.columns)\n"
   ]
  },
  {
   "cell_type": "markdown",
   "id": "b858ee59-3053-460e-b78e-081c147821d6",
   "metadata": {},
   "source": [
    "### SelectKBest\n",
    "Based on univariate statistical tests-  F-test (if variabiity between group means larger than variability within groups)\n",
    "\n",
    "Low p-value implies feature corr with target.\n",
    "\n",
    "Ref: https://scikit-learn.org/stable/modules/feature_selection.html#univariate-feature-selection"
   ]
  },
  {
   "cell_type": "code",
   "execution_count": 95,
   "id": "96f04fb0-60cb-4be1-b61b-1a720e20718b",
   "metadata": {},
   "outputs": [],
   "source": [
    "#  anova_F test\n",
    "\n",
    "from sklearn.feature_selection import SelectKBest, f_classif\n",
    "\n",
    "# Ftest or ANOVA\n",
    "anova_selector=SelectKBest(f_classif, k=10)\n",
    "X_anova_10 = anova_selector.fit_transform(X_s, y)\n",
    "\n",
    "mask_anova = anova_selector.get_support()\n",
    "mask_full_anova=anova_selector.pvalues_<0.05\n",
    "anova_10_features=anova_selector.get_feature_names_out() \n",
    " \n",
    "\n",
    "# other tests classification-mutual_info_classif, FPR test, FDR test (SelectFpr,SelectFdr,SelectFwe)\n",
    "\n",
    "# feature selection for regression task \n",
    "#        - sklearn.feature_selection.f_regression: F-stat and p-value wrt each feature\n",
    "#        -sklearn.feature_selection.mutual_info_regression: mutual info function, low means vars independent"
   ]
  },
  {
   "cell_type": "code",
   "execution_count": 96,
   "id": "709d770d-2479-48c9-bc5e-eeeb91162c01",
   "metadata": {},
   "outputs": [
    {
     "name": "stdout",
     "output_type": "stream",
     "text": [
      "no. of features within p_value th: anova 58\n"
     ]
    },
    {
     "data": {
      "image/png": "[encoded data removed]",
      "text/plain": [
       "<Figure size 432x288 with 1 Axes>"
      ]
     },
     "metadata": {
      "needs_background": "light"
     },
     "output_type": "display_data"
    }
   ],
   "source": [
    "# the plot to show number of features within threshold by the above method\n",
    "plt.plot(np.sort(anova_selector.pvalues_),label='anova')\n",
    "plt.axhline(0.05,color='r', linestyle='--')\n",
    "plt.grid()\n",
    "plt.legend()\n",
    "\n",
    "print('no. of features within p_value th: anova',sum(anova_selector.pvalues_<0.05))"
   ]
  },
  {
   "cell_type": "markdown",
   "id": "705e58cc-b7f9-4de7-963e-1b2f8c7344a7",
   "metadata": {},
   "source": [
    "### RFE, RFECV\n",
    "\n",
    "use with A supervised learning estimator with a fit method that provides information about feature importance either through a coef_ attribute or through a feature_importances_ attribute. (Trees, SVM- SVR,SVC)\n",
    "\n",
    "sklearn.feature_selection.RFECV"
   ]
  },
  {
   "cell_type": "code",
   "execution_count": 97,
   "id": "7077a776-d90c-42aa-b37a-4a25ff0b8a1c",
   "metadata": {
    "collapsed": true,
    "jupyter": {
     "outputs_hidden": true
    },
    "tags": []
   },
   "outputs": [
    {
     "name": "stdout",
     "output_type": "stream",
     "text": [
      "Fitting estimator with 94 features.\n",
      "Fitting estimator with 90 features.\n",
      "Fitting estimator with 86 features.\n",
      "Fitting estimator with 82 features.\n",
      "Fitting estimator with 78 features.\n",
      "Fitting estimator with 74 features.\n",
      "Fitting estimator with 70 features.\n",
      "Fitting estimator with 66 features.\n",
      "Fitting estimator with 62 features.\n",
      "Fitting estimator with 58 features.\n",
      "Fitting estimator with 54 features.\n",
      "Fitting estimator with 50 features.\n",
      "Fitting estimator with 46 features.\n",
      "Fitting estimator with 42 features.\n",
      "Fitting estimator with 38 features.\n",
      "Fitting estimator with 34 features.\n",
      "Fitting estimator with 30 features.\n",
      "Fitting estimator with 26 features.\n",
      "Fitting estimator with 22 features.\n",
      "Fitting estimator with 18 features.\n",
      "Fitting estimator with 14 features.\n",
      "Fitting estimator with 94 features.\n",
      "Fitting estimator with 90 features.\n",
      "Fitting estimator with 86 features.\n",
      "Fitting estimator with 82 features.\n",
      "Fitting estimator with 78 features.\n",
      "Fitting estimator with 74 features.\n",
      "Fitting estimator with 70 features.\n",
      "Fitting estimator with 66 features.\n",
      "Fitting estimator with 62 features.\n",
      "Fitting estimator with 58 features.\n",
      "Fitting estimator with 54 features.\n",
      "Fitting estimator with 50 features.\n",
      "Fitting estimator with 46 features.\n",
      "Fitting estimator with 42 features.\n",
      "Fitting estimator with 38 features.\n",
      "Fitting estimator with 34 features.\n",
      "Fitting estimator with 30 features.\n",
      "Fitting estimator with 26 features.\n",
      "Fitting estimator with 22 features.\n",
      "Fitting estimator with 18 features.\n",
      "Fitting estimator with 14 features.\n",
      "Fitting estimator with 94 features.\n",
      "Fitting estimator with 90 features.\n",
      "Fitting estimator with 86 features.\n",
      "Fitting estimator with 82 features.\n",
      "Fitting estimator with 78 features.\n",
      "Fitting estimator with 74 features.\n",
      "Fitting estimator with 70 features.\n",
      "Fitting estimator with 66 features.\n",
      "Fitting estimator with 62 features.\n",
      "Fitting estimator with 58 features.\n",
      "Fitting estimator with 54 features.\n",
      "Fitting estimator with 50 features.\n",
      "Fitting estimator with 46 features.\n",
      "Fitting estimator with 42 features.\n",
      "Fitting estimator with 38 features.\n",
      "Fitting estimator with 34 features.\n",
      "Fitting estimator with 30 features.\n",
      "Fitting estimator with 26 features.\n",
      "Fitting estimator with 22 features.\n",
      "Fitting estimator with 18 features.\n",
      "Fitting estimator with 14 features.\n",
      "Fitting estimator with 94 features.\n",
      "Fitting estimator with 90 features.\n",
      "Fitting estimator with 86 features.\n",
      "Fitting estimator with 82 features.\n",
      "Fitting estimator with 78 features.\n",
      "Fitting estimator with 74 features.\n",
      "Fitting estimator with 70 features.\n",
      "Fitting estimator with 66 features.\n",
      "Fitting estimator with 62 features.\n",
      "Fitting estimator with 58 features.\n",
      "Fitting estimator with 54 features.\n",
      "Fitting estimator with 50 features.\n",
      "Fitting estimator with 46 features.\n",
      "Fitting estimator with 42 features.\n",
      "Fitting estimator with 38 features.\n",
      "Fitting estimator with 34 features.\n",
      "Fitting estimator with 30 features.\n",
      "Fitting estimator with 26 features.\n",
      "Fitting estimator with 22 features.\n",
      "Fitting estimator with 18 features.\n",
      "Fitting estimator with 14 features.\n",
      "Fitting estimator with 94 features.\n",
      "Fitting estimator with 90 features.\n",
      "Fitting estimator with 86 features.\n",
      "Fitting estimator with 82 features.\n",
      "Fitting estimator with 78 features.\n",
      "Fitting estimator with 74 features.\n",
      "Fitting estimator with 70 features.\n",
      "Fitting estimator with 66 features.\n",
      "Fitting estimator with 62 features.\n",
      "Fitting estimator with 58 features.\n",
      "Fitting estimator with 54 features.\n",
      "Fitting estimator with 50 features.\n",
      "Fitting estimator with 46 features.\n",
      "Fitting estimator with 42 features.\n",
      "Fitting estimator with 38 features.\n",
      "Fitting estimator with 34 features.\n",
      "Fitting estimator with 30 features.\n",
      "Fitting estimator with 26 features.\n",
      "Fitting estimator with 22 features.\n",
      "Fitting estimator with 18 features.\n",
      "Fitting estimator with 14 features.\n",
      "Fitting estimator with 94 features.\n",
      "Fitting estimator with 90 features.\n",
      "Fitting estimator with 86 features.\n",
      "Fitting estimator with 82 features.\n",
      "Fitting estimator with 78 features.\n",
      "Fitting estimator with 74 features.\n",
      "Fitting estimator with 70 features.\n",
      "Fitting estimator with 66 features.\n",
      "Fitting estimator with 62 features.\n",
      "Fitting estimator with 58 features.\n",
      "Fitting estimator with 54 features.\n",
      "Fitting estimator with 50 features.\n",
      "Fitting estimator with 46 features.\n",
      "Fitting estimator with 42 features.\n",
      "Fitting estimator with 38 features.\n",
      "Fitting estimator with 34 features.\n",
      "Fitting estimator with 30 features.\n",
      "Fitting estimator with 26 features.\n",
      "Fitting estimator with 22 features.\n",
      "Fitting estimator with 18 features.\n",
      "Fitting estimator with 14 features.\n",
      "Fitting estimator with 94 features.\n",
      "Fitting estimator with 90 features.\n",
      "Fitting estimator with 86 features.\n",
      "Fitting estimator with 82 features.\n",
      "Fitting estimator with 78 features.\n",
      "Fitting estimator with 74 features.\n",
      "Fitting estimator with 70 features.\n",
      "Fitting estimator with 66 features.\n",
      "Fitting estimator with 62 features.\n",
      "Fitting estimator with 58 features.\n",
      "Fitting estimator with 54 features.\n",
      "Fitting estimator with 50 features.\n",
      "Fitting estimator with 46 features.\n",
      "Fitting estimator with 42 features.\n",
      "Fitting estimator with 38 features.\n",
      "Fitting estimator with 34 features.\n",
      "Fitting estimator with 30 features.\n",
      "Fitting estimator with 26 features.\n",
      "Fitting estimator with 22 features.\n",
      "Fitting estimator with 18 features.\n",
      "Fitting estimator with 14 features.\n",
      "Fitting estimator with 94 features.\n",
      "Fitting estimator with 90 features.\n",
      "Fitting estimator with 86 features.\n",
      "Fitting estimator with 82 features.\n",
      "Fitting estimator with 78 features.\n",
      "Fitting estimator with 74 features.\n",
      "Fitting estimator with 70 features.\n",
      "Fitting estimator with 66 features.\n",
      "Fitting estimator with 62 features.\n",
      "Fitting estimator with 58 features.\n",
      "Fitting estimator with 54 features.\n",
      "Fitting estimator with 50 features.\n",
      "Fitting estimator with 46 features.\n",
      "Fitting estimator with 42 features.\n",
      "Fitting estimator with 38 features.\n",
      "Fitting estimator with 34 features.\n",
      "Fitting estimator with 30 features.\n",
      "Fitting estimator with 26 features.\n",
      "Fitting estimator with 22 features.\n",
      "Fitting estimator with 18 features.\n",
      "Fitting estimator with 14 features.\n",
      "Fitting estimator with 94 features.\n",
      "Fitting estimator with 90 features.\n",
      "Fitting estimator with 86 features.\n",
      "Fitting estimator with 82 features.\n",
      "Fitting estimator with 78 features.\n",
      "Fitting estimator with 74 features.\n",
      "Fitting estimator with 70 features.\n",
      "Fitting estimator with 66 features.\n",
      "Fitting estimator with 62 features.\n",
      "Fitting estimator with 58 features.\n",
      "Fitting estimator with 54 features.\n",
      "Fitting estimator with 50 features.\n",
      "Fitting estimator with 46 features.\n",
      "Fitting estimator with 42 features.\n",
      "Fitting estimator with 38 features.\n",
      "Fitting estimator with 34 features.\n",
      "Fitting estimator with 30 features.\n",
      "Fitting estimator with 26 features.\n",
      "Fitting estimator with 22 features.\n",
      "Fitting estimator with 18 features.\n",
      "Fitting estimator with 14 features.\n",
      "Fitting estimator with 94 features.\n",
      "Fitting estimator with 90 features.\n",
      "Fitting estimator with 86 features.\n",
      "Fitting estimator with 82 features.\n",
      "Fitting estimator with 78 features.\n",
      "Fitting estimator with 74 features.\n",
      "Fitting estimator with 70 features.\n",
      "Fitting estimator with 66 features.\n",
      "Fitting estimator with 62 features.\n",
      "Fitting estimator with 58 features.\n",
      "Fitting estimator with 54 features.\n",
      "Fitting estimator with 50 features.\n",
      "Fitting estimator with 46 features.\n",
      "Fitting estimator with 42 features.\n",
      "Fitting estimator with 38 features.\n",
      "Fitting estimator with 34 features.\n",
      "Fitting estimator with 30 features.\n",
      "Fitting estimator with 26 features.\n",
      "Fitting estimator with 22 features.\n",
      "Fitting estimator with 18 features.\n",
      "Fitting estimator with 14 features.\n",
      "Fitting estimator with 94 features.\n",
      "Fitting estimator with 90 features.\n",
      "Fitting estimator with 86 features.\n",
      "Fitting estimator with 82 features.\n",
      "Fitting estimator with 78 features.\n",
      "Fitting estimator with 74 features.\n",
      "Fitting estimator with 70 features.\n",
      "Fitting estimator with 66 features.\n",
      "Fitting estimator with 62 features.\n",
      "Fitting estimator with 58 features.\n",
      "Fitting estimator with 54 features.\n",
      "Fitting estimator with 50 features.\n",
      "Fitting estimator with 46 features.\n",
      "Fitting estimator with 42 features.\n",
      "Fitting estimator with 38 features.\n",
      "Fitting estimator with 34 features.\n",
      "Fitting estimator with 30 features.\n",
      "Fitting estimator with 26 features.\n",
      "Fitting estimator with 22 features.\n",
      "Fitting estimator with 18 features.\n",
      "Fitting estimator with 14 features.\n"
     ]
    }
   ],
   "source": [
    "# RFECV using SVC\n",
    "from sklearn.feature_selection import RFECV\n",
    "from sklearn.svm import SVC\n",
    "\n",
    "k_fold = StratifiedKFold(n_splits=10, shuffle=True, random_state=42) #CV splitter\n",
    "\n",
    "estimator_svc = SVC(class_weight=\"balanced\",kernel='linear') #SVC estimator, \n",
    "#Note: only linear kernel has coef_ #coef_ is required by RFECV\n",
    "\n",
    "rfe_selector = RFECV(estimator=estimator_svc, step=4,min_features_to_select=10, cv=k_fold, scoring='roc_auc',verbose=10)\n",
    "# step: no. of features to remove at each iteration\n",
    "\n",
    "X_rfecv=rfe_selector.fit_transform(X_s, y) # fit transform on rfe_selector gives \n",
    "mask_rfe = rfe_selector.get_support()\n",
    "rfe_features=rfe_selector.get_feature_names_out() # mask support, get_feature_names_out"
   ]
  },
  {
   "cell_type": "code",
   "execution_count": 99,
   "id": "9dfff182-d5f2-4f20-82ef-88a406e6fdb2",
   "metadata": {},
   "outputs": [
    {
     "data": {
      "text/plain": [
       "array([ 4,  7,  4, 13, 13,  3,  3,  3,  3,  2, 12, 16,  6, 15, 17,  1,  2,\n",
       "        9,  1, 19, 22,  1, 18,  9, 19,  2,  1, 21, 17, 22, 18, 14,  7, 19,\n",
       "       17, 10,  1,  1, 12,  1, 18,  4, 15, 10,  5,  2, 12, 14, 16,  9, 20,\n",
       "       14, 11, 11,  8, 17,  8, 22, 21,  1,  6, 16, 16,  1,  9,  5, 18, 15,\n",
       "        8, 22, 21, 12, 19,  6,  6, 14,  7,  5,  5, 20,  7, 11, 10,  8, 21,\n",
       "        4, 15, 20, 13, 10,  1, 13, 20, 11])"
      ]
     },
     "metadata": {},
     "output_type": "display_data"
    },
    {
     "data": {
      "text/plain": [
       "array([0.03767461, 0.06823844, 0.07148124, 0.07391887, 0.07842487,\n",
       "       0.08193634, 0.08459699, 0.09003031, 0.07850082, 0.0750934 ,\n",
       "       0.08198598, 0.08132708, 0.07975397, 0.08200873, 0.08202643,\n",
       "       0.08543966, 0.08683128, 0.08630794, 0.08635282, 0.08710334,\n",
       "       0.08678824, 0.08687812])"
      ]
     },
     "execution_count": 99,
     "metadata": {},
     "output_type": "execute_result"
    }
   ],
   "source": [
    "# selector attributes\n",
    "#ranking_\n",
    "rfe_selector.ranking_\n",
    "#cv_results_\n",
    "rfe_selector.cv_results_\n",
    "# plot scores wrt features \n",
    "rfe_selector.cv_results_['mean_test_score']\n",
    "rfe_selector.cv_results_['std_test_score']"
   ]
  },
  {
   "cell_type": "code",
   "execution_count": 100,
   "id": "7e994315-4c0d-4773-91c6-8d2b9f830f2f",
   "metadata": {},
   "outputs": [
    {
     "data": {
      "text/plain": [
       "10"
      ]
     },
     "execution_count": 100,
     "metadata": {},
     "output_type": "execute_result"
    }
   ],
   "source": [
    "sum(mask_rfe)"
   ]
  },
  {
   "cell_type": "raw",
   "id": "a1e7870e-4b92-4f01-84ac-a88cb5c0a58b",
   "metadata": {
    "jupyter": {
     "outputs_hidden": true
    },
    "tags": []
   },
   "source": [
    "# RFECV using SVC, grid_search on svc\n",
    "from sklearn.feature_selection import RFECV\n",
    "from sklearn.svm import SVC\n",
    "\n",
    "k_fold = StratifiedKFold(n_splits=10, shuffle=True, random_state=42) #CV splitter\n",
    "\n",
    "estimator_svc = SVC(class_weight=\"balanced\",kernel='linear') #SVC estimator, \n",
    "#Note: only linear kernel has coef_ #coef_ is required by RFECV\n",
    "\n",
    "param_grid = {'C': [0.1, 1, 10, 100, 1000],\n",
    "              'gamma': [1, 0.1, 0.01, 0.001, 0.0001]\n",
    "             } # params for SVC, can use more kernels (poly, sigmoid)\n",
    "grid = GridSearchCV(estimator=estimator_svc, param_grid=param_grid, cv= k_fold, scoring = 'roc_auc', verbose=10)\n",
    "grid.fit(X,y)\n",
    "estimator_svc_cv=grid.best_estimator_ # wrt grid.best_params_ \n",
    "\n",
    "rfe_selector = RFECV(estimator=estimator_svc_cv, step=4,min_features_to_select=10, cv=k_fold, scoring='roc_auc',verbose=10)\n",
    "# step: no. of features to remove at each iteration\n",
    "\n",
    "X_rfecv=rfe_selector.fit_transform(X, y) # fit transform on rfe_selector gives \n",
    "mask_rfe = rfe_selector.get_support()\n",
    "rfe_features=rfe_selector.get_feature_names_out() # mask support, get_feature_names_out"
   ]
  },
  {
   "cell_type": "raw",
   "id": "97b82a1a-0a48-432a-92c2-541f45828038",
   "metadata": {
    "tags": []
   },
   "source": [
    "# selector attributes\n",
    "#ranking_\n",
    "rfe_selector.ranking_\n",
    "#cv_results_\n",
    "rfe_selector.cv_results_\n",
    "# plot scores wrt features \n",
    "rfe_selector.cv_results_['mean_test_score']\n",
    "rfe_selector.cv_results_['std_test_score']"
   ]
  },
  {
   "cell_type": "raw",
   "id": "cbb91a57-967a-435a-bdd7-f47bd47fd301",
   "metadata": {
    "jupyter": {
     "outputs_hidden": true
    },
    "tags": []
   },
   "source": [
    "# RFECV using SVC, grid_search on rfecv\n",
    "\n",
    "rfe_selector=RFECV(estimator=estimator_svc, step=4,min_features_to_select=10, cv=k_fold, scoring='roc_auc',verbose=10)\n",
    "\n",
    "param_grid = {'estimator__C': [0.001, 0.01, 0.1, 0.25, 0.5, 0.75, 1.0, 10.0, 100.0, 1000.0],\n",
    "              'estimator__gamma': [0.001, 0.01, 0.1, 1.0, 2.0, 3.0, 10.0, 100.0, 1000.0],\n",
    "              'estimator__kernel':['linear']\n",
    "       }\n",
    "\n",
    "grid1=GridSearchCV(estimator=rfe_selector, param_grid=param_grid, cv= k_fold, scoring = 'roc_auc', verbose=10)\n",
    "grid1.fit(X,y)\n",
    "\n",
    "rfe_selector_cv=grid1.best_estimator_\n",
    "\n",
    "X_rfecv=rfe_selector_cv.fit_transform(X, y) \n",
    "mask_rfe = rfe_selector.get_support()\n",
    "rfe_features=rfe_selector.get_feature_names_out() "
   ]
  },
  {
   "cell_type": "raw",
   "id": "08ff4692-c7d1-44bc-8492-8ae1cf092c5d",
   "metadata": {
    "tags": []
   },
   "source": [
    "# selector attributes\n",
    "#ranking_\n",
    "rfe_selector.ranking_\n",
    "#cv_results_\n",
    "rfe_selector.cv_results_\n",
    "# plot scores wrt features \n",
    "rfe_selector.cv_results_['mean_test_score']\n",
    "rfe_selector.cv_results_['std_test_score']"
   ]
  },
  {
   "cell_type": "code",
   "execution_count": 103,
   "id": "bde10725-c6a5-41e7-926d-80f9ae4ca15e",
   "metadata": {
    "collapsed": true,
    "jupyter": {
     "outputs_hidden": true
    },
    "tags": []
   },
   "outputs": [
    {
     "name": "stdout",
     "output_type": "stream",
     "text": [
      "Fitting estimator with 94 features.\n",
      "Fitting estimator with 93 features.\n",
      "Fitting estimator with 92 features.\n",
      "Fitting estimator with 91 features.\n",
      "Fitting estimator with 90 features.\n",
      "Fitting estimator with 89 features.\n",
      "Fitting estimator with 88 features.\n",
      "Fitting estimator with 87 features.\n",
      "Fitting estimator with 86 features.\n",
      "Fitting estimator with 85 features.\n",
      "Fitting estimator with 84 features.\n",
      "Fitting estimator with 83 features.\n",
      "Fitting estimator with 82 features.\n",
      "Fitting estimator with 81 features.\n",
      "Fitting estimator with 80 features.\n",
      "Fitting estimator with 79 features.\n",
      "Fitting estimator with 78 features.\n",
      "Fitting estimator with 77 features.\n",
      "Fitting estimator with 76 features.\n",
      "Fitting estimator with 75 features.\n",
      "Fitting estimator with 74 features.\n",
      "Fitting estimator with 73 features.\n",
      "Fitting estimator with 72 features.\n",
      "Fitting estimator with 71 features.\n",
      "Fitting estimator with 70 features.\n",
      "Fitting estimator with 69 features.\n",
      "Fitting estimator with 68 features.\n",
      "Fitting estimator with 67 features.\n",
      "Fitting estimator with 66 features.\n",
      "Fitting estimator with 65 features.\n",
      "Fitting estimator with 64 features.\n",
      "Fitting estimator with 63 features.\n",
      "Fitting estimator with 62 features.\n",
      "Fitting estimator with 61 features.\n",
      "Fitting estimator with 60 features.\n",
      "Fitting estimator with 59 features.\n",
      "Fitting estimator with 58 features.\n",
      "Fitting estimator with 57 features.\n",
      "Fitting estimator with 56 features.\n",
      "Fitting estimator with 55 features.\n",
      "Fitting estimator with 54 features.\n",
      "Fitting estimator with 53 features.\n",
      "Fitting estimator with 52 features.\n",
      "Fitting estimator with 51 features.\n",
      "Fitting estimator with 50 features.\n",
      "Fitting estimator with 49 features.\n",
      "Fitting estimator with 48 features.\n",
      "Fitting estimator with 47 features.\n",
      "Fitting estimator with 46 features.\n",
      "Fitting estimator with 45 features.\n",
      "Fitting estimator with 44 features.\n",
      "Fitting estimator with 43 features.\n",
      "Fitting estimator with 42 features.\n",
      "Fitting estimator with 41 features.\n",
      "Fitting estimator with 40 features.\n",
      "Fitting estimator with 39 features.\n",
      "Fitting estimator with 38 features.\n",
      "Fitting estimator with 37 features.\n",
      "Fitting estimator with 36 features.\n",
      "Fitting estimator with 35 features.\n",
      "Fitting estimator with 34 features.\n",
      "Fitting estimator with 33 features.\n",
      "Fitting estimator with 32 features.\n",
      "Fitting estimator with 31 features.\n",
      "Fitting estimator with 30 features.\n",
      "Fitting estimator with 29 features.\n",
      "Fitting estimator with 28 features.\n",
      "Fitting estimator with 27 features.\n",
      "Fitting estimator with 26 features.\n",
      "Fitting estimator with 25 features.\n",
      "Fitting estimator with 24 features.\n",
      "Fitting estimator with 23 features.\n",
      "Fitting estimator with 22 features.\n",
      "Fitting estimator with 21 features.\n",
      "Fitting estimator with 20 features.\n",
      "Fitting estimator with 19 features.\n",
      "Fitting estimator with 18 features.\n",
      "Fitting estimator with 17 features.\n",
      "Fitting estimator with 16 features.\n",
      "Fitting estimator with 15 features.\n",
      "Fitting estimator with 14 features.\n",
      "Fitting estimator with 13 features.\n",
      "Fitting estimator with 12 features.\n",
      "Fitting estimator with 11 features.\n",
      "Fitting estimator with 94 features.\n",
      "Fitting estimator with 93 features.\n",
      "Fitting estimator with 92 features.\n",
      "Fitting estimator with 91 features.\n",
      "Fitting estimator with 90 features.\n",
      "Fitting estimator with 89 features.\n",
      "Fitting estimator with 88 features.\n",
      "Fitting estimator with 87 features.\n",
      "Fitting estimator with 86 features.\n",
      "Fitting estimator with 85 features.\n",
      "Fitting estimator with 84 features.\n",
      "Fitting estimator with 83 features.\n",
      "Fitting estimator with 82 features.\n",
      "Fitting estimator with 81 features.\n",
      "Fitting estimator with 80 features.\n",
      "Fitting estimator with 79 features.\n",
      "Fitting estimator with 78 features.\n",
      "Fitting estimator with 77 features.\n",
      "Fitting estimator with 76 features.\n",
      "Fitting estimator with 75 features.\n",
      "Fitting estimator with 74 features.\n",
      "Fitting estimator with 73 features.\n",
      "Fitting estimator with 72 features.\n",
      "Fitting estimator with 71 features.\n",
      "Fitting estimator with 70 features.\n",
      "Fitting estimator with 69 features.\n",
      "Fitting estimator with 68 features.\n",
      "Fitting estimator with 67 features.\n",
      "Fitting estimator with 66 features.\n",
      "Fitting estimator with 65 features.\n",
      "Fitting estimator with 64 features.\n",
      "Fitting estimator with 63 features.\n",
      "Fitting estimator with 62 features.\n",
      "Fitting estimator with 61 features.\n",
      "Fitting estimator with 60 features.\n",
      "Fitting estimator with 59 features.\n",
      "Fitting estimator with 58 features.\n",
      "Fitting estimator with 57 features.\n",
      "Fitting estimator with 56 features.\n",
      "Fitting estimator with 55 features.\n",
      "Fitting estimator with 54 features.\n",
      "Fitting estimator with 53 features.\n",
      "Fitting estimator with 52 features.\n",
      "Fitting estimator with 51 features.\n",
      "Fitting estimator with 50 features.\n",
      "Fitting estimator with 49 features.\n",
      "Fitting estimator with 48 features.\n",
      "Fitting estimator with 47 features.\n",
      "Fitting estimator with 46 features.\n",
      "Fitting estimator with 45 features.\n",
      "Fitting estimator with 44 features.\n",
      "Fitting estimator with 43 features.\n",
      "Fitting estimator with 42 features.\n",
      "Fitting estimator with 41 features.\n",
      "Fitting estimator with 40 features.\n",
      "Fitting estimator with 39 features.\n",
      "Fitting estimator with 38 features.\n",
      "Fitting estimator with 37 features.\n",
      "Fitting estimator with 36 features.\n",
      "Fitting estimator with 35 features.\n",
      "Fitting estimator with 34 features.\n",
      "Fitting estimator with 33 features.\n",
      "Fitting estimator with 32 features.\n",
      "Fitting estimator with 31 features.\n",
      "Fitting estimator with 30 features.\n",
      "Fitting estimator with 29 features.\n",
      "Fitting estimator with 28 features.\n",
      "Fitting estimator with 27 features.\n",
      "Fitting estimator with 26 features.\n",
      "Fitting estimator with 25 features.\n",
      "Fitting estimator with 24 features.\n",
      "Fitting estimator with 23 features.\n",
      "Fitting estimator with 22 features.\n",
      "Fitting estimator with 21 features.\n",
      "Fitting estimator with 20 features.\n",
      "Fitting estimator with 19 features.\n",
      "Fitting estimator with 18 features.\n",
      "Fitting estimator with 17 features.\n",
      "Fitting estimator with 16 features.\n",
      "Fitting estimator with 15 features.\n",
      "Fitting estimator with 14 features.\n",
      "Fitting estimator with 13 features.\n",
      "Fitting estimator with 12 features.\n",
      "Fitting estimator with 11 features.\n",
      "Fitting estimator with 94 features.\n",
      "Fitting estimator with 93 features.\n",
      "Fitting estimator with 92 features.\n",
      "Fitting estimator with 91 features.\n",
      "Fitting estimator with 90 features.\n",
      "Fitting estimator with 89 features.\n",
      "Fitting estimator with 88 features.\n",
      "Fitting estimator with 87 features.\n",
      "Fitting estimator with 86 features.\n",
      "Fitting estimator with 85 features.\n",
      "Fitting estimator with 84 features.\n",
      "Fitting estimator with 83 features.\n",
      "Fitting estimator with 82 features.\n",
      "Fitting estimator with 81 features.\n",
      "Fitting estimator with 80 features.\n",
      "Fitting estimator with 79 features.\n",
      "Fitting estimator with 78 features.\n",
      "Fitting estimator with 77 features.\n",
      "Fitting estimator with 76 features.\n",
      "Fitting estimator with 75 features.\n",
      "Fitting estimator with 74 features.\n",
      "Fitting estimator with 73 features.\n",
      "Fitting estimator with 72 features.\n",
      "Fitting estimator with 71 features.\n",
      "Fitting estimator with 70 features.\n",
      "Fitting estimator with 69 features.\n",
      "Fitting estimator with 68 features.\n",
      "Fitting estimator with 67 features.\n",
      "Fitting estimator with 66 features.\n",
      "Fitting estimator with 65 features.\n",
      "Fitting estimator with 64 features.\n",
      "Fitting estimator with 63 features.\n",
      "Fitting estimator with 62 features.\n",
      "Fitting estimator with 61 features.\n",
      "Fitting estimator with 60 features.\n",
      "Fitting estimator with 59 features.\n",
      "Fitting estimator with 58 features.\n",
      "Fitting estimator with 57 features.\n",
      "Fitting estimator with 56 features.\n",
      "Fitting estimator with 55 features.\n",
      "Fitting estimator with 54 features.\n",
      "Fitting estimator with 53 features.\n",
      "Fitting estimator with 52 features.\n",
      "Fitting estimator with 51 features.\n",
      "Fitting estimator with 50 features.\n",
      "Fitting estimator with 49 features.\n",
      "Fitting estimator with 48 features.\n",
      "Fitting estimator with 47 features.\n",
      "Fitting estimator with 46 features.\n",
      "Fitting estimator with 45 features.\n",
      "Fitting estimator with 44 features.\n",
      "Fitting estimator with 43 features.\n",
      "Fitting estimator with 42 features.\n",
      "Fitting estimator with 41 features.\n",
      "Fitting estimator with 40 features.\n",
      "Fitting estimator with 39 features.\n",
      "Fitting estimator with 38 features.\n",
      "Fitting estimator with 37 features.\n",
      "Fitting estimator with 36 features.\n",
      "Fitting estimator with 35 features.\n",
      "Fitting estimator with 34 features.\n",
      "Fitting estimator with 33 features.\n",
      "Fitting estimator with 32 features.\n",
      "Fitting estimator with 31 features.\n",
      "Fitting estimator with 30 features.\n",
      "Fitting estimator with 29 features.\n",
      "Fitting estimator with 28 features.\n",
      "Fitting estimator with 27 features.\n",
      "Fitting estimator with 26 features.\n",
      "Fitting estimator with 25 features.\n",
      "Fitting estimator with 24 features.\n",
      "Fitting estimator with 23 features.\n",
      "Fitting estimator with 22 features.\n",
      "Fitting estimator with 21 features.\n",
      "Fitting estimator with 20 features.\n",
      "Fitting estimator with 19 features.\n",
      "Fitting estimator with 18 features.\n",
      "Fitting estimator with 17 features.\n",
      "Fitting estimator with 16 features.\n",
      "Fitting estimator with 15 features.\n",
      "Fitting estimator with 14 features.\n",
      "Fitting estimator with 13 features.\n",
      "Fitting estimator with 12 features.\n",
      "Fitting estimator with 11 features.\n",
      "Fitting estimator with 94 features.\n",
      "Fitting estimator with 93 features.\n",
      "Fitting estimator with 92 features.\n",
      "Fitting estimator with 91 features.\n",
      "Fitting estimator with 90 features.\n",
      "Fitting estimator with 89 features.\n",
      "Fitting estimator with 88 features.\n",
      "Fitting estimator with 87 features.\n",
      "Fitting estimator with 86 features.\n",
      "Fitting estimator with 85 features.\n",
      "Fitting estimator with 84 features.\n",
      "Fitting estimator with 83 features.\n",
      "Fitting estimator with 82 features.\n",
      "Fitting estimator with 81 features.\n",
      "Fitting estimator with 80 features.\n",
      "Fitting estimator with 79 features.\n",
      "Fitting estimator with 78 features.\n",
      "Fitting estimator with 77 features.\n",
      "Fitting estimator with 76 features.\n",
      "Fitting estimator with 75 features.\n",
      "Fitting estimator with 74 features.\n",
      "Fitting estimator with 73 features.\n",
      "Fitting estimator with 72 features.\n",
      "Fitting estimator with 71 features.\n",
      "Fitting estimator with 70 features.\n",
      "Fitting estimator with 69 features.\n",
      "Fitting estimator with 68 features.\n",
      "Fitting estimator with 67 features.\n",
      "Fitting estimator with 66 features.\n",
      "Fitting estimator with 65 features.\n",
      "Fitting estimator with 64 features.\n",
      "Fitting estimator with 63 features.\n",
      "Fitting estimator with 62 features.\n",
      "Fitting estimator with 61 features.\n",
      "Fitting estimator with 60 features.\n",
      "Fitting estimator with 59 features.\n",
      "Fitting estimator with 58 features.\n",
      "Fitting estimator with 57 features.\n",
      "Fitting estimator with 56 features.\n",
      "Fitting estimator with 55 features.\n",
      "Fitting estimator with 54 features.\n",
      "Fitting estimator with 53 features.\n",
      "Fitting estimator with 52 features.\n",
      "Fitting estimator with 51 features.\n",
      "Fitting estimator with 50 features.\n",
      "Fitting estimator with 49 features.\n",
      "Fitting estimator with 48 features.\n",
      "Fitting estimator with 47 features.\n",
      "Fitting estimator with 46 features.\n",
      "Fitting estimator with 45 features.\n",
      "Fitting estimator with 44 features.\n",
      "Fitting estimator with 43 features.\n",
      "Fitting estimator with 42 features.\n",
      "Fitting estimator with 41 features.\n",
      "Fitting estimator with 40 features.\n",
      "Fitting estimator with 39 features.\n",
      "Fitting estimator with 38 features.\n",
      "Fitting estimator with 37 features.\n",
      "Fitting estimator with 36 features.\n",
      "Fitting estimator with 35 features.\n",
      "Fitting estimator with 34 features.\n",
      "Fitting estimator with 33 features.\n",
      "Fitting estimator with 32 features.\n",
      "Fitting estimator with 31 features.\n",
      "Fitting estimator with 30 features.\n",
      "Fitting estimator with 29 features.\n",
      "Fitting estimator with 28 features.\n",
      "Fitting estimator with 27 features.\n",
      "Fitting estimator with 26 features.\n",
      "Fitting estimator with 25 features.\n",
      "Fitting estimator with 24 features.\n",
      "Fitting estimator with 23 features.\n",
      "Fitting estimator with 22 features.\n",
      "Fitting estimator with 21 features.\n",
      "Fitting estimator with 20 features.\n",
      "Fitting estimator with 19 features.\n",
      "Fitting estimator with 18 features.\n",
      "Fitting estimator with 17 features.\n",
      "Fitting estimator with 16 features.\n",
      "Fitting estimator with 15 features.\n",
      "Fitting estimator with 14 features.\n",
      "Fitting estimator with 13 features.\n",
      "Fitting estimator with 12 features.\n",
      "Fitting estimator with 11 features.\n",
      "Fitting estimator with 94 features.\n",
      "Fitting estimator with 93 features.\n",
      "Fitting estimator with 92 features.\n",
      "Fitting estimator with 91 features.\n",
      "Fitting estimator with 90 features.\n",
      "Fitting estimator with 89 features.\n",
      "Fitting estimator with 88 features.\n",
      "Fitting estimator with 87 features.\n",
      "Fitting estimator with 86 features.\n",
      "Fitting estimator with 85 features.\n",
      "Fitting estimator with 84 features.\n",
      "Fitting estimator with 83 features.\n",
      "Fitting estimator with 82 features.\n",
      "Fitting estimator with 81 features.\n",
      "Fitting estimator with 80 features.\n",
      "Fitting estimator with 79 features.\n",
      "Fitting estimator with 78 features.\n",
      "Fitting estimator with 77 features.\n",
      "Fitting estimator with 76 features.\n",
      "Fitting estimator with 75 features.\n",
      "Fitting estimator with 74 features.\n",
      "Fitting estimator with 73 features.\n",
      "Fitting estimator with 72 features.\n",
      "Fitting estimator with 71 features.\n",
      "Fitting estimator with 70 features.\n",
      "Fitting estimator with 69 features.\n",
      "Fitting estimator with 68 features.\n",
      "Fitting estimator with 67 features.\n",
      "Fitting estimator with 66 features.\n",
      "Fitting estimator with 65 features.\n",
      "Fitting estimator with 64 features.\n",
      "Fitting estimator with 63 features.\n",
      "Fitting estimator with 62 features.\n",
      "Fitting estimator with 61 features.\n",
      "Fitting estimator with 60 features.\n",
      "Fitting estimator with 59 features.\n",
      "Fitting estimator with 58 features.\n",
      "Fitting estimator with 57 features.\n",
      "Fitting estimator with 56 features.\n",
      "Fitting estimator with 55 features.\n",
      "Fitting estimator with 54 features.\n",
      "Fitting estimator with 53 features.\n",
      "Fitting estimator with 52 features.\n",
      "Fitting estimator with 51 features.\n",
      "Fitting estimator with 50 features.\n",
      "Fitting estimator with 49 features.\n",
      "Fitting estimator with 48 features.\n",
      "Fitting estimator with 47 features.\n",
      "Fitting estimator with 46 features.\n",
      "Fitting estimator with 45 features.\n",
      "Fitting estimator with 44 features.\n",
      "Fitting estimator with 43 features.\n",
      "Fitting estimator with 42 features.\n",
      "Fitting estimator with 41 features.\n",
      "Fitting estimator with 40 features.\n",
      "Fitting estimator with 39 features.\n",
      "Fitting estimator with 38 features.\n",
      "Fitting estimator with 37 features.\n",
      "Fitting estimator with 36 features.\n",
      "Fitting estimator with 35 features.\n",
      "Fitting estimator with 34 features.\n",
      "Fitting estimator with 33 features.\n",
      "Fitting estimator with 32 features.\n",
      "Fitting estimator with 31 features.\n",
      "Fitting estimator with 30 features.\n",
      "Fitting estimator with 29 features.\n",
      "Fitting estimator with 28 features.\n",
      "Fitting estimator with 27 features.\n",
      "Fitting estimator with 26 features.\n",
      "Fitting estimator with 25 features.\n",
      "Fitting estimator with 24 features.\n",
      "Fitting estimator with 23 features.\n",
      "Fitting estimator with 22 features.\n",
      "Fitting estimator with 21 features.\n",
      "Fitting estimator with 20 features.\n",
      "Fitting estimator with 19 features.\n",
      "Fitting estimator with 18 features.\n",
      "Fitting estimator with 17 features.\n",
      "Fitting estimator with 16 features.\n",
      "Fitting estimator with 15 features.\n",
      "Fitting estimator with 14 features.\n",
      "Fitting estimator with 13 features.\n",
      "Fitting estimator with 12 features.\n",
      "Fitting estimator with 11 features.\n",
      "Fitting estimator with 94 features.\n",
      "Fitting estimator with 93 features.\n",
      "Fitting estimator with 92 features.\n",
      "Fitting estimator with 91 features.\n",
      "Fitting estimator with 90 features.\n",
      "Fitting estimator with 89 features.\n",
      "Fitting estimator with 88 features.\n",
      "Fitting estimator with 87 features.\n",
      "Fitting estimator with 86 features.\n",
      "Fitting estimator with 85 features.\n",
      "Fitting estimator with 84 features.\n",
      "Fitting estimator with 83 features.\n",
      "Fitting estimator with 82 features.\n",
      "Fitting estimator with 81 features.\n",
      "Fitting estimator with 80 features.\n",
      "Fitting estimator with 79 features.\n",
      "Fitting estimator with 78 features.\n",
      "Fitting estimator with 77 features.\n",
      "Fitting estimator with 76 features.\n",
      "Fitting estimator with 75 features.\n",
      "Fitting estimator with 74 features.\n",
      "Fitting estimator with 73 features.\n",
      "Fitting estimator with 72 features.\n",
      "Fitting estimator with 71 features.\n",
      "Fitting estimator with 70 features.\n",
      "Fitting estimator with 69 features.\n",
      "Fitting estimator with 68 features.\n",
      "Fitting estimator with 67 features.\n",
      "Fitting estimator with 66 features.\n",
      "Fitting estimator with 65 features.\n",
      "Fitting estimator with 64 features.\n",
      "Fitting estimator with 63 features.\n",
      "Fitting estimator with 62 features.\n",
      "Fitting estimator with 61 features.\n",
      "Fitting estimator with 60 features.\n",
      "Fitting estimator with 59 features.\n",
      "Fitting estimator with 58 features.\n",
      "Fitting estimator with 57 features.\n",
      "Fitting estimator with 56 features.\n",
      "Fitting estimator with 55 features.\n",
      "Fitting estimator with 54 features.\n",
      "Fitting estimator with 53 features.\n",
      "Fitting estimator with 52 features.\n",
      "Fitting estimator with 51 features.\n",
      "Fitting estimator with 50 features.\n",
      "Fitting estimator with 49 features.\n",
      "Fitting estimator with 48 features.\n",
      "Fitting estimator with 47 features.\n",
      "Fitting estimator with 46 features.\n",
      "Fitting estimator with 45 features.\n",
      "Fitting estimator with 44 features.\n",
      "Fitting estimator with 43 features.\n",
      "Fitting estimator with 42 features.\n",
      "Fitting estimator with 41 features.\n",
      "Fitting estimator with 40 features.\n",
      "Fitting estimator with 39 features.\n",
      "Fitting estimator with 38 features.\n",
      "Fitting estimator with 37 features.\n",
      "Fitting estimator with 36 features.\n",
      "Fitting estimator with 35 features.\n",
      "Fitting estimator with 34 features.\n",
      "Fitting estimator with 33 features.\n",
      "Fitting estimator with 32 features.\n",
      "Fitting estimator with 31 features.\n",
      "Fitting estimator with 30 features.\n",
      "Fitting estimator with 29 features.\n",
      "Fitting estimator with 28 features.\n",
      "Fitting estimator with 27 features.\n",
      "Fitting estimator with 26 features.\n",
      "Fitting estimator with 25 features.\n",
      "Fitting estimator with 24 features.\n",
      "Fitting estimator with 23 features.\n",
      "Fitting estimator with 22 features.\n",
      "Fitting estimator with 21 features.\n",
      "Fitting estimator with 20 features.\n",
      "Fitting estimator with 19 features.\n",
      "Fitting estimator with 18 features.\n",
      "Fitting estimator with 17 features.\n",
      "Fitting estimator with 16 features.\n",
      "Fitting estimator with 15 features.\n",
      "Fitting estimator with 14 features.\n",
      "Fitting estimator with 13 features.\n",
      "Fitting estimator with 12 features.\n",
      "Fitting estimator with 11 features.\n",
      "Fitting estimator with 94 features.\n",
      "Fitting estimator with 93 features.\n",
      "Fitting estimator with 92 features.\n",
      "Fitting estimator with 91 features.\n",
      "Fitting estimator with 90 features.\n",
      "Fitting estimator with 89 features.\n",
      "Fitting estimator with 88 features.\n",
      "Fitting estimator with 87 features.\n",
      "Fitting estimator with 86 features.\n",
      "Fitting estimator with 85 features.\n",
      "Fitting estimator with 84 features.\n",
      "Fitting estimator with 83 features.\n",
      "Fitting estimator with 82 features.\n",
      "Fitting estimator with 81 features.\n",
      "Fitting estimator with 80 features.\n",
      "Fitting estimator with 79 features.\n",
      "Fitting estimator with 78 features.\n",
      "Fitting estimator with 77 features.\n",
      "Fitting estimator with 76 features.\n",
      "Fitting estimator with 75 features.\n",
      "Fitting estimator with 74 features.\n",
      "Fitting estimator with 73 features.\n",
      "Fitting estimator with 72 features.\n",
      "Fitting estimator with 71 features.\n",
      "Fitting estimator with 70 features.\n",
      "Fitting estimator with 69 features.\n",
      "Fitting estimator with 68 features.\n",
      "Fitting estimator with 67 features.\n",
      "Fitting estimator with 66 features.\n",
      "Fitting estimator with 65 features.\n",
      "Fitting estimator with 64 features.\n",
      "Fitting estimator with 63 features.\n",
      "Fitting estimator with 62 features.\n",
      "Fitting estimator with 61 features.\n",
      "Fitting estimator with 60 features.\n",
      "Fitting estimator with 59 features.\n",
      "Fitting estimator with 58 features.\n",
      "Fitting estimator with 57 features.\n",
      "Fitting estimator with 56 features.\n",
      "Fitting estimator with 55 features.\n",
      "Fitting estimator with 54 features.\n",
      "Fitting estimator with 53 features.\n",
      "Fitting estimator with 52 features.\n",
      "Fitting estimator with 51 features.\n",
      "Fitting estimator with 50 features.\n",
      "Fitting estimator with 49 features.\n",
      "Fitting estimator with 48 features.\n",
      "Fitting estimator with 47 features.\n",
      "Fitting estimator with 46 features.\n",
      "Fitting estimator with 45 features.\n",
      "Fitting estimator with 44 features.\n",
      "Fitting estimator with 43 features.\n",
      "Fitting estimator with 42 features.\n",
      "Fitting estimator with 41 features.\n",
      "Fitting estimator with 40 features.\n",
      "Fitting estimator with 39 features.\n",
      "Fitting estimator with 38 features.\n",
      "Fitting estimator with 37 features.\n",
      "Fitting estimator with 36 features.\n",
      "Fitting estimator with 35 features.\n",
      "Fitting estimator with 34 features.\n",
      "Fitting estimator with 33 features.\n",
      "Fitting estimator with 32 features.\n",
      "Fitting estimator with 31 features.\n",
      "Fitting estimator with 30 features.\n",
      "Fitting estimator with 29 features.\n",
      "Fitting estimator with 28 features.\n",
      "Fitting estimator with 27 features.\n",
      "Fitting estimator with 26 features.\n",
      "Fitting estimator with 25 features.\n",
      "Fitting estimator with 24 features.\n",
      "Fitting estimator with 23 features.\n",
      "Fitting estimator with 22 features.\n",
      "Fitting estimator with 21 features.\n",
      "Fitting estimator with 20 features.\n",
      "Fitting estimator with 19 features.\n",
      "Fitting estimator with 18 features.\n",
      "Fitting estimator with 17 features.\n",
      "Fitting estimator with 16 features.\n",
      "Fitting estimator with 15 features.\n",
      "Fitting estimator with 14 features.\n",
      "Fitting estimator with 13 features.\n",
      "Fitting estimator with 12 features.\n",
      "Fitting estimator with 11 features.\n",
      "Fitting estimator with 94 features.\n",
      "Fitting estimator with 93 features.\n",
      "Fitting estimator with 92 features.\n",
      "Fitting estimator with 91 features.\n",
      "Fitting estimator with 90 features.\n",
      "Fitting estimator with 89 features.\n",
      "Fitting estimator with 88 features.\n",
      "Fitting estimator with 87 features.\n",
      "Fitting estimator with 86 features.\n",
      "Fitting estimator with 85 features.\n",
      "Fitting estimator with 84 features.\n",
      "Fitting estimator with 83 features.\n",
      "Fitting estimator with 82 features.\n",
      "Fitting estimator with 81 features.\n",
      "Fitting estimator with 80 features.\n",
      "Fitting estimator with 79 features.\n",
      "Fitting estimator with 78 features.\n",
      "Fitting estimator with 77 features.\n",
      "Fitting estimator with 76 features.\n",
      "Fitting estimator with 75 features.\n",
      "Fitting estimator with 74 features.\n",
      "Fitting estimator with 73 features.\n",
      "Fitting estimator with 72 features.\n",
      "Fitting estimator with 71 features.\n",
      "Fitting estimator with 70 features.\n",
      "Fitting estimator with 69 features.\n",
      "Fitting estimator with 68 features.\n",
      "Fitting estimator with 67 features.\n",
      "Fitting estimator with 66 features.\n",
      "Fitting estimator with 65 features.\n",
      "Fitting estimator with 64 features.\n",
      "Fitting estimator with 63 features.\n",
      "Fitting estimator with 62 features.\n",
      "Fitting estimator with 61 features.\n",
      "Fitting estimator with 60 features.\n",
      "Fitting estimator with 59 features.\n",
      "Fitting estimator with 58 features.\n",
      "Fitting estimator with 57 features.\n",
      "Fitting estimator with 56 features.\n",
      "Fitting estimator with 55 features.\n",
      "Fitting estimator with 54 features.\n",
      "Fitting estimator with 53 features.\n",
      "Fitting estimator with 52 features.\n",
      "Fitting estimator with 51 features.\n",
      "Fitting estimator with 50 features.\n",
      "Fitting estimator with 49 features.\n",
      "Fitting estimator with 48 features.\n",
      "Fitting estimator with 47 features.\n",
      "Fitting estimator with 46 features.\n",
      "Fitting estimator with 45 features.\n",
      "Fitting estimator with 44 features.\n",
      "Fitting estimator with 43 features.\n",
      "Fitting estimator with 42 features.\n",
      "Fitting estimator with 41 features.\n",
      "Fitting estimator with 40 features.\n",
      "Fitting estimator with 39 features.\n",
      "Fitting estimator with 38 features.\n",
      "Fitting estimator with 37 features.\n",
      "Fitting estimator with 36 features.\n",
      "Fitting estimator with 35 features.\n",
      "Fitting estimator with 34 features.\n",
      "Fitting estimator with 33 features.\n",
      "Fitting estimator with 32 features.\n",
      "Fitting estimator with 31 features.\n",
      "Fitting estimator with 30 features.\n",
      "Fitting estimator with 29 features.\n",
      "Fitting estimator with 28 features.\n",
      "Fitting estimator with 27 features.\n",
      "Fitting estimator with 26 features.\n",
      "Fitting estimator with 25 features.\n",
      "Fitting estimator with 24 features.\n",
      "Fitting estimator with 23 features.\n",
      "Fitting estimator with 22 features.\n",
      "Fitting estimator with 21 features.\n",
      "Fitting estimator with 20 features.\n",
      "Fitting estimator with 19 features.\n",
      "Fitting estimator with 18 features.\n",
      "Fitting estimator with 17 features.\n",
      "Fitting estimator with 16 features.\n",
      "Fitting estimator with 15 features.\n",
      "Fitting estimator with 14 features.\n",
      "Fitting estimator with 13 features.\n",
      "Fitting estimator with 12 features.\n",
      "Fitting estimator with 11 features.\n",
      "Fitting estimator with 94 features.\n",
      "Fitting estimator with 93 features.\n",
      "Fitting estimator with 92 features.\n",
      "Fitting estimator with 91 features.\n",
      "Fitting estimator with 90 features.\n",
      "Fitting estimator with 89 features.\n",
      "Fitting estimator with 88 features.\n",
      "Fitting estimator with 87 features.\n",
      "Fitting estimator with 86 features.\n",
      "Fitting estimator with 85 features.\n",
      "Fitting estimator with 84 features.\n",
      "Fitting estimator with 83 features.\n",
      "Fitting estimator with 82 features.\n",
      "Fitting estimator with 81 features.\n",
      "Fitting estimator with 80 features.\n",
      "Fitting estimator with 79 features.\n",
      "Fitting estimator with 78 features.\n",
      "Fitting estimator with 77 features.\n",
      "Fitting estimator with 76 features.\n",
      "Fitting estimator with 75 features.\n",
      "Fitting estimator with 74 features.\n",
      "Fitting estimator with 73 features.\n",
      "Fitting estimator with 72 features.\n",
      "Fitting estimator with 71 features.\n",
      "Fitting estimator with 70 features.\n",
      "Fitting estimator with 69 features.\n",
      "Fitting estimator with 68 features.\n",
      "Fitting estimator with 67 features.\n",
      "Fitting estimator with 66 features.\n",
      "Fitting estimator with 65 features.\n",
      "Fitting estimator with 64 features.\n",
      "Fitting estimator with 63 features.\n",
      "Fitting estimator with 62 features.\n",
      "Fitting estimator with 61 features.\n",
      "Fitting estimator with 60 features.\n",
      "Fitting estimator with 59 features.\n",
      "Fitting estimator with 58 features.\n",
      "Fitting estimator with 57 features.\n",
      "Fitting estimator with 56 features.\n",
      "Fitting estimator with 55 features.\n",
      "Fitting estimator with 54 features.\n",
      "Fitting estimator with 53 features.\n",
      "Fitting estimator with 52 features.\n",
      "Fitting estimator with 51 features.\n",
      "Fitting estimator with 50 features.\n",
      "Fitting estimator with 49 features.\n",
      "Fitting estimator with 48 features.\n",
      "Fitting estimator with 47 features.\n",
      "Fitting estimator with 46 features.\n",
      "Fitting estimator with 45 features.\n",
      "Fitting estimator with 44 features.\n",
      "Fitting estimator with 43 features.\n",
      "Fitting estimator with 42 features.\n",
      "Fitting estimator with 41 features.\n",
      "Fitting estimator with 40 features.\n",
      "Fitting estimator with 39 features.\n",
      "Fitting estimator with 38 features.\n",
      "Fitting estimator with 37 features.\n",
      "Fitting estimator with 36 features.\n",
      "Fitting estimator with 35 features.\n",
      "Fitting estimator with 34 features.\n",
      "Fitting estimator with 33 features.\n",
      "Fitting estimator with 32 features.\n",
      "Fitting estimator with 31 features.\n",
      "Fitting estimator with 30 features.\n",
      "Fitting estimator with 29 features.\n",
      "Fitting estimator with 28 features.\n",
      "Fitting estimator with 27 features.\n",
      "Fitting estimator with 26 features.\n",
      "Fitting estimator with 25 features.\n",
      "Fitting estimator with 24 features.\n",
      "Fitting estimator with 23 features.\n",
      "Fitting estimator with 22 features.\n",
      "Fitting estimator with 21 features.\n",
      "Fitting estimator with 20 features.\n",
      "Fitting estimator with 19 features.\n",
      "Fitting estimator with 18 features.\n",
      "Fitting estimator with 17 features.\n",
      "Fitting estimator with 16 features.\n",
      "Fitting estimator with 15 features.\n",
      "Fitting estimator with 14 features.\n",
      "Fitting estimator with 13 features.\n",
      "Fitting estimator with 12 features.\n",
      "Fitting estimator with 11 features.\n",
      "Fitting estimator with 94 features.\n",
      "Fitting estimator with 93 features.\n",
      "Fitting estimator with 92 features.\n",
      "Fitting estimator with 91 features.\n",
      "Fitting estimator with 90 features.\n",
      "Fitting estimator with 89 features.\n",
      "Fitting estimator with 88 features.\n",
      "Fitting estimator with 87 features.\n",
      "Fitting estimator with 86 features.\n",
      "Fitting estimator with 85 features.\n",
      "Fitting estimator with 84 features.\n",
      "Fitting estimator with 83 features.\n",
      "Fitting estimator with 82 features.\n",
      "Fitting estimator with 81 features.\n",
      "Fitting estimator with 80 features.\n",
      "Fitting estimator with 79 features.\n",
      "Fitting estimator with 78 features.\n",
      "Fitting estimator with 77 features.\n",
      "Fitting estimator with 76 features.\n",
      "Fitting estimator with 75 features.\n",
      "Fitting estimator with 74 features.\n",
      "Fitting estimator with 73 features.\n",
      "Fitting estimator with 72 features.\n",
      "Fitting estimator with 71 features.\n",
      "Fitting estimator with 70 features.\n",
      "Fitting estimator with 69 features.\n",
      "Fitting estimator with 68 features.\n",
      "Fitting estimator with 67 features.\n",
      "Fitting estimator with 66 features.\n",
      "Fitting estimator with 65 features.\n",
      "Fitting estimator with 64 features.\n",
      "Fitting estimator with 63 features.\n",
      "Fitting estimator with 62 features.\n",
      "Fitting estimator with 61 features.\n",
      "Fitting estimator with 60 features.\n",
      "Fitting estimator with 59 features.\n",
      "Fitting estimator with 58 features.\n",
      "Fitting estimator with 57 features.\n",
      "Fitting estimator with 56 features.\n",
      "Fitting estimator with 55 features.\n",
      "Fitting estimator with 54 features.\n",
      "Fitting estimator with 53 features.\n",
      "Fitting estimator with 52 features.\n",
      "Fitting estimator with 51 features.\n",
      "Fitting estimator with 50 features.\n",
      "Fitting estimator with 49 features.\n",
      "Fitting estimator with 48 features.\n",
      "Fitting estimator with 47 features.\n",
      "Fitting estimator with 46 features.\n",
      "Fitting estimator with 45 features.\n",
      "Fitting estimator with 44 features.\n",
      "Fitting estimator with 43 features.\n",
      "Fitting estimator with 42 features.\n",
      "Fitting estimator with 41 features.\n",
      "Fitting estimator with 40 features.\n",
      "Fitting estimator with 39 features.\n",
      "Fitting estimator with 38 features.\n",
      "Fitting estimator with 37 features.\n",
      "Fitting estimator with 36 features.\n",
      "Fitting estimator with 35 features.\n",
      "Fitting estimator with 34 features.\n",
      "Fitting estimator with 33 features.\n",
      "Fitting estimator with 32 features.\n",
      "Fitting estimator with 31 features.\n",
      "Fitting estimator with 30 features.\n",
      "Fitting estimator with 29 features.\n",
      "Fitting estimator with 28 features.\n",
      "Fitting estimator with 27 features.\n",
      "Fitting estimator with 26 features.\n",
      "Fitting estimator with 25 features.\n",
      "Fitting estimator with 24 features.\n",
      "Fitting estimator with 23 features.\n",
      "Fitting estimator with 22 features.\n",
      "Fitting estimator with 21 features.\n",
      "Fitting estimator with 20 features.\n",
      "Fitting estimator with 19 features.\n",
      "Fitting estimator with 18 features.\n",
      "Fitting estimator with 17 features.\n",
      "Fitting estimator with 16 features.\n",
      "Fitting estimator with 15 features.\n",
      "Fitting estimator with 14 features.\n",
      "Fitting estimator with 13 features.\n",
      "Fitting estimator with 12 features.\n",
      "Fitting estimator with 11 features.\n",
      "Fitting estimator with 94 features.\n",
      "Fitting estimator with 93 features.\n",
      "Fitting estimator with 92 features.\n",
      "Fitting estimator with 91 features.\n",
      "Fitting estimator with 90 features.\n",
      "Fitting estimator with 89 features.\n",
      "Fitting estimator with 88 features.\n",
      "Fitting estimator with 87 features.\n",
      "Fitting estimator with 86 features.\n",
      "Fitting estimator with 85 features.\n",
      "Fitting estimator with 84 features.\n",
      "Fitting estimator with 83 features.\n",
      "Fitting estimator with 82 features.\n",
      "Fitting estimator with 81 features.\n",
      "Fitting estimator with 80 features.\n",
      "Fitting estimator with 79 features.\n",
      "Fitting estimator with 78 features.\n",
      "Fitting estimator with 77 features.\n",
      "Fitting estimator with 76 features.\n",
      "Fitting estimator with 75 features.\n",
      "Fitting estimator with 74 features.\n",
      "Fitting estimator with 73 features.\n",
      "Fitting estimator with 72 features.\n",
      "Fitting estimator with 71 features.\n",
      "Fitting estimator with 70 features.\n",
      "Fitting estimator with 69 features.\n",
      "Fitting estimator with 68 features.\n",
      "Fitting estimator with 67 features.\n",
      "Fitting estimator with 66 features.\n",
      "Fitting estimator with 65 features.\n",
      "Fitting estimator with 64 features.\n",
      "Fitting estimator with 63 features.\n",
      "Fitting estimator with 62 features.\n",
      "Fitting estimator with 61 features.\n",
      "Fitting estimator with 60 features.\n",
      "Fitting estimator with 59 features.\n",
      "Fitting estimator with 58 features.\n",
      "Fitting estimator with 57 features.\n",
      "Fitting estimator with 56 features.\n",
      "Fitting estimator with 55 features.\n",
      "Fitting estimator with 54 features.\n",
      "Fitting estimator with 53 features.\n",
      "Fitting estimator with 52 features.\n",
      "Fitting estimator with 51 features.\n",
      "Fitting estimator with 50 features.\n",
      "Fitting estimator with 49 features.\n",
      "Fitting estimator with 48 features.\n",
      "Fitting estimator with 47 features.\n",
      "Fitting estimator with 46 features.\n",
      "Fitting estimator with 45 features.\n",
      "Fitting estimator with 44 features.\n",
      "Fitting estimator with 43 features.\n",
      "Fitting estimator with 42 features.\n"
     ]
    }
   ],
   "source": [
    "# RFECV using trees\n",
    "from sklearn.feature_selection import RFECV\n",
    "k_fold = StratifiedKFold(n_splits=10, shuffle=True, random_state=42)\n",
    "estimator_tree=DecisionTreeClassifier(class_weight='balanced')\n",
    "rfe_selector_tree=RFECV(estimator=estimator_tree, step=1,min_features_to_select=10, cv=k_fold, scoring='roc_auc',verbose=10)\n",
    "X_rfecv=rfe_selector_tree.fit_transform(X, y) # fit transform on rfe_selector gives \n",
    "mask_rfe_tree = rfe_selector_tree.get_support()\n",
    "rfe_features_tree=rfe_selector_tree.get_feature_names_out() # mask support, get_feature_names_out"
   ]
  },
  {
   "cell_type": "code",
   "execution_count": 122,
   "id": "1b3848fc-6ccd-412b-8455-5139ff65dc22",
   "metadata": {},
   "outputs": [
    {
     "data": {
      "text/plain": [
       "41"
      ]
     },
     "execution_count": 122,
     "metadata": {},
     "output_type": "execute_result"
    }
   ],
   "source": [
    "#number of features selected by rfe tree\n",
    "rfe_selector_tree.n_features_"
   ]
  },
  {
   "cell_type": "code",
   "execution_count": 123,
   "id": "680713d4-bf77-44a9-9127-b993d1405c98",
   "metadata": {},
   "outputs": [
    {
     "data": {
      "text/plain": [
       "3"
      ]
     },
     "execution_count": 123,
     "metadata": {},
     "output_type": "execute_result"
    }
   ],
   "source": [
    "# number of features combinations of selections\n",
    "sum(mask_rfe&mask_rfe_tree&mask_anova)"
   ]
  },
  {
   "cell_type": "code",
   "execution_count": 124,
   "id": "3791dd5f-1872-41a2-ba4f-f0c384c871db",
   "metadata": {},
   "outputs": [
    {
     "data": {
      "text/plain": [
       "4"
      ]
     },
     "execution_count": 124,
     "metadata": {},
     "output_type": "execute_result"
    }
   ],
   "source": [
    "sum(mask_rfe&mask_rfe_tree&mask_full_anova)"
   ]
  },
  {
   "cell_type": "code",
   "execution_count": 125,
   "id": "5d2c065b-e521-451e-b175-f34d60b53a32",
   "metadata": {},
   "outputs": [
    {
     "data": {
      "text/plain": [
       "6"
      ]
     },
     "execution_count": 125,
     "metadata": {},
     "output_type": "execute_result"
    }
   ],
   "source": [
    "sum(mask_rfe_tree&mask_anova)"
   ]
  },
  {
   "cell_type": "code",
   "execution_count": 141,
   "id": "287ff6e4-23fe-4fe1-94b6-4897edfdbbb5",
   "metadata": {},
   "outputs": [
    {
     "data": {
      "text/plain": [
       "22"
      ]
     },
     "execution_count": 141,
     "metadata": {},
     "output_type": "execute_result"
    }
   ],
   "source": [
    "sum(mask_rfe_tree&mask_full_anova)"
   ]
  },
  {
   "cell_type": "code",
   "execution_count": 127,
   "id": "5b40e203-d306-4d17-976b-1ba1904b4f84",
   "metadata": {},
   "outputs": [
    {
     "data": {
      "text/plain": [
       "4"
      ]
     },
     "execution_count": 127,
     "metadata": {},
     "output_type": "execute_result"
    }
   ],
   "source": [
    "sum(mask_rfe&mask_rfe_tree)"
   ]
  },
  {
   "cell_type": "code",
   "execution_count": 128,
   "id": "5891222e-c931-431d-b3e9-b4e8a997cd84",
   "metadata": {},
   "outputs": [
    {
     "data": {
      "text/plain": [
       "4"
      ]
     },
     "execution_count": 128,
     "metadata": {},
     "output_type": "execute_result"
    }
   ],
   "source": [
    "sum(mask_rfe&mask_anova)"
   ]
  },
  {
   "cell_type": "code",
   "execution_count": 129,
   "id": "cf996b86-93c0-4084-96cb-dcf336332dc5",
   "metadata": {},
   "outputs": [
    {
     "data": {
      "text/plain": [
       "9"
      ]
     },
     "execution_count": 129,
     "metadata": {},
     "output_type": "execute_result"
    }
   ],
   "source": [
    "sum(mask_rfe&mask_full_anova)"
   ]
  },
  {
   "cell_type": "code",
   "execution_count": 136,
   "id": "6c9336a6-d35f-451e-96b9-39df86cb1be2",
   "metadata": {},
   "outputs": [
    {
     "name": "stdout",
     "output_type": "stream",
     "text": [
      "10 58 10 41\n"
     ]
    }
   ],
   "source": [
    "print(sum(mask_anova),sum(mask_full_anova),sum(mask_rfe),sum(mask_rfe_tree))"
   ]
  },
  {
   "cell_type": "code",
   "execution_count": 164,
   "id": "59f3cf81-0690-4732-bc21-e0f994974e53",
   "metadata": {},
   "outputs": [],
   "source": [
    "# from above combinations we choose the following masks\n",
    "mask1=mask_rfe_tree&mask_full_anova #22 features\n",
    "mask2=mask_rfe&mask_full_anova #9 features\n",
    "mask3=mask_rfe&mask_rfe_tree&mask_full_anova # 4 features\n",
    "\n",
    "# df with selected features\n",
    "# X[X.columns[mask1]]"
   ]
  },
  {
   "cell_type": "code",
   "execution_count": null,
   "id": "1fe9db5f-6057-40be-8a7f-8dd90c2edbdb",
   "metadata": {
    "tags": []
   },
   "outputs": [],
   "source": []
  },
  {
   "cell_type": "code",
   "execution_count": 125,
   "id": "6d76f9bb-bb2d-4206-ab57-7a50d92bc313",
   "metadata": {
    "collapsed": true,
    "jupyter": {
     "outputs_hidden": true
    },
    "tags": []
   },
   "outputs": [
    {
     "data": {
      "text/plain": [
       "<matplotlib.legend.Legend at 0x20d51cd3430>"
      ]
     },
     "execution_count": 125,
     "metadata": {},
     "output_type": "execute_result"
    },
    {
     "data": {
      "image/png": "[encoded data removed]",
      "text/plain": [
       "<Figure size 432x288 with 1 Axes>"
      ]
     },
     "metadata": {
      "needs_background": "light"
     },
     "output_type": "display_data"
    }
   ],
   "source": [
    "# selector attributes\n",
    "\n",
    "#cv_results_\n",
    "rfe_selector.cv_results_\n",
    "# plot scores wrt features \n",
    "plt.plot(rfe_selector.cv_results_['mean_test_score'],label='mean')\n",
    "plt.plot(rfe_selector.cv_results_['mean_test_score']+rfe_selector.cv_results_['std_test_score'],label='mean+std')\n",
    "plt.plot(rfe_selector.cv_results_['mean_test_score']-rfe_selector.cv_results_['std_test_score'],label='mean-std')\n",
    "plt.legend()"
   ]
  },
  {
   "cell_type": "markdown",
   "id": "7554e6e8-e7e8-457d-b256-92ac671c5021",
   "metadata": {},
   "source": [
    "#### Select from model- things that give sparse weights/coef (like lasso) or feature importance\n",
    "1. L1 based-- i.e. keep the penalty as L1--- \n",
    "    * svc, logisticreg: classification task \n",
    "    * lasso : regression task\n",
    "\n",
    "2. Tree based- \n",
    "\n",
    "Note: this is basically RFE but without iteration, it removes directly, RFE removes step by step. Hence this is less robust."
   ]
  },
  {
   "cell_type": "code",
   "execution_count": null,
   "id": "4b1cfcd7-b9a6-44df-8577-34a624ff019d",
   "metadata": {},
   "outputs": [],
   "source": [
    "# select from model logistic regression (penalty=L1)"
   ]
  },
  {
   "cell_type": "markdown",
   "id": "afda4b28-2222-413a-8fca-fde7d345b023",
   "metadata": {},
   "source": [
    "#### sequential - forward/ backward\n",
    "\n",
    "https://scikit-learn.org/stable/auto_examples/feature_selection/plot_select_from_model_diabetes.html#sphx-glr-auto-examples-feature-selection-plot-select-from-model-diabetes-py"
   ]
  },
  {
   "cell_type": "markdown",
   "id": "458edfe0-fe52-4098-8875-87895be2203a",
   "metadata": {},
   "source": [
    "## Data Viz"
   ]
  },
  {
   "cell_type": "code",
   "execution_count": null,
   "id": "2bac583c-cbdc-461e-9c64-66af5f16ff3c",
   "metadata": {},
   "outputs": [],
   "source": [
    "# visualize target and selected features, linear non linear relationships\n",
    "# see if transformation helps\n",
    "# corr plot, boxplot with hue, scatterplot with hue"
   ]
  },
  {
   "cell_type": "code",
   "execution_count": 175,
   "id": "099615d7-0a03-4cc4-a41a-d6f392ac10cb",
   "metadata": {},
   "outputs": [],
   "source": [
    "# histogram color coded"
   ]
  },
  {
   "cell_type": "markdown",
   "id": "5d3ea23e-bb11-42f4-9b5d-4563c35b0ca8",
   "metadata": {},
   "source": [
    "## Model Fitting\n",
    "\n",
    "Applying Logistic regression"
   ]
  },
  {
   "cell_type": "code",
   "execution_count": 176,
   "id": "47656e77-eea2-4cae-887e-33bb7183c0de",
   "metadata": {},
   "outputs": [
    {
     "data": {
      "text/plain": [
       "0.9683222526398123"
      ]
     },
     "execution_count": 176,
     "metadata": {},
     "output_type": "execute_result"
    }
   ],
   "source": [
    "# simplest model\n",
    "\n",
    "sum(y==0)/(sum(y==1)+sum(y==0)) # simplest prediction will be to predict all as 0 i.e. not bankrupt\n",
    "# will get ~97% accuracy\n",
    "\n",
    "# need to better this"
   ]
  },
  {
   "cell_type": "code",
   "execution_count": 177,
   "id": "55e54056-24a2-4109-857f-80af129a587e",
   "metadata": {},
   "outputs": [],
   "source": [
    "from sklearn.linear_model import LogisticRegression "
   ]
  },
  {
   "cell_type": "code",
   "execution_count": 286,
   "id": "3988e6b9-9382-4133-893d-52b2ce0fa89a",
   "metadata": {},
   "outputs": [],
   "source": [
    "x1=X_s[X.columns[mask1]]\n",
    "x2=X_s[X.columns[mask2]]\n",
    "x3=X_s[X.columns[mask3]]"
   ]
  },
  {
   "cell_type": "code",
   "execution_count": 287,
   "id": "4fc7949e-56ca-48da-aaaf-933b017f299f",
   "metadata": {},
   "outputs": [
    {
     "data": {
      "text/plain": [
       "RangeIndex(start=0, stop=5114, step=1)"
      ]
     },
     "execution_count": 287,
     "metadata": {},
     "output_type": "execute_result"
    }
   ],
   "source": [
    "x3.index"
   ]
  },
  {
   "cell_type": "code",
   "execution_count": 288,
   "id": "1cbc21b2-989b-4069-b651-399ce740ae92",
   "metadata": {},
   "outputs": [
    {
     "data": {
      "text/html": [
       "<div>\n",
       "<style scoped>\n",
       "    .dataframe tbody tr th:only-of-type {\n",
       "        vertical-align: middle;\n",
       "    }\n",
       "\n",
       "    .dataframe tbody tr th {\n",
       "        vertical-align: top;\n",
       "    }\n",
       "\n",
       "    .dataframe thead th {\n",
       "        text-align: right;\n",
       "    }\n",
       "</style>\n",
       "<table border=\"1\" class=\"dataframe\">\n",
       "  <thead>\n",
       "    <tr style=\"text-align: right;\">\n",
       "      <th></th>\n",
       "      <th>Bankrupt?</th>\n",
       "    </tr>\n",
       "  </thead>\n",
       "  <tbody>\n",
       "    <tr>\n",
       "      <th>0</th>\n",
       "      <td>0</td>\n",
       "    </tr>\n",
       "    <tr>\n",
       "      <th>1</th>\n",
       "      <td>0</td>\n",
       "    </tr>\n",
       "    <tr>\n",
       "      <th>2</th>\n",
       "      <td>0</td>\n",
       "    </tr>\n",
       "    <tr>\n",
       "      <th>3</th>\n",
       "      <td>0</td>\n",
       "    </tr>\n",
       "    <tr>\n",
       "      <th>4</th>\n",
       "      <td>0</td>\n",
       "    </tr>\n",
       "  </tbody>\n",
       "</table>\n",
       "</div>"
      ],
      "text/plain": [
       "   Bankrupt?\n",
       "0          0\n",
       "1          0\n",
       "2          0\n",
       "3          0\n",
       "4          0"
      ]
     },
     "execution_count": 288,
     "metadata": {},
     "output_type": "execute_result"
    }
   ],
   "source": [
    "y=y.reset_index(drop=True) # reset index to match with that of X\n",
    "y.head()"
   ]
  },
  {
   "cell_type": "code",
   "execution_count": 298,
   "id": "02658c80-145a-445f-a3f3-7e4a775fe19c",
   "metadata": {},
   "outputs": [
    {
     "data": {
      "text/plain": [
       "0.8699648025029332"
      ]
     },
     "execution_count": 298,
     "metadata": {},
     "output_type": "execute_result"
    }
   ],
   "source": [
    "model1=LogisticRegression(random_state=42,class_weight='balanced',solver='lbfgs')\n",
    "lr_f1=model1.fit(x1, y.values.ravel())\n",
    "yp1=lr_f1.predict(x1) \n",
    "lr_f1.score(x1,y.values.ravel())"
   ]
  },
  {
   "cell_type": "code",
   "execution_count": 299,
   "id": "0cf505c6-32bc-456d-abc1-a87de5647d5d",
   "metadata": {},
   "outputs": [
    {
     "data": {
      "text/plain": [
       "0.8596010950332421"
      ]
     },
     "execution_count": 299,
     "metadata": {},
     "output_type": "execute_result"
    }
   ],
   "source": [
    "model2=LogisticRegression(random_state=42,class_weight='balanced',solver='lbfgs')\n",
    "lr_f2=model2.fit(x2, y.values.ravel())\n",
    "yp2=lr_f2.predict(x2) \n",
    "lr_f2.score(x2,y.values.ravel())"
   ]
  },
  {
   "cell_type": "code",
   "execution_count": 300,
   "id": "c47d3ac2-7d7b-4d8a-b13d-ba5a4aca2784",
   "metadata": {},
   "outputs": [
    {
     "data": {
      "text/plain": [
       "0.8584278451310129"
      ]
     },
     "metadata": {},
     "output_type": "display_data"
    },
    {
     "data": {
      "text/plain": [
       "array([[-2.47996198, -1.10302011,  0.38325815, -0.05665312]])"
      ]
     },
     "execution_count": 300,
     "metadata": {},
     "output_type": "execute_result"
    }
   ],
   "source": [
    "model3=LogisticRegression(random_state=42,class_weight='balanced',solver='lbfgs')\n",
    "lr_f3=model3.fit(x3, y.values.ravel())\n",
    "yp3=lr_f3.predict(x3) \n",
    "display(lr_f3.score(x3,y.values.ravel()))\n",
    "lr_f3.coef_"
   ]
  },
  {
   "cell_type": "code",
   "execution_count": 351,
   "id": "5c7c3b13-ffff-483f-a4a6-437e5713f523",
   "metadata": {},
   "outputs": [
    {
     "data": {
      "text/plain": [
       "array([[4305,  647],\n",
       "       [  18,  144]], dtype=int64)"
      ]
     },
     "execution_count": 351,
     "metadata": {},
     "output_type": "execute_result"
    }
   ],
   "source": [
    "from sklearn.metrics import confusion_matrix, precision_score, recall_score, f1_score, classification_report, fbeta_score\n",
    "confusion_matrix(y,yp1)"
   ]
  },
  {
   "cell_type": "code",
   "execution_count": 302,
   "id": "aa53b513-cb8c-48ff-a5a0-111846e92b59",
   "metadata": {},
   "outputs": [
    {
     "data": {
      "text/plain": [
       "0.1820480404551201"
      ]
     },
     "execution_count": 302,
     "metadata": {},
     "output_type": "execute_result"
    }
   ],
   "source": [
    "precision_score(y,yp1)"
   ]
  },
  {
   "cell_type": "code",
   "execution_count": 303,
   "id": "f4e1ff27-62b4-42fa-863a-cffbf3687cce",
   "metadata": {},
   "outputs": [
    {
     "data": {
      "text/plain": [
       "0.8888888888888888"
      ]
     },
     "execution_count": 303,
     "metadata": {},
     "output_type": "execute_result"
    }
   ],
   "source": [
    "recall_score(y,yp1)"
   ]
  },
  {
   "cell_type": "code",
   "execution_count": null,
   "id": "09179ff8-679f-4ccf-ae87-d00a962b8a2c",
   "metadata": {},
   "outputs": [],
   "source": []
  },
  {
   "cell_type": "code",
   "execution_count": 317,
   "id": "7d36f2a3-abbf-4a07-9e43-29c17ed9f46e",
   "metadata": {},
   "outputs": [
    {
     "name": "stderr",
     "output_type": "stream",
     "text": [
      "C:\\Users\\prano\\anaconda3\\envs\\finance\\lib\\site-packages\\sklearn\\base.py:450: UserWarning: X does not have valid feature names, but StandardScaler was fitted with feature names\n",
      "  warnings.warn(\n"
     ]
    }
   ],
   "source": [
    "# select models based on test errors (no analysis or tuning with this set)\n",
    "Xt=df_test.drop(y_name,axis=1)\n",
    "yt=df_test[y_name]\n",
    "\n",
    "# standardize\n",
    "Xt=var_sel0.transform(Xt)\n",
    "Xt_s=scaler.transform(Xt)\n",
    "\n",
    "Xt_s=pd.DataFrame(Xt_s,columns=X.columns)\n",
    "\n",
    "#putting the masks\n",
    "xt1=Xt_s[X.columns[mask1]]\n",
    "xt2=Xt_s[X.columns[mask2]]\n",
    "xt3=Xt_s[X.columns[mask3]]\n",
    "\n",
    "yt1=lr_f1.predict(xt1)\n",
    "yt2=lr_f2.predict(xt2) \n",
    "yt3=lr_f3.predict(xt3) "
   ]
  },
  {
   "cell_type": "code",
   "execution_count": 311,
   "id": "0b82e75c-fe31-4e2c-ad12-99b3d1ec43ab",
   "metadata": {},
   "outputs": [
    {
     "data": {
      "text/plain": [
       "(1705, 22)"
      ]
     },
     "execution_count": 311,
     "metadata": {},
     "output_type": "execute_result"
    }
   ],
   "source": [
    "xt1.shape"
   ]
  },
  {
   "cell_type": "code",
   "execution_count": 312,
   "id": "1147a397-f38a-41c4-a175-dd68a269dfe5",
   "metadata": {},
   "outputs": [
    {
     "data": {
      "text/plain": [
       "0.8680351906158358"
      ]
     },
     "execution_count": 312,
     "metadata": {},
     "output_type": "execute_result"
    }
   ],
   "source": [
    "lr_f1.score(xt1,yt)"
   ]
  },
  {
   "cell_type": "code",
   "execution_count": 313,
   "id": "8fa3a520-c196-4a23-8de1-20ddb5157ce5",
   "metadata": {},
   "outputs": [
    {
     "data": {
      "text/plain": [
       "0.864516129032258"
      ]
     },
     "execution_count": 313,
     "metadata": {},
     "output_type": "execute_result"
    }
   ],
   "source": [
    "lr_f2.score(xt2,yt)"
   ]
  },
  {
   "cell_type": "code",
   "execution_count": 314,
   "id": "5244d79f-e319-452e-b78e-a4dc4f30bde9",
   "metadata": {},
   "outputs": [
    {
     "data": {
      "text/plain": [
       "0.8609970674486803"
      ]
     },
     "execution_count": 314,
     "metadata": {},
     "output_type": "execute_result"
    }
   ],
   "source": [
    "lr_f3.score(xt3,yt)"
   ]
  },
  {
   "cell_type": "code",
   "execution_count": 320,
   "id": "459a4e07-87c4-494b-9162-00f69f642690",
   "metadata": {},
   "outputs": [
    {
     "data": {
      "text/plain": [
       "0.18081180811808117"
      ]
     },
     "execution_count": 320,
     "metadata": {},
     "output_type": "execute_result"
    }
   ],
   "source": [
    "precision_score(yt,yt3)"
   ]
  },
  {
   "cell_type": "code",
   "execution_count": 322,
   "id": "bbec1301-1571-4c91-9405-3542fbc481f8",
   "metadata": {},
   "outputs": [
    {
     "data": {
      "text/plain": [
       "0.8620689655172413"
      ]
     },
     "execution_count": 322,
     "metadata": {},
     "output_type": "execute_result"
    }
   ],
   "source": [
    "recall_score(yt,yt3)"
   ]
  },
  {
   "cell_type": "code",
   "execution_count": 327,
   "id": "e7de7f9c-98c7-445f-b98d-9dcb8f335249",
   "metadata": {},
   "outputs": [
    {
     "data": {
      "text/plain": [
       "0.29673590504451036"
      ]
     },
     "execution_count": 327,
     "metadata": {},
     "output_type": "execute_result"
    }
   ],
   "source": [
    "f1_score(yt,yt3)"
   ]
  },
  {
   "cell_type": "code",
   "execution_count": 350,
   "id": "4d2e5430-0641-4bd3-8e83-e8c5327c4d8e",
   "metadata": {},
   "outputs": [
    {
     "name": "stdout",
     "output_type": "stream",
     "text": [
      "              precision    recall  f1-score   support\n",
      "\n",
      "           0       0.99      0.86      0.92      1647\n",
      "           1       0.18      0.86      0.30        58\n",
      "\n",
      "    accuracy                           0.86      1705\n",
      "   macro avg       0.59      0.86      0.61      1705\n",
      "weighted avg       0.97      0.86      0.90      1705\n",
      "\n"
     ]
    }
   ],
   "source": [
    "print(classification_report(yt,yt3))"
   ]
  },
  {
   "cell_type": "code",
   "execution_count": 343,
   "id": "bef799c3-bd09-4ffe-b6e1-e24bf0381dff",
   "metadata": {},
   "outputs": [],
   "source": [
    "y_lazy0=np.zeros(len(yt))\n",
    "y_lazy1=np.ones(len(yt))"
   ]
  },
  {
   "cell_type": "code",
   "execution_count": 346,
   "id": "14c59868-35b8-438b-b253-f992dfa29975",
   "metadata": {
    "collapsed": true,
    "jupyter": {
     "outputs_hidden": true
    },
    "tags": []
   },
   "outputs": [
    {
     "name": "stdout",
     "output_type": "stream",
     "text": [
      "the lazy prediction\n",
      "              precision    recall  f1-score   support\n",
      "\n",
      "           0       0.97      1.00      0.98      1647\n",
      "           1       0.00      0.00      0.00        58\n",
      "\n",
      "    accuracy                           0.97      1705\n",
      "   macro avg       0.48      0.50      0.49      1705\n",
      "weighted avg       0.93      0.97      0.95      1705\n",
      "\n"
     ]
    },
    {
     "name": "stderr",
     "output_type": "stream",
     "text": [
      "C:\\Users\\prano\\anaconda3\\envs\\finance\\lib\\site-packages\\sklearn\\metrics\\_classification.py:1318: UndefinedMetricWarning: Precision and F-score are ill-defined and being set to 0.0 in labels with no predicted samples. Use `zero_division` parameter to control this behavior.\n",
      "  _warn_prf(average, modifier, msg_start, len(result))\n",
      "C:\\Users\\prano\\anaconda3\\envs\\finance\\lib\\site-packages\\sklearn\\metrics\\_classification.py:1318: UndefinedMetricWarning: Precision and F-score are ill-defined and being set to 0.0 in labels with no predicted samples. Use `zero_division` parameter to control this behavior.\n",
      "  _warn_prf(average, modifier, msg_start, len(result))\n",
      "C:\\Users\\prano\\anaconda3\\envs\\finance\\lib\\site-packages\\sklearn\\metrics\\_classification.py:1318: UndefinedMetricWarning: Precision and F-score are ill-defined and being set to 0.0 in labels with no predicted samples. Use `zero_division` parameter to control this behavior.\n",
      "  _warn_prf(average, modifier, msg_start, len(result))\n"
     ]
    }
   ],
   "source": [
    "print('the lazy prediction')\n",
    "print(classification_report(yt,y_lazy0))"
   ]
  },
  {
   "cell_type": "markdown",
   "id": "2e1d6135-8199-4f07-91ad-b5ca28e36ca9",
   "metadata": {},
   "source": [
    "### The Metric\n",
    "**Accuracy** for such an imbalanced data, accuracy is not a good metric for the model. The metric of choice will depend on the task at hand.\n",
    "\n",
    "If we assume the case that we do not want to missclassify a bankrupt company. Then **recall of 1** is a good metric. \n",
    "Since the positive class (bankrupt=1) is more important, and the false negative is more costly (i.e. the failure to recognise a bankrupt company), hence **F2 score** is the preffered metric.\n",
    "\n",
    "\n",
    "Fbeta = ((1 + beta^2) * Precision * Recall) / (beta^2 * Precision + Recall)\n",
    "* F0.5-Measure (beta=0.5): More weight on precision, less weight on recall.\n",
    "* F1-Measure (beta=1.0): Balance the weight on precision and recall.\n",
    "* F2-Measure (beta=2.0): Less weight on precision, more weight on recall"
   ]
  },
  {
   "cell_type": "code",
   "execution_count": 357,
   "id": "61d6f6b4-bc79-48e5-b516-e11ad2d54efd",
   "metadata": {},
   "outputs": [
    {
     "data": {
      "text/plain": [
       "0.0"
      ]
     },
     "execution_count": 357,
     "metadata": {},
     "output_type": "execute_result"
    }
   ],
   "source": [
    "fbeta_score(yt,y_lazy0,beta=2)"
   ]
  },
  {
   "cell_type": "code",
   "execution_count": 361,
   "id": "36498017-b570-454f-b7ba-739cdd57386f",
   "metadata": {},
   "outputs": [
    {
     "data": {
      "text/plain": [
       "0.48923679060665365"
      ]
     },
     "execution_count": 361,
     "metadata": {},
     "output_type": "execute_result"
    }
   ],
   "source": [
    "fbeta_score(yt,yt3,beta=2)"
   ]
  },
  {
   "cell_type": "code",
   "execution_count": null,
   "id": "b8df5554-1f76-430e-a016-5d908422f27f",
   "metadata": {},
   "outputs": [],
   "source": [
    "# improve upon the basic model-- based on inferences from above steps\n",
    "#data transformation, removing outliers(from train), increasing/decreasing features."
   ]
  },
  {
   "cell_type": "markdown",
   "id": "6590a742-2f43-4f1b-a838-aa30afd10de5",
   "metadata": {},
   "source": [
    "### Playing with threshold of probability to improve train error\n",
    "\n",
    "Note: logistic regression regresses on 0 and 1 and predicts the probability of classes 0 and 1. Hence threshold is not a parameter of the model. So, we can apply it during prediction."
   ]
  },
  {
   "cell_type": "code",
   "execution_count": 362,
   "id": "539486b5-2260-44d1-8016-7520a9b79183",
   "metadata": {},
   "outputs": [],
   "source": [
    "ypp3=lr_f3.predict_proba(x3)"
   ]
  },
  {
   "cell_type": "code",
   "execution_count": 375,
   "id": "a03923c9-95c8-4950-885d-3f82a2b781b4",
   "metadata": {},
   "outputs": [
    {
     "data": {
      "text/plain": [
       "162"
      ]
     },
     "execution_count": 375,
     "metadata": {},
     "output_type": "execute_result"
    }
   ],
   "source": [
    "np.sum(y.values)"
   ]
  },
  {
   "cell_type": "code",
   "execution_count": 381,
   "id": "e6dc1235-272e-4f57-8958-e0c30eed8306",
   "metadata": {},
   "outputs": [
    {
     "data": {
      "image/png": "[encoded data removed]",
      "text/plain": [
       "<Figure size 432x288 with 1 Axes>"
      ]
     },
     "metadata": {
      "needs_background": "light"
     },
     "output_type": "display_data"
    }
   ],
   "source": [
    "plt.plot(np.sort(ypp3[:,1])) # probability of 1, ypp3[:,1]\n",
    "plt.axvline(len(y)-np.sum(y.values),color='red',alpha=0.5)# plot a vline at the total number of negatives\n",
    "plt.axhline(0.9,color='gray',alpha=0.2)\n",
    "plt.grid()"
   ]
  },
  {
   "cell_type": "code",
   "execution_count": 417,
   "id": "b11eb79e-1916-44f9-9c3f-0f317448efd1",
   "metadata": {},
   "outputs": [
    {
     "name": "stdout",
     "output_type": "stream",
     "text": [
      "0.4223 0.4\n",
      "0.4379 0.42000000000000004\n",
      "0.4468 0.44000000000000006\n",
      "0.4563 0.4600000000000001\n",
      "0.464 0.4800000000000001\n",
      "0.4671 0.5000000000000001\n",
      "0.4813 0.5200000000000001\n",
      "0.4879 0.5400000000000001\n",
      "0.504 0.5600000000000002\n",
      "0.5008 0.5800000000000002\n",
      "0.5181 0.6000000000000002\n",
      "0.5235 0.6200000000000002\n",
      "0.5191 0.6400000000000002\n",
      "0.5141 0.6600000000000003\n",
      "0.5127 0.6800000000000003\n",
      "0.5014 0.7000000000000003\n",
      "0.5014 0.7200000000000003\n",
      "0.4976 0.7400000000000003\n",
      "0.4956 0.7600000000000003\n",
      "0.496 0.7800000000000004\n"
     ]
    }
   ],
   "source": [
    "thp=np.arange(0.4,0.8,0.02)\n",
    "for t in thp:\n",
    "    yp3=(ypp3[:,1]>t)*1\n",
    "    print(fbeta_score(y,yp3,beta=2).round(4),t)"
   ]
  },
  {
   "cell_type": "markdown",
   "id": "1cb900c9-e2c1-4c01-9d3c-315e674d6acc",
   "metadata": {},
   "source": [
    "## test set on this new threshold"
   ]
  },
  {
   "cell_type": "code",
   "execution_count": 418,
   "id": "87f5a479-7b5c-4d1d-9125-4e92a6d8ecd9",
   "metadata": {},
   "outputs": [
    {
     "data": {
      "text/plain": [
       "0.5402"
      ]
     },
     "execution_count": 418,
     "metadata": {},
     "output_type": "execute_result"
    }
   ],
   "source": [
    "# threshold=0.62 gives max f2 score\n",
    "yppt3=lr_f3.predict_proba(xt3)\n",
    "ypt3=(yppt3[:,1]>0.62)*1\n",
    "fbeta_score(yt,ypt3,beta=2).round(4)"
   ]
  },
  {
   "cell_type": "code",
   "execution_count": 419,
   "id": "b1a04ee7-9d8e-443a-997c-3a13a3eaf444",
   "metadata": {},
   "outputs": [
    {
     "data": {
      "text/plain": [
       "array([[1491,  156],\n",
       "       [  11,   47]], dtype=int64)"
      ]
     },
     "execution_count": 419,
     "metadata": {},
     "output_type": "execute_result"
    }
   ],
   "source": [
    "confusion_matrix(yt,ypt3)"
   ]
  },
  {
   "cell_type": "code",
   "execution_count": 420,
   "id": "bcfadf19-b0a8-41f1-9c59-cc8a78d344c4",
   "metadata": {},
   "outputs": [
    {
     "data": {
      "text/plain": [
       "array([[1418,  229],\n",
       "       [   8,   50]], dtype=int64)"
      ]
     },
     "execution_count": 420,
     "metadata": {},
     "output_type": "execute_result"
    }
   ],
   "source": [
    "# compared to confusion matrix with th=0.5\n",
    "confusion_matrix(yt,yt3)"
   ]
  },
  {
   "cell_type": "code",
   "execution_count": 430,
   "id": "79da8c5d-c7f6-4a6d-868f-1d620849469f",
   "metadata": {},
   "outputs": [
    {
     "name": "stdout",
     "output_type": "stream",
     "text": [
      "              precision    recall  f1-score   support\n",
      "\n",
      "           0       0.99      0.91      0.95      1647\n",
      "           1       0.23      0.81      0.36        58\n",
      "\n",
      "    accuracy                           0.90      1705\n",
      "   macro avg       0.61      0.86      0.65      1705\n",
      "weighted avg       0.97      0.90      0.93      1705\n",
      "\n"
     ]
    }
   ],
   "source": [
    "print(classification_report(yt,ypt3))"
   ]
  },
  {
   "cell_type": "code",
   "execution_count": null,
   "id": "f3eeea7f-4c69-466f-9617-06380ef6c451",
   "metadata": {},
   "outputs": [],
   "source": []
  },
  {
   "cell_type": "markdown",
   "id": "de6de7e4-ef5e-4bdd-8726-9f6a0d3bdfc9",
   "metadata": {},
   "source": [
    "### Summary\n",
    "\n",
    "1. We started with a **95** feature data.\n",
    "2. From feature selection we found some reduced set of features.\n",
    "3. We used LogisticRegression on these sets of features.\n",
    "4. Based on metrics on test data- we chose model with **3** features.\n"
   ]
  },
  {
   "cell_type": "code",
   "execution_count": null,
   "id": "f7b91ceb-ab87-43fc-85bf-ce6782bc6663",
   "metadata": {},
   "outputs": [],
   "source": []
  },
  {
   "cell_type": "code",
   "execution_count": null,
   "id": "a26c892b-f056-45d9-b039-48de61ea31fa",
   "metadata": {},
   "outputs": [],
   "source": []
  }
 ],
 "metadata": {
  "kernelspec": {
   "display_name": "Python 3 (ipykernel)",
   "language": "python",
   "name": "python3"
  },
  "language_info": {
   "codemirror_mode": {
    "name": "ipython",
    "version": 3
   },
   "file_extension": ".py",
   "mimetype": "text/x-python",
   "name": "python",
   "nbconvert_exporter": "python",
   "pygments_lexer": "ipython3",
   "version": "3.8.11"
  },
  "toc-autonumbering": false
 },
 "nbformat": 4,
 "nbformat_minor": 5
}
